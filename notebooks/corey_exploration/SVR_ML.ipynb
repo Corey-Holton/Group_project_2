{
 "cells": [
  {
   "cell_type": "code",
   "execution_count": 2,
   "id": "f420be48-66da-49eb-8c1f-1a1fbd4ff194",
   "metadata": {},
   "outputs": [],
   "source": [
    "# Import dependencies\n",
    "import pandas as pd\n",
    "from sklearn.model_selection import train_test_split, GridSearchCV\n",
    "from sklearn.preprocessing import StandardScaler, LabelEncoder\n",
    "from sklearn.metrics import classification_report, confusion_matrix\n",
    "from sklearn.svm import SVR\n",
    "from pathlib import Path"
   ]
  },
  {
   "cell_type": "code",
   "execution_count": 4,
   "id": "dc6018e3-07fb-4670-8877-4a2976bc5420",
   "metadata": {},
   "outputs": [],
   "source": [
    "# Import data\n",
    "file_path = Path(\"Resources/sp500_adj_close_raw.csv\")\n",
    "df = pd.read_csv(file_path)\n",
    "\n",
    "# Convert date to datetime data type\n",
    "df[\"Date\"] = pd.to_datetime(df[\"Date\"])\n",
    "df.set_index('Date', inplace=True)\n"
   ]
  },
  {
   "cell_type": "code",
   "execution_count": 6,
   "id": "7257bb1a-b1a7-4a40-9111-e4022609f3d0",
   "metadata": {},
   "outputs": [],
   "source": [
    "# Feature engineering\n",
    "df['Year'] = df.index.year\n",
    "df['Month'] = df.index.month\n",
    "df['Day'] = df.index.day\n",
    "df['Day_of_Week'] = df.index.dayofweek"
   ]
  },
  {
   "cell_type": "code",
   "execution_count": 8,
   "id": "8d8db01a-8a56-45a1-a486-87a346cdff02",
   "metadata": {},
   "outputs": [
    {
     "data": {
      "text/html": [
       "<div>\n",
       "<style scoped>\n",
       "    .dataframe tbody tr th:only-of-type {\n",
       "        vertical-align: middle;\n",
       "    }\n",
       "\n",
       "    .dataframe tbody tr th {\n",
       "        vertical-align: top;\n",
       "    }\n",
       "\n",
       "    .dataframe thead th {\n",
       "        text-align: right;\n",
       "    }\n",
       "</style>\n",
       "<table border=\"1\" class=\"dataframe\">\n",
       "  <thead>\n",
       "    <tr style=\"text-align: right;\">\n",
       "      <th></th>\n",
       "      <th>Ticker</th>\n",
       "      <th>Adjusted Close</th>\n",
       "      <th>Next Day Close</th>\n",
       "      <th>Previous Day Close</th>\n",
       "      <th>Return</th>\n",
       "      <th>Volatility</th>\n",
       "      <th>RSI</th>\n",
       "      <th>SMA_50</th>\n",
       "      <th>SMA_100</th>\n",
       "      <th>SMA_200</th>\n",
       "      <th>Upper Band</th>\n",
       "      <th>Lower Band</th>\n",
       "      <th>Support</th>\n",
       "      <th>Resistance</th>\n",
       "      <th>Action</th>\n",
       "      <th>Year</th>\n",
       "      <th>Month</th>\n",
       "      <th>Day</th>\n",
       "      <th>Day_of_Week</th>\n",
       "    </tr>\n",
       "    <tr>\n",
       "      <th>Date</th>\n",
       "      <th></th>\n",
       "      <th></th>\n",
       "      <th></th>\n",
       "      <th></th>\n",
       "      <th></th>\n",
       "      <th></th>\n",
       "      <th></th>\n",
       "      <th></th>\n",
       "      <th></th>\n",
       "      <th></th>\n",
       "      <th></th>\n",
       "      <th></th>\n",
       "      <th></th>\n",
       "      <th></th>\n",
       "      <th></th>\n",
       "      <th></th>\n",
       "      <th></th>\n",
       "      <th></th>\n",
       "      <th></th>\n",
       "    </tr>\n",
       "  </thead>\n",
       "  <tbody>\n",
       "    <tr>\n",
       "      <th>2008-01-02</th>\n",
       "      <td>A</td>\n",
       "      <td>23.256376</td>\n",
       "      <td>23.025747</td>\n",
       "      <td>23.538282</td>\n",
       "      <td>-0.011976</td>\n",
       "      <td>0.015705</td>\n",
       "      <td>48.827477</td>\n",
       "      <td>23.314175</td>\n",
       "      <td>23.299887</td>\n",
       "      <td>23.564934</td>\n",
       "      <td>24.727253</td>\n",
       "      <td>22.540230</td>\n",
       "      <td>21.392036</td>\n",
       "      <td>24.351934</td>\n",
       "      <td>3</td>\n",
       "      <td>2008</td>\n",
       "      <td>1</td>\n",
       "      <td>2</td>\n",
       "      <td>2</td>\n",
       "    </tr>\n",
       "    <tr>\n",
       "      <th>2008-01-02</th>\n",
       "      <td>AAPL</td>\n",
       "      <td>5.876341</td>\n",
       "      <td>5.879056</td>\n",
       "      <td>5.974059</td>\n",
       "      <td>-0.016357</td>\n",
       "      <td>0.018937</td>\n",
       "      <td>59.067276</td>\n",
       "      <td>5.518483</td>\n",
       "      <td>4.939064</td>\n",
       "      <td>4.197630</td>\n",
       "      <td>6.135834</td>\n",
       "      <td>5.403559</td>\n",
       "      <td>4.637375</td>\n",
       "      <td>6.026841</td>\n",
       "      <td>0</td>\n",
       "      <td>2008</td>\n",
       "      <td>1</td>\n",
       "      <td>2</td>\n",
       "      <td>2</td>\n",
       "    </tr>\n",
       "    <tr>\n",
       "      <th>2008-01-02</th>\n",
       "      <td>ABT</td>\n",
       "      <td>18.130210</td>\n",
       "      <td>18.019756</td>\n",
       "      <td>18.240660</td>\n",
       "      <td>-0.006055</td>\n",
       "      <td>0.010484</td>\n",
       "      <td>34.677418</td>\n",
       "      <td>18.138458</td>\n",
       "      <td>17.628250</td>\n",
       "      <td>17.709028</td>\n",
       "      <td>19.233109</td>\n",
       "      <td>18.221804</td>\n",
       "      <td>16.775558</td>\n",
       "      <td>19.134012</td>\n",
       "      <td>3</td>\n",
       "      <td>2008</td>\n",
       "      <td>1</td>\n",
       "      <td>2</td>\n",
       "      <td>2</td>\n",
       "    </tr>\n",
       "    <tr>\n",
       "      <th>2008-01-02</th>\n",
       "      <td>ACGL</td>\n",
       "      <td>7.608889</td>\n",
       "      <td>7.764444</td>\n",
       "      <td>7.816667</td>\n",
       "      <td>-0.026581</td>\n",
       "      <td>0.016022</td>\n",
       "      <td>45.154190</td>\n",
       "      <td>7.785511</td>\n",
       "      <td>7.878933</td>\n",
       "      <td>7.874161</td>\n",
       "      <td>8.114465</td>\n",
       "      <td>7.378535</td>\n",
       "      <td>7.463333</td>\n",
       "      <td>8.307778</td>\n",
       "      <td>0</td>\n",
       "      <td>2008</td>\n",
       "      <td>1</td>\n",
       "      <td>2</td>\n",
       "      <td>2</td>\n",
       "    </tr>\n",
       "    <tr>\n",
       "      <th>2008-01-02</th>\n",
       "      <td>ACN</td>\n",
       "      <td>26.437080</td>\n",
       "      <td>25.982517</td>\n",
       "      <td>26.415075</td>\n",
       "      <td>0.000833</td>\n",
       "      <td>0.024039</td>\n",
       "      <td>54.812250</td>\n",
       "      <td>26.577984</td>\n",
       "      <td>27.784422</td>\n",
       "      <td>28.471031</td>\n",
       "      <td>28.227203</td>\n",
       "      <td>24.273777</td>\n",
       "      <td>24.765512</td>\n",
       "      <td>29.215675</td>\n",
       "      <td>2</td>\n",
       "      <td>2008</td>\n",
       "      <td>1</td>\n",
       "      <td>2</td>\n",
       "      <td>2</td>\n",
       "    </tr>\n",
       "  </tbody>\n",
       "</table>\n",
       "</div>"
      ],
      "text/plain": [
       "           Ticker  Adjusted Close  Next Day Close  Previous Day Close  \\\n",
       "Date                                                                    \n",
       "2008-01-02      A       23.256376       23.025747           23.538282   \n",
       "2008-01-02   AAPL        5.876341        5.879056            5.974059   \n",
       "2008-01-02    ABT       18.130210       18.019756           18.240660   \n",
       "2008-01-02   ACGL        7.608889        7.764444            7.816667   \n",
       "2008-01-02    ACN       26.437080       25.982517           26.415075   \n",
       "\n",
       "              Return  Volatility        RSI     SMA_50    SMA_100    SMA_200  \\\n",
       "Date                                                                           \n",
       "2008-01-02 -0.011976    0.015705  48.827477  23.314175  23.299887  23.564934   \n",
       "2008-01-02 -0.016357    0.018937  59.067276   5.518483   4.939064   4.197630   \n",
       "2008-01-02 -0.006055    0.010484  34.677418  18.138458  17.628250  17.709028   \n",
       "2008-01-02 -0.026581    0.016022  45.154190   7.785511   7.878933   7.874161   \n",
       "2008-01-02  0.000833    0.024039  54.812250  26.577984  27.784422  28.471031   \n",
       "\n",
       "            Upper Band  Lower Band    Support  Resistance  Action  Year  \\\n",
       "Date                                                                      \n",
       "2008-01-02   24.727253   22.540230  21.392036   24.351934       3  2008   \n",
       "2008-01-02    6.135834    5.403559   4.637375    6.026841       0  2008   \n",
       "2008-01-02   19.233109   18.221804  16.775558   19.134012       3  2008   \n",
       "2008-01-02    8.114465    7.378535   7.463333    8.307778       0  2008   \n",
       "2008-01-02   28.227203   24.273777  24.765512   29.215675       2  2008   \n",
       "\n",
       "            Month  Day  Day_of_Week  \n",
       "Date                                 \n",
       "2008-01-02      1    2            2  \n",
       "2008-01-02      1    2            2  \n",
       "2008-01-02      1    2            2  \n",
       "2008-01-02      1    2            2  \n",
       "2008-01-02      1    2            2  "
      ]
     },
     "execution_count": 8,
     "metadata": {},
     "output_type": "execute_result"
    }
   ],
   "source": [
    "# Initialize the LabelEncoder and fit it to the Action column\n",
    "le_action = LabelEncoder()\n",
    "df['Action'] = le_action.fit_transform(df['Action'])\n",
    "df.head()"
   ]
  },
  {
   "cell_type": "code",
   "execution_count": 10,
   "id": "b8c613f6-a9cb-41ad-8188-65d395db1583",
   "metadata": {},
   "outputs": [],
   "source": [
    "# Define X and Y variables for train and test datasets\n",
    "y = df['Action'].astype(int)  # Ensure y is an integer\n",
    "X = df.drop(columns=[\"Action\", \"Previous Day Close\", \"Resistance\", \"Upper Band\", \"SMA_50\", \"SMA_200\", \"Next Day Close\", \"Ticker\"])"
   ]
  },
  {
   "cell_type": "code",
   "execution_count": 12,
   "id": "cbc576fb-1fbd-4850-8a3b-62933d4ada83",
   "metadata": {},
   "outputs": [],
   "source": [
    "# Split the data into training and testing sets\n",
    "X_train, X_test, y_train, y_test = train_test_split(X, y, test_size=0.2, random_state=42)\n"
   ]
  },
  {
   "cell_type": "code",
   "execution_count": 14,
   "id": "1e1b1169-6e2e-4af5-a2f7-460cd8e2acda",
   "metadata": {},
   "outputs": [],
   "source": [
    "# Scale the data using standard scaler\n",
    "scaler = StandardScaler()\n",
    "X_train_scaled = scaler.fit_transform(X_train)\n",
    "X_test_scaled = scaler.transform(X_test)"
   ]
  },
  {
   "cell_type": "code",
   "execution_count": 16,
   "id": "96182a59-dd86-444a-b222-6d0d85b88e19",
   "metadata": {},
   "outputs": [],
   "source": [
    "# Define the parameter grid for GridSearchCV\n",
    "param_grid = {\n",
    "    'C': [0.1, 1, 10],\n",
    "    'epsilon': [0.01, 0.1, 0.5],\n",
    "    'kernel': ['linear', 'rbf']\n",
    "}\n"
   ]
  },
  {
   "cell_type": "code",
   "execution_count": null,
   "id": "d1791b4a-a491-40b2-b9c1-053e4fd495e8",
   "metadata": {},
   "outputs": [
    {
     "name": "stdout",
     "output_type": "stream",
     "text": [
      "Fitting 5 folds for each of 18 candidates, totalling 90 fits\n"
     ]
    }
   ],
   "source": [
    "# Initialize and run GridSearchCV with parallel processing\n",
    "grid_svr = GridSearchCV(SVR(), param_grid, cv=5, scoring='neg_mean_squared_error', verbose=2, n_jobs=-1)\n",
    "grid_svr.fit(X_train_scaled, y_train)"
   ]
  },
  {
   "cell_type": "code",
   "execution_count": null,
   "id": "f7b00c42-bcfb-408b-871a-1082e0c59923",
   "metadata": {},
   "outputs": [],
   "source": [
    "# Best hyperparameters and corresponding score\n",
    "print(\"Best Parameters:\", grid_svr.best_params_)\n",
    "print(\"Best Cross-Validation Score:\", -grid_svr.best_score_)"
   ]
  },
  {
   "cell_type": "code",
   "execution_count": null,
   "id": "a1461492-3379-44d5-9544-9608a371cfdc",
   "metadata": {},
   "outputs": [],
   "source": [
    "# Fit the model with the best found hyperparameters\n",
    "best_svr = grid_svr.best_estimator_\n",
    "best_svr.fit(X_train_scaled, y_train)"
   ]
  },
  {
   "cell_type": "code",
   "execution_count": null,
   "id": "5c35a514-efb4-4099-9d80-caec57ba3970",
   "metadata": {},
   "outputs": [],
   "source": [
    "# Predict on the test set using the best model\n",
    "y_pred = best_svr.predict(X_test_scaled)"
   ]
  },
  {
   "cell_type": "code",
   "execution_count": null,
   "id": "b8699256-352f-4629-b231-7136cb6ccb32",
   "metadata": {},
   "outputs": [],
   "source": [
    "# Evaluate the model\n",
    "mse = mean_squared_error(y_test, y_pred)\n",
    "print(\"Mean Squared Error for Best SVR Model:\", mse)"
   ]
  },
  {
   "cell_type": "code",
   "execution_count": null,
   "id": "c030d080-3984-48a1-82ce-3b09ca4af769",
   "metadata": {},
   "outputs": [],
   "source": [
    "# Predict actions for the last day and export to CSV\n",
    "last_day_svr = df.loc[df.index == df.index.max()].drop(columns=[\"Action\", \"Previous Day Close\", \"Resistance\", \"Upper Band\", \"SMA_50\", \"SMA_200\", \"Next Day Close\"])\n"
   ]
  },
  {
   "cell_type": "code",
   "execution_count": null,
   "id": "acdb87cf-be4a-4d20-8b38-20607c09fde6",
   "metadata": {},
   "outputs": [],
   "source": [
    "# Preserve the Ticker column from the last day\n",
    "last_day_tickers = last_day_svr['Ticker']"
   ]
  },
  {
   "cell_type": "code",
   "execution_count": null,
   "id": "b3cf7200-ee3e-43e6-81ef-653fba84f402",
   "metadata": {},
   "outputs": [],
   "source": [
    "# Drop the Ticker column before scaling\n",
    "X_last_day_svr = last_day_svr.drop(columns=[\"Ticker\"])"
   ]
  },
  {
   "cell_type": "code",
   "execution_count": null,
   "id": "ffc70be5-eb0d-4920-8158-3585d802e0cc",
   "metadata": {},
   "outputs": [],
   "source": [
    "# Standardize the last day data\n",
    "last_day_scaled = scaler.transform(X_last_day_svr)\n",
    "predicted_actions = best_svr.predict(last_day_scaled)"
   ]
  },
  {
   "cell_type": "code",
   "execution_count": null,
   "id": "a67d08bc-ec46-4865-9943-032b28aa43a0",
   "metadata": {},
   "outputs": [],
   "source": [
    "# Add predictions and ticker back to the DataFrame\n",
    "last_day_svr['Predicted_Action'] = predicted_actions\n",
    "last_day_svr['Ticker'] = last_day_tickers"
   ]
  },
  {
   "cell_type": "code",
   "execution_count": null,
   "id": "dc4ea89b-e861-4a29-b3d6-21282624bc25",
   "metadata": {},
   "outputs": [],
   "source": [
    "# Display the last day's predictions with Ticker\n",
    "print(last_day_svr[['Ticker', 'Adjusted Close', 'Predicted_Action']])"
   ]
  },
  {
   "cell_type": "code",
   "execution_count": null,
   "id": "29d4eb76-8eab-450f-bc84-84c191a48838",
   "metadata": {},
   "outputs": [],
   "source": [
    "# Export the predictions\n",
    "last_day_svr.to_csv('predicted_actions_last_day_SVR.csv')"
   ]
  },
  {
   "cell_type": "code",
   "execution_count": null,
   "id": "1a963025-32d0-4cf8-b18d-616fa6a8d60d",
   "metadata": {},
   "outputs": [],
   "source": []
  }
 ],
 "metadata": {
  "kernelspec": {
   "display_name": "Python 3 (ipykernel)",
   "language": "python",
   "name": "python3"
  },
  "language_info": {
   "codemirror_mode": {
    "name": "ipython",
    "version": 3
   },
   "file_extension": ".py",
   "mimetype": "text/x-python",
   "name": "python",
   "nbconvert_exporter": "python",
   "pygments_lexer": "ipython3",
   "version": "3.12.3"
  }
 },
 "nbformat": 4,
 "nbformat_minor": 5
}
