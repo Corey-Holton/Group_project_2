{
 "cells": [
  {
   "cell_type": "code",
   "execution_count": 1,
   "metadata": {},
   "outputs": [
    {
     "name": "stdout",
     "output_type": "stream",
     "text": [
      "Requirement already satisfied: tensorflow in /opt/anaconda3/lib/python3.12/site-packages (2.17.0)\n",
      "Requirement already satisfied: absl-py>=1.0.0 in /opt/anaconda3/lib/python3.12/site-packages (from tensorflow) (2.1.0)\n",
      "Requirement already satisfied: astunparse>=1.6.0 in /opt/anaconda3/lib/python3.12/site-packages (from tensorflow) (1.6.3)\n",
      "Requirement already satisfied: flatbuffers>=24.3.25 in /opt/anaconda3/lib/python3.12/site-packages (from tensorflow) (24.3.25)\n",
      "Requirement already satisfied: gast!=0.5.0,!=0.5.1,!=0.5.2,>=0.2.1 in /opt/anaconda3/lib/python3.12/site-packages (from tensorflow) (0.6.0)\n",
      "Requirement already satisfied: google-pasta>=0.1.1 in /opt/anaconda3/lib/python3.12/site-packages (from tensorflow) (0.2.0)\n",
      "Requirement already satisfied: h5py>=3.10.0 in /opt/anaconda3/lib/python3.12/site-packages (from tensorflow) (3.11.0)\n",
      "Requirement already satisfied: libclang>=13.0.0 in /opt/anaconda3/lib/python3.12/site-packages (from tensorflow) (18.1.1)\n",
      "Requirement already satisfied: ml-dtypes<0.5.0,>=0.3.1 in /opt/anaconda3/lib/python3.12/site-packages (from tensorflow) (0.4.1)\n",
      "Requirement already satisfied: opt-einsum>=2.3.2 in /opt/anaconda3/lib/python3.12/site-packages (from tensorflow) (3.4.0)\n",
      "Requirement already satisfied: packaging in /Users/montredavis/.local/lib/python3.12/site-packages (from tensorflow) (24.1)\n",
      "Requirement already satisfied: protobuf!=4.21.0,!=4.21.1,!=4.21.2,!=4.21.3,!=4.21.4,!=4.21.5,<5.0.0dev,>=3.20.3 in /opt/anaconda3/lib/python3.12/site-packages (from tensorflow) (3.20.3)\n",
      "Requirement already satisfied: requests<3,>=2.21.0 in /opt/anaconda3/lib/python3.12/site-packages (from tensorflow) (2.32.2)\n",
      "Requirement already satisfied: setuptools in /opt/anaconda3/lib/python3.12/site-packages (from tensorflow) (75.1.0)\n",
      "Requirement already satisfied: six>=1.12.0 in /Users/montredavis/.local/lib/python3.12/site-packages (from tensorflow) (1.16.0)\n",
      "Requirement already satisfied: termcolor>=1.1.0 in /opt/anaconda3/lib/python3.12/site-packages (from tensorflow) (2.5.0)\n",
      "Requirement already satisfied: typing-extensions>=3.6.6 in /opt/anaconda3/lib/python3.12/site-packages (from tensorflow) (4.11.0)\n",
      "Requirement already satisfied: wrapt>=1.11.0 in /opt/anaconda3/lib/python3.12/site-packages (from tensorflow) (1.14.1)\n",
      "Requirement already satisfied: grpcio<2.0,>=1.24.3 in /opt/anaconda3/lib/python3.12/site-packages (from tensorflow) (1.66.2)\n",
      "Requirement already satisfied: tensorboard<2.18,>=2.17 in /opt/anaconda3/lib/python3.12/site-packages (from tensorflow) (2.17.1)\n",
      "Requirement already satisfied: keras>=3.2.0 in /opt/anaconda3/lib/python3.12/site-packages (from tensorflow) (3.6.0)\n",
      "Requirement already satisfied: numpy<2.0.0,>=1.26.0 in /opt/anaconda3/lib/python3.12/site-packages (from tensorflow) (1.26.4)\n",
      "Requirement already satisfied: wheel<1.0,>=0.23.0 in /opt/anaconda3/lib/python3.12/site-packages (from astunparse>=1.6.0->tensorflow) (0.43.0)\n",
      "Requirement already satisfied: rich in /opt/anaconda3/lib/python3.12/site-packages (from keras>=3.2.0->tensorflow) (13.8.1)\n",
      "Requirement already satisfied: namex in /opt/anaconda3/lib/python3.12/site-packages (from keras>=3.2.0->tensorflow) (0.0.8)\n",
      "Requirement already satisfied: optree in /opt/anaconda3/lib/python3.12/site-packages (from keras>=3.2.0->tensorflow) (0.13.0)\n",
      "Requirement already satisfied: charset-normalizer<4,>=2 in /opt/anaconda3/lib/python3.12/site-packages (from requests<3,>=2.21.0->tensorflow) (2.0.4)\n",
      "Requirement already satisfied: idna<4,>=2.5 in /opt/anaconda3/lib/python3.12/site-packages (from requests<3,>=2.21.0->tensorflow) (3.7)\n",
      "Requirement already satisfied: urllib3<3,>=1.21.1 in /opt/anaconda3/lib/python3.12/site-packages (from requests<3,>=2.21.0->tensorflow) (2.2.2)\n",
      "Requirement already satisfied: certifi>=2017.4.17 in /opt/anaconda3/lib/python3.12/site-packages (from requests<3,>=2.21.0->tensorflow) (2024.8.30)\n",
      "Requirement already satisfied: markdown>=2.6.8 in /opt/anaconda3/lib/python3.12/site-packages (from tensorboard<2.18,>=2.17->tensorflow) (3.4.1)\n",
      "Requirement already satisfied: tensorboard-data-server<0.8.0,>=0.7.0 in /opt/anaconda3/lib/python3.12/site-packages (from tensorboard<2.18,>=2.17->tensorflow) (0.7.2)\n",
      "Requirement already satisfied: werkzeug>=1.0.1 in /opt/anaconda3/lib/python3.12/site-packages (from tensorboard<2.18,>=2.17->tensorflow) (3.0.3)\n",
      "Requirement already satisfied: MarkupSafe>=2.1.1 in /opt/anaconda3/lib/python3.12/site-packages (from werkzeug>=1.0.1->tensorboard<2.18,>=2.17->tensorflow) (2.1.3)\n",
      "Requirement already satisfied: markdown-it-py>=2.2.0 in /opt/anaconda3/lib/python3.12/site-packages (from rich->keras>=3.2.0->tensorflow) (2.2.0)\n",
      "Requirement already satisfied: pygments<3.0.0,>=2.13.0 in /Users/montredavis/.local/lib/python3.12/site-packages (from rich->keras>=3.2.0->tensorflow) (2.18.0)\n",
      "Requirement already satisfied: mdurl~=0.1 in /opt/anaconda3/lib/python3.12/site-packages (from markdown-it-py>=2.2.0->rich->keras>=3.2.0->tensorflow) (0.1.0)\n",
      "Requirement already satisfied: scikit-learn in /opt/anaconda3/lib/python3.12/site-packages (1.4.2)\n",
      "Requirement already satisfied: numpy>=1.19.5 in /opt/anaconda3/lib/python3.12/site-packages (from scikit-learn) (1.26.4)\n",
      "Requirement already satisfied: scipy>=1.6.0 in /opt/anaconda3/lib/python3.12/site-packages (from scikit-learn) (1.13.1)\n",
      "Requirement already satisfied: joblib>=1.2.0 in /opt/anaconda3/lib/python3.12/site-packages (from scikit-learn) (1.4.2)\n",
      "Requirement already satisfied: threadpoolctl>=2.0.0 in /opt/anaconda3/lib/python3.12/site-packages (from scikit-learn) (3.5.0)\n"
     ]
    }
   ],
   "source": [
    "!pip install tensorflow\n",
    "!pip install scikit-learn"
   ]
  },
  {
   "cell_type": "markdown",
   "metadata": {},
   "source": [
    "# Imports"
   ]
  },
  {
   "cell_type": "code",
   "execution_count": 2,
   "metadata": {},
   "outputs": [],
   "source": [
    "import pandas as pd\n",
    "from sklearn.model_selection import train_test_split\n",
    "from sklearn.preprocessing import StandardScaler\n",
    "import tensorflow as tf\n",
    "from tensorflow.keras.models import Sequential\n",
    "from tensorflow.keras.layers import Dense\n",
    "from sklearn.linear_model import LogisticRegression\n",
    "from sklearn.metrics import mean_squared_error\n"
   ]
  },
  {
   "cell_type": "code",
   "execution_count": 3,
   "metadata": {},
   "outputs": [],
   "source": [
    "import sys\n",
    "sys.path.append('../../') \n",
    "from utilities import dataframe_utils as dfu"
   ]
  },
  {
   "cell_type": "code",
   "execution_count": 4,
   "metadata": {},
   "outputs": [],
   "source": [
    "data_df = pd.read_csv(\"https://project-2-rice.s3.us-east-2.amazonaws.com/sp500_adj_close_raw.csv\")"
   ]
  },
  {
   "cell_type": "code",
   "execution_count": 5,
   "metadata": {},
   "outputs": [
    {
     "data": {
      "text/plain": [
       "(1979679, 14)"
      ]
     },
     "execution_count": 5,
     "metadata": {},
     "output_type": "execute_result"
    }
   ],
   "source": [
    "data_df.shape"
   ]
  },
  {
   "cell_type": "code",
   "execution_count": 6,
   "metadata": {},
   "outputs": [],
   "source": [
    "# remove the last day\n",
    "def split_dataset_by_date(raw_data: pd.DataFrame, todays_date: str):\n",
    "    # Filter data by today's date\n",
    "    filter_data_by_date = raw_data[\"Date\"] == todays_date\n",
    "    \n",
    "    # Create a new dataframe with today's data\n",
    "    todays_data = raw_data[filter_data_by_date].reset_index(drop=True)\n",
    "    \n",
    "    # Create a new dataframe with historical data (excluding today's data)\n",
    "    historical_data = raw_data[~filter_data_by_date].reset_index(drop=True)\n",
    "    \n",
    "    return historical_data, todays_data\n",
    "\n",
    "\n",
    "data_df, todays_data = split_dataset_by_date(data_df, \"2024-10-23\")"
   ]
  },
  {
   "cell_type": "code",
   "execution_count": 7,
   "metadata": {},
   "outputs": [
    {
     "data": {
      "text/html": [
       "<div>\n",
       "<style scoped>\n",
       "    .dataframe tbody tr th:only-of-type {\n",
       "        vertical-align: middle;\n",
       "    }\n",
       "\n",
       "    .dataframe tbody tr th {\n",
       "        vertical-align: top;\n",
       "    }\n",
       "\n",
       "    .dataframe thead th {\n",
       "        text-align: right;\n",
       "    }\n",
       "</style>\n",
       "<table border=\"1\" class=\"dataframe\">\n",
       "  <thead>\n",
       "    <tr style=\"text-align: right;\">\n",
       "      <th></th>\n",
       "      <th>Date</th>\n",
       "      <th>Ticker</th>\n",
       "      <th>Adjusted Close</th>\n",
       "      <th>Return</th>\n",
       "      <th>Volatility</th>\n",
       "      <th>RSI</th>\n",
       "      <th>SMA_50</th>\n",
       "      <th>SMA_100</th>\n",
       "      <th>SMA_200</th>\n",
       "      <th>Upper Band</th>\n",
       "      <th>Lower Band</th>\n",
       "      <th>Support</th>\n",
       "      <th>Resistance</th>\n",
       "      <th>Action</th>\n",
       "    </tr>\n",
       "  </thead>\n",
       "  <tbody>\n",
       "    <tr>\n",
       "      <th>1979177</th>\n",
       "      <td>2024-10-22</td>\n",
       "      <td>ZTS</td>\n",
       "      <td>189.51</td>\n",
       "      <td>-0.002744</td>\n",
       "      <td>0.010508</td>\n",
       "      <td>43.550476</td>\n",
       "      <td>189.202800</td>\n",
       "      <td>182.936800</td>\n",
       "      <td>179.423950</td>\n",
       "      <td>196.46294</td>\n",
       "      <td>186.77606</td>\n",
       "      <td>180.90000</td>\n",
       "      <td>196.48</td>\n",
       "      <td>sell</td>\n",
       "    </tr>\n",
       "    <tr>\n",
       "      <th>1978848</th>\n",
       "      <td>2024-10-22</td>\n",
       "      <td>EVRG</td>\n",
       "      <td>61.51</td>\n",
       "      <td>0.007479</td>\n",
       "      <td>0.007007</td>\n",
       "      <td>52.020184</td>\n",
       "      <td>60.149788</td>\n",
       "      <td>57.229534</td>\n",
       "      <td>53.876423</td>\n",
       "      <td>62.58823</td>\n",
       "      <td>58.86077</td>\n",
       "      <td>57.85000</td>\n",
       "      <td>62.01</td>\n",
       "      <td>hold</td>\n",
       "    </tr>\n",
       "    <tr>\n",
       "      <th>1978835</th>\n",
       "      <td>2024-10-22</td>\n",
       "      <td>EMN</td>\n",
       "      <td>107.06</td>\n",
       "      <td>-0.001214</td>\n",
       "      <td>0.012436</td>\n",
       "      <td>36.939960</td>\n",
       "      <td>104.169580</td>\n",
       "      <td>100.843605</td>\n",
       "      <td>95.823300</td>\n",
       "      <td>113.07432</td>\n",
       "      <td>106.59568</td>\n",
       "      <td>94.85885</td>\n",
       "      <td>113.77</td>\n",
       "      <td>short</td>\n",
       "    </tr>\n",
       "    <tr>\n",
       "      <th>1978836</th>\n",
       "      <td>2024-10-22</td>\n",
       "      <td>EMR</td>\n",
       "      <td>109.48</td>\n",
       "      <td>-0.008951</td>\n",
       "      <td>0.015834</td>\n",
       "      <td>46.884840</td>\n",
       "      <td>105.856200</td>\n",
       "      <td>107.908720</td>\n",
       "      <td>106.833990</td>\n",
       "      <td>113.56785</td>\n",
       "      <td>106.60315</td>\n",
       "      <td>98.19000</td>\n",
       "      <td>112.64</td>\n",
       "      <td>short</td>\n",
       "    </tr>\n",
       "    <tr>\n",
       "      <th>1978837</th>\n",
       "      <td>2024-10-22</td>\n",
       "      <td>ENPH</td>\n",
       "      <td>92.23</td>\n",
       "      <td>-0.149843</td>\n",
       "      <td>0.026403</td>\n",
       "      <td>22.967970</td>\n",
       "      <td>110.297000</td>\n",
       "      <td>111.497600</td>\n",
       "      <td>113.599200</td>\n",
       "      <td>119.76680</td>\n",
       "      <td>85.79620</td>\n",
       "      <td>90.42000</td>\n",
       "      <td>123.65</td>\n",
       "      <td>sell</td>\n",
       "    </tr>\n",
       "  </tbody>\n",
       "</table>\n",
       "</div>"
      ],
      "text/plain": [
       "               Date Ticker  Adjusted Close    Return  Volatility        RSI  \\\n",
       "1979177  2024-10-22    ZTS          189.51 -0.002744    0.010508  43.550476   \n",
       "1978848  2024-10-22   EVRG           61.51  0.007479    0.007007  52.020184   \n",
       "1978835  2024-10-22    EMN          107.06 -0.001214    0.012436  36.939960   \n",
       "1978836  2024-10-22    EMR          109.48 -0.008951    0.015834  46.884840   \n",
       "1978837  2024-10-22   ENPH           92.23 -0.149843    0.026403  22.967970   \n",
       "\n",
       "             SMA_50     SMA_100     SMA_200  Upper Band  Lower Band  \\\n",
       "1979177  189.202800  182.936800  179.423950   196.46294   186.77606   \n",
       "1978848   60.149788   57.229534   53.876423    62.58823    58.86077   \n",
       "1978835  104.169580  100.843605   95.823300   113.07432   106.59568   \n",
       "1978836  105.856200  107.908720  106.833990   113.56785   106.60315   \n",
       "1978837  110.297000  111.497600  113.599200   119.76680    85.79620   \n",
       "\n",
       "           Support  Resistance Action  \n",
       "1979177  180.90000      196.48   sell  \n",
       "1978848   57.85000       62.01   hold  \n",
       "1978835   94.85885      113.77  short  \n",
       "1978836   98.19000      112.64  short  \n",
       "1978837   90.42000      123.65   sell  "
      ]
     },
     "execution_count": 7,
     "metadata": {},
     "output_type": "execute_result"
    }
   ],
   "source": [
    "# # Load stock data\n",
    "data_df.sort_values(by='Date', ascending=False, inplace=True)\n",
    "data_df.head()"
   ]
  },
  {
   "cell_type": "markdown",
   "metadata": {},
   "source": [
    "## Set Indices"
   ]
  },
  {
   "cell_type": "code",
   "execution_count": 8,
   "metadata": {},
   "outputs": [],
   "source": [
    "data_df = data_df.drop(columns=['Action'])\n",
    "data_df.set_index(['Date', 'Ticker'], inplace=True)"
   ]
  },
  {
   "cell_type": "code",
   "execution_count": 9,
   "metadata": {},
   "outputs": [
    {
     "data": {
      "text/html": [
       "<div>\n",
       "<style scoped>\n",
       "    .dataframe tbody tr th:only-of-type {\n",
       "        vertical-align: middle;\n",
       "    }\n",
       "\n",
       "    .dataframe tbody tr th {\n",
       "        vertical-align: top;\n",
       "    }\n",
       "\n",
       "    .dataframe thead th {\n",
       "        text-align: right;\n",
       "    }\n",
       "</style>\n",
       "<table border=\"1\" class=\"dataframe\">\n",
       "  <thead>\n",
       "    <tr style=\"text-align: right;\">\n",
       "      <th></th>\n",
       "      <th></th>\n",
       "      <th>Adjusted Close</th>\n",
       "      <th>Return</th>\n",
       "      <th>Volatility</th>\n",
       "      <th>RSI</th>\n",
       "      <th>SMA_50</th>\n",
       "      <th>SMA_100</th>\n",
       "      <th>SMA_200</th>\n",
       "      <th>Upper Band</th>\n",
       "      <th>Lower Band</th>\n",
       "      <th>Support</th>\n",
       "      <th>Resistance</th>\n",
       "    </tr>\n",
       "    <tr>\n",
       "      <th>Date</th>\n",
       "      <th>Ticker</th>\n",
       "      <th></th>\n",
       "      <th></th>\n",
       "      <th></th>\n",
       "      <th></th>\n",
       "      <th></th>\n",
       "      <th></th>\n",
       "      <th></th>\n",
       "      <th></th>\n",
       "      <th></th>\n",
       "      <th></th>\n",
       "      <th></th>\n",
       "    </tr>\n",
       "  </thead>\n",
       "  <tbody>\n",
       "    <tr>\n",
       "      <th rowspan=\"5\" valign=\"top\">2024-10-22</th>\n",
       "      <th>ZTS</th>\n",
       "      <td>189.51</td>\n",
       "      <td>-0.002744</td>\n",
       "      <td>0.010508</td>\n",
       "      <td>43.550476</td>\n",
       "      <td>189.202800</td>\n",
       "      <td>182.936800</td>\n",
       "      <td>179.423950</td>\n",
       "      <td>196.46294</td>\n",
       "      <td>186.77606</td>\n",
       "      <td>180.90000</td>\n",
       "      <td>196.48</td>\n",
       "    </tr>\n",
       "    <tr>\n",
       "      <th>EVRG</th>\n",
       "      <td>61.51</td>\n",
       "      <td>0.007479</td>\n",
       "      <td>0.007007</td>\n",
       "      <td>52.020184</td>\n",
       "      <td>60.149788</td>\n",
       "      <td>57.229534</td>\n",
       "      <td>53.876423</td>\n",
       "      <td>62.58823</td>\n",
       "      <td>58.86077</td>\n",
       "      <td>57.85000</td>\n",
       "      <td>62.01</td>\n",
       "    </tr>\n",
       "    <tr>\n",
       "      <th>EMN</th>\n",
       "      <td>107.06</td>\n",
       "      <td>-0.001214</td>\n",
       "      <td>0.012436</td>\n",
       "      <td>36.939960</td>\n",
       "      <td>104.169580</td>\n",
       "      <td>100.843605</td>\n",
       "      <td>95.823300</td>\n",
       "      <td>113.07432</td>\n",
       "      <td>106.59568</td>\n",
       "      <td>94.85885</td>\n",
       "      <td>113.77</td>\n",
       "    </tr>\n",
       "    <tr>\n",
       "      <th>EMR</th>\n",
       "      <td>109.48</td>\n",
       "      <td>-0.008951</td>\n",
       "      <td>0.015834</td>\n",
       "      <td>46.884840</td>\n",
       "      <td>105.856200</td>\n",
       "      <td>107.908720</td>\n",
       "      <td>106.833990</td>\n",
       "      <td>113.56785</td>\n",
       "      <td>106.60315</td>\n",
       "      <td>98.19000</td>\n",
       "      <td>112.64</td>\n",
       "    </tr>\n",
       "    <tr>\n",
       "      <th>ENPH</th>\n",
       "      <td>92.23</td>\n",
       "      <td>-0.149843</td>\n",
       "      <td>0.026403</td>\n",
       "      <td>22.967970</td>\n",
       "      <td>110.297000</td>\n",
       "      <td>111.497600</td>\n",
       "      <td>113.599200</td>\n",
       "      <td>119.76680</td>\n",
       "      <td>85.79620</td>\n",
       "      <td>90.42000</td>\n",
       "      <td>123.65</td>\n",
       "    </tr>\n",
       "  </tbody>\n",
       "</table>\n",
       "</div>"
      ],
      "text/plain": [
       "                   Adjusted Close    Return  Volatility        RSI  \\\n",
       "Date       Ticker                                                    \n",
       "2024-10-22 ZTS             189.51 -0.002744    0.010508  43.550476   \n",
       "           EVRG             61.51  0.007479    0.007007  52.020184   \n",
       "           EMN             107.06 -0.001214    0.012436  36.939960   \n",
       "           EMR             109.48 -0.008951    0.015834  46.884840   \n",
       "           ENPH             92.23 -0.149843    0.026403  22.967970   \n",
       "\n",
       "                       SMA_50     SMA_100     SMA_200  Upper Band  Lower Band  \\\n",
       "Date       Ticker                                                               \n",
       "2024-10-22 ZTS     189.202800  182.936800  179.423950   196.46294   186.77606   \n",
       "           EVRG     60.149788   57.229534   53.876423    62.58823    58.86077   \n",
       "           EMN     104.169580  100.843605   95.823300   113.07432   106.59568   \n",
       "           EMR     105.856200  107.908720  106.833990   113.56785   106.60315   \n",
       "           ENPH    110.297000  111.497600  113.599200   119.76680    85.79620   \n",
       "\n",
       "                     Support  Resistance  \n",
       "Date       Ticker                         \n",
       "2024-10-22 ZTS     180.90000      196.48  \n",
       "           EVRG     57.85000       62.01  \n",
       "           EMN      94.85885      113.77  \n",
       "           EMR      98.19000      112.64  \n",
       "           ENPH     90.42000      123.65  "
      ]
     },
     "execution_count": 9,
     "metadata": {},
     "output_type": "execute_result"
    }
   ],
   "source": [
    "data_df.head()"
   ]
  },
  {
   "cell_type": "code",
   "execution_count": 10,
   "metadata": {},
   "outputs": [
    {
     "data": {
      "text/plain": [
       "(1979178, 11)"
      ]
     },
     "execution_count": 10,
     "metadata": {},
     "output_type": "execute_result"
    }
   ],
   "source": [
    "data_df.shape"
   ]
  },
  {
   "cell_type": "code",
   "execution_count": 11,
   "metadata": {},
   "outputs": [],
   "source": [
    "# Drop resistance and sma 50 columns\n",
    "data_df = data_df.drop(columns=['Resistance', 'SMA_50', 'Support'])"
   ]
  },
  {
   "cell_type": "code",
   "execution_count": 12,
   "metadata": {},
   "outputs": [],
   "source": [
    "# Create features and target\n",
    "X = data_df.drop(columns=['Return'])  # 'target' is the column you're predicting\n",
    "y = data_df['Return']\n",
    "\n",
    "\n",
    "# Split data into training and testing sets\n",
    "# this is good for now  - From Metin\n",
    "X_train, X_test, y_train, y_test = train_test_split(X, y, test_size=0.2, random_state=42)\n",
    "\n",
    "# Scale the data (neural networks usually perform better when features are scaled)\n",
    "scaler = StandardScaler()\n",
    "X_train_scaled = scaler.fit_transform(X_train)\n",
    "X_test_scaled = scaler.transform(X_test)\n"
   ]
  },
  {
   "cell_type": "code",
   "execution_count": 13,
   "metadata": {},
   "outputs": [
    {
     "data": {
      "text/html": [
       "<div>\n",
       "<style scoped>\n",
       "    .dataframe tbody tr th:only-of-type {\n",
       "        vertical-align: middle;\n",
       "    }\n",
       "\n",
       "    .dataframe tbody tr th {\n",
       "        vertical-align: top;\n",
       "    }\n",
       "\n",
       "    .dataframe thead th {\n",
       "        text-align: right;\n",
       "    }\n",
       "</style>\n",
       "<table border=\"1\" class=\"dataframe\">\n",
       "  <thead>\n",
       "    <tr style=\"text-align: right;\">\n",
       "      <th></th>\n",
       "      <th></th>\n",
       "      <th>Adjusted Close</th>\n",
       "      <th>Return</th>\n",
       "      <th>Volatility</th>\n",
       "      <th>RSI</th>\n",
       "      <th>SMA_100</th>\n",
       "      <th>SMA_200</th>\n",
       "      <th>Upper Band</th>\n",
       "      <th>Lower Band</th>\n",
       "    </tr>\n",
       "    <tr>\n",
       "      <th>Date</th>\n",
       "      <th>Ticker</th>\n",
       "      <th></th>\n",
       "      <th></th>\n",
       "      <th></th>\n",
       "      <th></th>\n",
       "      <th></th>\n",
       "      <th></th>\n",
       "      <th></th>\n",
       "      <th></th>\n",
       "    </tr>\n",
       "  </thead>\n",
       "  <tbody>\n",
       "    <tr>\n",
       "      <th rowspan=\"5\" valign=\"top\">2024-10-22</th>\n",
       "      <th>ZTS</th>\n",
       "      <td>189.51</td>\n",
       "      <td>-0.002744</td>\n",
       "      <td>0.010508</td>\n",
       "      <td>43.550476</td>\n",
       "      <td>182.936800</td>\n",
       "      <td>179.423950</td>\n",
       "      <td>196.46294</td>\n",
       "      <td>186.77606</td>\n",
       "    </tr>\n",
       "    <tr>\n",
       "      <th>EVRG</th>\n",
       "      <td>61.51</td>\n",
       "      <td>0.007479</td>\n",
       "      <td>0.007007</td>\n",
       "      <td>52.020184</td>\n",
       "      <td>57.229534</td>\n",
       "      <td>53.876423</td>\n",
       "      <td>62.58823</td>\n",
       "      <td>58.86077</td>\n",
       "    </tr>\n",
       "    <tr>\n",
       "      <th>EMN</th>\n",
       "      <td>107.06</td>\n",
       "      <td>-0.001214</td>\n",
       "      <td>0.012436</td>\n",
       "      <td>36.939960</td>\n",
       "      <td>100.843605</td>\n",
       "      <td>95.823300</td>\n",
       "      <td>113.07432</td>\n",
       "      <td>106.59568</td>\n",
       "    </tr>\n",
       "    <tr>\n",
       "      <th>EMR</th>\n",
       "      <td>109.48</td>\n",
       "      <td>-0.008951</td>\n",
       "      <td>0.015834</td>\n",
       "      <td>46.884840</td>\n",
       "      <td>107.908720</td>\n",
       "      <td>106.833990</td>\n",
       "      <td>113.56785</td>\n",
       "      <td>106.60315</td>\n",
       "    </tr>\n",
       "    <tr>\n",
       "      <th>ENPH</th>\n",
       "      <td>92.23</td>\n",
       "      <td>-0.149843</td>\n",
       "      <td>0.026403</td>\n",
       "      <td>22.967970</td>\n",
       "      <td>111.497600</td>\n",
       "      <td>113.599200</td>\n",
       "      <td>119.76680</td>\n",
       "      <td>85.79620</td>\n",
       "    </tr>\n",
       "  </tbody>\n",
       "</table>\n",
       "</div>"
      ],
      "text/plain": [
       "                   Adjusted Close    Return  Volatility        RSI  \\\n",
       "Date       Ticker                                                    \n",
       "2024-10-22 ZTS             189.51 -0.002744    0.010508  43.550476   \n",
       "           EVRG             61.51  0.007479    0.007007  52.020184   \n",
       "           EMN             107.06 -0.001214    0.012436  36.939960   \n",
       "           EMR             109.48 -0.008951    0.015834  46.884840   \n",
       "           ENPH             92.23 -0.149843    0.026403  22.967970   \n",
       "\n",
       "                      SMA_100     SMA_200  Upper Band  Lower Band  \n",
       "Date       Ticker                                                  \n",
       "2024-10-22 ZTS     182.936800  179.423950   196.46294   186.77606  \n",
       "           EVRG     57.229534   53.876423    62.58823    58.86077  \n",
       "           EMN     100.843605   95.823300   113.07432   106.59568  \n",
       "           EMR     107.908720  106.833990   113.56785   106.60315  \n",
       "           ENPH    111.497600  113.599200   119.76680    85.79620  "
      ]
     },
     "execution_count": 13,
     "metadata": {},
     "output_type": "execute_result"
    }
   ],
   "source": [
    "data_df.head()"
   ]
  },
  {
   "cell_type": "markdown",
   "metadata": {},
   "source": [
    "## Neural Networks"
   ]
  },
  {
   "cell_type": "code",
   "execution_count": 14,
   "metadata": {},
   "outputs": [],
   "source": [
    "\n",
    "\n",
    "# Define the neural network architecture\n",
    "# model = Sequential()\n",
    "\n",
    "# # Add layers: Input layer, hidden layers, and output layer\n",
    "# model.add(Dense(64, input_dim=X_train.shape[1], activation='relu'))  # Input layer and first hidden layer\n",
    "# model.add(Dense(32, activation='relu'))  # Second hidden layer\n",
    "# model.add(Dense(1, activation='linear'))  # Output layer for regression\n",
    "\n",
    "# # Compile the model\n",
    "# model.compile(optimizer='adam', loss='mean_squared_error', metrics=['mae'])\n",
    "\n",
    "# # Train the model\n",
    "# history = model.fit(X_train_scaled, y_train, validation_data=(X_test_scaled, y_test), epochs=50, batch_size=32)\n"
   ]
  },
  {
   "cell_type": "code",
   "execution_count": 15,
   "metadata": {},
   "outputs": [],
   "source": [
    "# history.model.summary()"
   ]
  },
  {
   "cell_type": "code",
   "execution_count": 16,
   "metadata": {},
   "outputs": [],
   "source": [
    "# def model_eval(model, X_test_scaled, y_test):\n",
    "#     # Evaluate the model\n",
    "#     train_loss, train_mae = model.predict(X_train_scaled, y_train, verbose=0)\n",
    "#     test_loss, test_mae = model.predict(X_test_scaled, y_test, verbose=0)\n",
    "\n",
    "#     print(f'Training Mean Absolute Error: {train_mae:.2f}')\n",
    "#     print(f'Testing Mean Absolute Error: {test_mae:.2f}')"
   ]
  },
  {
   "cell_type": "code",
   "execution_count": 17,
   "metadata": {},
   "outputs": [],
   "source": [
    "# # Evaluate the model on the test data\n",
    "# test_loss, test_mae = model.evaluate()\n",
    "\n",
    "# # use model predict\n",
    "# # Predict on the test set\n",
    "# y_pred_log_reg = model.predict(X_test_scaled)\n",
    "\n",
    "# # Evaluate logistic regression model\n",
    "# # mse_log_reg = mean_squared_error(y_, y_pred_log_reg)\n",
    "# # print(f\"Logistic Regression Mean Squared Error: {mse_log_reg}\")\n",
    "\n",
    "\n",
    "# # focus on confusion matrix\n",
    "# from sklearn.metrics import confusion_matrix, classification_report\n",
    "# # confusion_matrix(y_test_binary, y_pred_log_reg)\n",
    "# print(classification_report(y_test_binary, y_pred_log_reg))\n",
    "\n",
    "# print(f\"Test Mean Absolute Error: {test_mae}\")\n",
    "# print(f\"Test Loss: {test_loss}\")"
   ]
  },
  {
   "cell_type": "markdown",
   "metadata": {},
   "source": [
    "## Logistic Regression"
   ]
  },
  {
   "cell_type": "code",
   "execution_count": 21,
   "metadata": {},
   "outputs": [
    {
     "name": "stdout",
     "output_type": "stream",
     "text": [
      "              precision    recall  f1-score   support\n",
      "\n",
      "           0       0.51      0.51      0.51    197918\n",
      "           1       0.51      0.50      0.50    197918\n",
      "\n",
      "    accuracy                           0.51    395836\n",
      "   macro avg       0.51      0.51      0.51    395836\n",
      "weighted avg       0.51      0.51      0.51    395836\n",
      "\n"
     ]
    }
   ],
   "source": [
    "\n",
    "\n",
    "# For logistic regression, you might want to binarize the target (e.g., predict up/down movement)\n",
    "y_train_binary = (y_train > y_train.median()).astype(int)\n",
    "y_test_binary = (y_test > y_test.median()).astype(int)\n",
    "# y_train_binary = (y_train > 0).astype(int)\n",
    "# y_test_binary = (y_test > 0).astype(int)\n",
    "\n",
    "# Fit logistic regression model\n",
    "log_reg = LogisticRegression()\n",
    "log_reg.fit(X_train_scaled, y_train_binary)\n",
    "\n",
    "# Predict on the test set\n",
    "y_pred_log_reg = log_reg.predict(X_test_scaled)\n",
    "\n",
    "# Evaluate logistic regression model\n",
    "# mse_log_reg = mean_squared_error(y_test_binary, y_pred_log_reg)\n",
    "# print(f\"Logistic Regression Mean Squared Error: {mse_log_reg}\")\n",
    "\n",
    "\n",
    "# focus on confusion matrix\n",
    "from sklearn.metrics import confusion_matrix, classification_report\n",
    "# confusion_matrix(y_test_binary, y_pred_log_reg)\n",
    "print(classification_report(y_test_binary, y_pred_log_reg))\n",
    "\n",
    "\n",
    "\n",
    "# recall should be somewhere around 50 but it means\n",
    "\n",
    "# todo look up\n",
    "# Jim Simons, the founder of Renaissance Technologies, is a former mathematician and code breaker who founded the hedge fund in 1982. He is known for his quantitative trading strategies and the use of mathematical models to predict price movements in financial markets. Renaissance Technologies is one of the most successful hedge funds in the world, with an average annual return of 66% over a 30-year period. The firm's flagship Medallion Fund has generated returns of over 66% per year since its inception in 1988, making it one of the most successful hedge funds in history. The fund is known for its use of sophisticated computer algorithms and mathematical models to predict price movements in financial markets. The firm's success has made Jim Simons one of the richest people in the world, with an estimated net worth of $23.5 billion."
   ]
  },
  {
   "cell_type": "code",
   "execution_count": 29,
   "metadata": {},
   "outputs": [],
   "source": [
    "# todays_data = todays_data.drop(columns=['Action'])\n",
    "# todays_data.set_index(['Date', 'Ticker'], inplace=True)\n",
    "\n",
    "todays_data.drop(columns=['Resistance', 'SMA_50', 'Support'], inplace=True)\n",
    "\n",
    "# todays_data = todays_data.drop(columns=['Return']) \n",
    "\n",
    "# todays_data\n",
    "\n"
   ]
  },
  {
   "cell_type": "code",
   "execution_count": 30,
   "metadata": {},
   "outputs": [
    {
     "data": {
      "text/plain": [
       "array([1, 0, 1, 0, 0, 1, 0, 1, 1, 1, 0, 0, 0, 1, 1, 1, 0, 1, 1, 0, 1, 1,\n",
       "       0, 0, 1, 1, 1, 1, 1, 0, 1, 0, 0, 1, 0, 0, 1, 1, 0, 0, 1, 0, 0, 0,\n",
       "       1, 1, 1, 0, 1, 1, 0, 0, 1, 0, 1, 0, 0, 1, 1, 0, 0, 1, 1, 0, 1, 1,\n",
       "       0, 0, 1, 0, 0, 0, 1, 0, 1, 1, 0, 0, 1, 1, 0, 1, 1, 1, 1, 1, 0, 0,\n",
       "       0, 0, 1, 0, 1, 1, 0, 0, 0, 1, 0, 1, 1, 0, 1, 1, 0, 0, 0, 1, 1, 1,\n",
       "       1, 0, 0, 0, 1, 1, 0, 1, 1, 1, 0, 1, 1, 1, 0, 0, 0, 1, 1, 1, 0, 0,\n",
       "       1, 0, 1, 1, 0, 0, 1, 0, 0, 1, 1, 0, 0, 0, 0, 1, 0, 0, 1, 0, 0, 1,\n",
       "       1, 1, 1, 1, 1, 1, 1, 1, 1, 0, 0, 1, 1, 0, 0, 0, 0, 0, 0, 1, 1, 0,\n",
       "       1, 0, 1, 0, 1, 0, 0, 0, 1, 0, 1, 0, 0, 1, 1, 1, 0, 1, 0, 1, 0, 0,\n",
       "       1, 1, 1, 0, 0, 1, 0, 0, 0, 0, 1, 1, 1, 0, 1, 0, 0, 1, 1, 0, 0, 1,\n",
       "       1, 0, 1, 0, 0, 0, 1, 0, 0, 1, 1, 1, 0, 0, 0, 0, 0, 1, 1, 0, 1, 1,\n",
       "       1, 0, 0, 1, 1, 1, 0, 0, 0, 1, 1, 0, 0, 0, 0, 1, 0, 0, 0, 0, 1, 0,\n",
       "       1, 0, 0, 0, 1, 1, 0, 1, 1, 0, 0, 0, 0, 1, 0, 0, 0, 1, 0, 1, 0, 1,\n",
       "       1, 0, 0, 1, 0, 1, 0, 0, 0, 0, 1, 1, 1, 0, 1, 1, 0, 0, 1, 1, 1, 1,\n",
       "       0, 0, 0, 1, 0, 1, 1, 1, 1, 1, 1, 1, 1, 0, 0, 0, 0, 0, 1, 1, 0, 0,\n",
       "       0, 1, 1, 0, 0, 0, 1, 1, 0, 1, 0, 1, 0, 1, 0, 1, 0, 1, 0, 0, 1, 0,\n",
       "       1, 1, 0, 0, 1, 1, 0, 1, 1, 0, 0, 0, 1, 0, 0, 0, 1, 1, 1, 1, 0, 1,\n",
       "       0, 0, 0, 0, 1, 0, 1, 1, 0, 0, 1, 1, 0, 0, 0, 1, 1, 0, 0, 1, 0, 0,\n",
       "       0, 1, 1, 1, 1, 1, 0, 0, 1, 0, 0, 0, 1, 1, 1, 0, 0, 1, 0, 0, 0, 1,\n",
       "       0, 1, 1, 0, 1, 1, 1, 1, 1, 0, 0, 1, 0, 0, 1, 0, 1, 1, 1, 0, 1, 1,\n",
       "       1, 1, 0, 1, 0, 1, 0, 0, 1, 1, 0, 0, 0, 1, 1, 1, 0, 0, 0, 0, 1, 1,\n",
       "       1, 1, 0, 0, 0, 0, 1, 1, 0, 1, 1, 0, 1, 0, 0, 1, 0, 1, 0, 1, 1, 0,\n",
       "       0, 0, 0, 0, 0, 0, 1, 1, 1, 1, 1, 1, 1, 1, 1, 0, 1])"
      ]
     },
     "execution_count": 30,
     "metadata": {},
     "output_type": "execute_result"
    }
   ],
   "source": [
    "scaler = StandardScaler()\n",
    "data_scaled = scaler.fit_transform(todays_data)\n",
    "\n",
    "# Predict on the test set\n",
    "today_prediction = log_reg.predict(data_scaled)\n",
    "today_prediction"
   ]
  },
  {
   "cell_type": "code",
   "execution_count": 31,
   "metadata": {},
   "outputs": [
    {
     "data": {
      "text/plain": [
       "501"
      ]
     },
     "execution_count": 31,
     "metadata": {},
     "output_type": "execute_result"
    }
   ],
   "source": [
    "len(today_prediction)"
   ]
  },
  {
   "cell_type": "code",
   "execution_count": 36,
   "metadata": {},
   "outputs": [
    {
     "data": {
      "text/html": [
       "<div>\n",
       "<style scoped>\n",
       "    .dataframe tbody tr th:only-of-type {\n",
       "        vertical-align: middle;\n",
       "    }\n",
       "\n",
       "    .dataframe tbody tr th {\n",
       "        vertical-align: top;\n",
       "    }\n",
       "\n",
       "    .dataframe thead th {\n",
       "        text-align: right;\n",
       "    }\n",
       "</style>\n",
       "<table border=\"1\" class=\"dataframe\">\n",
       "  <thead>\n",
       "    <tr style=\"text-align: right;\">\n",
       "      <th></th>\n",
       "      <th>Ticker</th>\n",
       "      <th>Prediction</th>\n",
       "    </tr>\n",
       "  </thead>\n",
       "  <tbody>\n",
       "    <tr>\n",
       "      <th>0</th>\n",
       "      <td>A</td>\n",
       "      <td>1</td>\n",
       "    </tr>\n",
       "    <tr>\n",
       "      <th>1</th>\n",
       "      <td>AAPL</td>\n",
       "      <td>0</td>\n",
       "    </tr>\n",
       "    <tr>\n",
       "      <th>2</th>\n",
       "      <td>ABBV</td>\n",
       "      <td>1</td>\n",
       "    </tr>\n",
       "    <tr>\n",
       "      <th>3</th>\n",
       "      <td>ABNB</td>\n",
       "      <td>0</td>\n",
       "    </tr>\n",
       "    <tr>\n",
       "      <th>4</th>\n",
       "      <td>ABT</td>\n",
       "      <td>0</td>\n",
       "    </tr>\n",
       "    <tr>\n",
       "      <th>5</th>\n",
       "      <td>ACGL</td>\n",
       "      <td>1</td>\n",
       "    </tr>\n",
       "    <tr>\n",
       "      <th>6</th>\n",
       "      <td>ACN</td>\n",
       "      <td>0</td>\n",
       "    </tr>\n",
       "    <tr>\n",
       "      <th>7</th>\n",
       "      <td>ADBE</td>\n",
       "      <td>1</td>\n",
       "    </tr>\n",
       "    <tr>\n",
       "      <th>8</th>\n",
       "      <td>ADI</td>\n",
       "      <td>1</td>\n",
       "    </tr>\n",
       "    <tr>\n",
       "      <th>9</th>\n",
       "      <td>ADM</td>\n",
       "      <td>1</td>\n",
       "    </tr>\n",
       "    <tr>\n",
       "      <th>10</th>\n",
       "      <td>ADP</td>\n",
       "      <td>0</td>\n",
       "    </tr>\n",
       "    <tr>\n",
       "      <th>11</th>\n",
       "      <td>ADSK</td>\n",
       "      <td>0</td>\n",
       "    </tr>\n",
       "    <tr>\n",
       "      <th>12</th>\n",
       "      <td>AEE</td>\n",
       "      <td>0</td>\n",
       "    </tr>\n",
       "    <tr>\n",
       "      <th>13</th>\n",
       "      <td>AEP</td>\n",
       "      <td>1</td>\n",
       "    </tr>\n",
       "    <tr>\n",
       "      <th>14</th>\n",
       "      <td>AES</td>\n",
       "      <td>1</td>\n",
       "    </tr>\n",
       "    <tr>\n",
       "      <th>15</th>\n",
       "      <td>AFL</td>\n",
       "      <td>1</td>\n",
       "    </tr>\n",
       "    <tr>\n",
       "      <th>16</th>\n",
       "      <td>AIG</td>\n",
       "      <td>0</td>\n",
       "    </tr>\n",
       "    <tr>\n",
       "      <th>17</th>\n",
       "      <td>AIZ</td>\n",
       "      <td>1</td>\n",
       "    </tr>\n",
       "    <tr>\n",
       "      <th>18</th>\n",
       "      <td>AJG</td>\n",
       "      <td>1</td>\n",
       "    </tr>\n",
       "    <tr>\n",
       "      <th>19</th>\n",
       "      <td>AKAM</td>\n",
       "      <td>0</td>\n",
       "    </tr>\n",
       "  </tbody>\n",
       "</table>\n",
       "</div>"
      ],
      "text/plain": [
       "   Ticker  Prediction\n",
       "0       A           1\n",
       "1    AAPL           0\n",
       "2    ABBV           1\n",
       "3    ABNB           0\n",
       "4     ABT           0\n",
       "5    ACGL           1\n",
       "6     ACN           0\n",
       "7    ADBE           1\n",
       "8     ADI           1\n",
       "9     ADM           1\n",
       "10    ADP           0\n",
       "11   ADSK           0\n",
       "12    AEE           0\n",
       "13    AEP           1\n",
       "14    AES           1\n",
       "15    AFL           1\n",
       "16    AIG           0\n",
       "17    AIZ           1\n",
       "18    AJG           1\n",
       "19   AKAM           0"
      ]
     },
     "execution_count": 36,
     "metadata": {},
     "output_type": "execute_result"
    }
   ],
   "source": [
    "prediction_df = pd.DataFrame()\n",
    "prediction_df['Ticker'] = todays_data.index.get_level_values(1)\n",
    "prediction_df['Prediction'] = today_prediction\n",
    "prediction_df.head(20)\n",
    "\n",
    "# prediction_df.to_csv('prediction.csv', index=False)"
   ]
  },
  {
   "cell_type": "markdown",
   "metadata": {},
   "source": [
    "# Look at Cumulative Equity Curve"
   ]
  },
  {
   "cell_type": "code",
   "execution_count": null,
   "metadata": {
    "vscode": {
     "languageId": "ruby"
    }
   },
   "outputs": [],
   "source": [
    "df['realized_return'] = df['Return'] * df['Action'] # buy and sell\n",
    "df['return'] = df['Return'] # HODL buy and hold\n",
    "\n",
    "\n"
   ]
  },
  {
   "cell_type": "markdown",
   "metadata": {},
   "source": [
    "```Example:\n",
    "    Apple return is 5%\n",
    "    5% * 1 = 5%\n",
    "    Apple return is -5% \n",
    "    -5% * 1 = -5%\n",
    "    Apple return is -5%\n",
    "    -5% * -1 = 5%\n",
    "    \n",
    "    daily_return = df['realized_return'].groupby('Date').mean()\n",
    "    cumulative_return = daily_return.cumsum() \n",
    "    1.01 * 1.01 * 1.01 = 1.03```"
   ]
  },
  {
   "cell_type": "markdown",
   "metadata": {},
   "source": [
    "# Confusion Matrix"
   ]
  },
  {
   "cell_type": "code",
   "execution_count": 35,
   "metadata": {},
   "outputs": [
    {
     "data": {
      "image/png": "[encoded data removed]",
      "text/plain": [
       "<Figure size 1000x600 with 1 Axes>"
      ]
     },
     "metadata": {},
     "output_type": "display_data"
    }
   ],
   "source": [
    "import matplotlib.pyplot as plt\n",
    "\n",
    "# Create a scatter plot for visualizing predictions vs true values\n",
    "plt.figure(figsize=(10, 6))\n",
    "plt.scatter(range(len(y_test_binary)), y_test_binary, color='blue', label='True Values', alpha=0.6)\n",
    "plt.scatter(range(len(y_pred_log_reg)), y_pred_log_reg, color='red', label='Predicted Values', alpha=0.6)\n",
    "\n",
    "# Add title and labels\n",
    "plt.title('Logistic Regression: True vs Predicted Values', fontsize=16)\n",
    "plt.xlabel('Test Data Index', fontsize=12)\n",
    "plt.ylabel('Binary Stock Movement (Up/Down)', fontsize=12)\n",
    "plt.legend()\n",
    "\n",
    "# Display the plot\n",
    "plt.show()"
   ]
  },
  {
   "cell_type": "code",
   "execution_count": 25,
   "metadata": {},
   "outputs": [
    {
     "name": "stdout",
     "output_type": "stream",
     "text": [
      "\u001b[1m12373/12373\u001b[0m \u001b[32m━━━━━━━━━━━━━━━━━━━━\u001b[0m\u001b[37m\u001b[0m \u001b[1m3s\u001b[0m 218us/step - loss: 5.0928e-04 - mae: 0.0142\n",
      "Neural Network MAE: 0.014183689840137959\n",
      "Logistic Regression Accuracy: 0.5079406772811768\n"
     ]
    }
   ],
   "source": [
    "# MAE for Neural Network\n",
    "_, neural_net_mae = model.evaluate(X_test_scaled, y_test)\n",
    "\n",
    "# MAE for Logistic Regression (you may need to adjust this to accuracy if it’s a binary classification)\n",
    "from sklearn.metrics import accuracy_score\n",
    "log_reg_accuracy = accuracy_score(y_test_binary, y_pred_log_reg)\n",
    "\n",
    "print(f\"Neural Network MAE: {neural_net_mae}\")\n",
    "print(f\"Logistic Regression Accuracy: {log_reg_accuracy}\")\n"
   ]
  }
 ],
 "metadata": {
  "kernelspec": {
   "display_name": "Python 3 (ipykernel)",
   "language": "python",
   "name": "python3"
  },
  "language_info": {
   "codemirror_mode": {
    "name": "ipython",
    "version": 3
   },
   "file_extension": ".py",
   "mimetype": "text/x-python",
   "name": "python",
   "nbconvert_exporter": "python",
   "pygments_lexer": "ipython3",
   "version": "3.12.3"
  }
 },
 "nbformat": 4,
 "nbformat_minor": 4
}
