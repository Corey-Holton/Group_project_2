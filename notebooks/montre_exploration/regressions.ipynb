{
 "cells": [
  {
   "cell_type": "code",
   "execution_count": 14,
   "metadata": {},
   "outputs": [
    {
     "name": "stdout",
     "output_type": "stream",
     "text": [
      "Requirement already satisfied: tensorflow in /opt/anaconda3/lib/python3.12/site-packages (2.17.0)\n",
      "Requirement already satisfied: absl-py>=1.0.0 in /opt/anaconda3/lib/python3.12/site-packages (from tensorflow) (2.1.0)\n",
      "Requirement already satisfied: astunparse>=1.6.0 in /opt/anaconda3/lib/python3.12/site-packages (from tensorflow) (1.6.3)\n",
      "Requirement already satisfied: flatbuffers>=24.3.25 in /opt/anaconda3/lib/python3.12/site-packages (from tensorflow) (24.3.25)\n",
      "Requirement already satisfied: gast!=0.5.0,!=0.5.1,!=0.5.2,>=0.2.1 in /opt/anaconda3/lib/python3.12/site-packages (from tensorflow) (0.6.0)\n",
      "Requirement already satisfied: google-pasta>=0.1.1 in /opt/anaconda3/lib/python3.12/site-packages (from tensorflow) (0.2.0)\n",
      "Requirement already satisfied: h5py>=3.10.0 in /opt/anaconda3/lib/python3.12/site-packages (from tensorflow) (3.11.0)\n",
      "Requirement already satisfied: libclang>=13.0.0 in /opt/anaconda3/lib/python3.12/site-packages (from tensorflow) (18.1.1)\n",
      "Requirement already satisfied: ml-dtypes<0.5.0,>=0.3.1 in /opt/anaconda3/lib/python3.12/site-packages (from tensorflow) (0.4.1)\n",
      "Requirement already satisfied: opt-einsum>=2.3.2 in /opt/anaconda3/lib/python3.12/site-packages (from tensorflow) (3.4.0)\n",
      "Requirement already satisfied: packaging in /Users/montredavis/.local/lib/python3.12/site-packages (from tensorflow) (24.1)\n",
      "Requirement already satisfied: protobuf!=4.21.0,!=4.21.1,!=4.21.2,!=4.21.3,!=4.21.4,!=4.21.5,<5.0.0dev,>=3.20.3 in /opt/anaconda3/lib/python3.12/site-packages (from tensorflow) (3.20.3)\n",
      "Requirement already satisfied: requests<3,>=2.21.0 in /opt/anaconda3/lib/python3.12/site-packages (from tensorflow) (2.32.2)\n",
      "Requirement already satisfied: setuptools in /opt/anaconda3/lib/python3.12/site-packages (from tensorflow) (75.1.0)\n",
      "Requirement already satisfied: six>=1.12.0 in /Users/montredavis/.local/lib/python3.12/site-packages (from tensorflow) (1.16.0)\n",
      "Requirement already satisfied: termcolor>=1.1.0 in /opt/anaconda3/lib/python3.12/site-packages (from tensorflow) (2.5.0)\n",
      "Requirement already satisfied: typing-extensions>=3.6.6 in /opt/anaconda3/lib/python3.12/site-packages (from tensorflow) (4.11.0)\n",
      "Requirement already satisfied: wrapt>=1.11.0 in /opt/anaconda3/lib/python3.12/site-packages (from tensorflow) (1.14.1)\n",
      "Requirement already satisfied: grpcio<2.0,>=1.24.3 in /opt/anaconda3/lib/python3.12/site-packages (from tensorflow) (1.66.2)\n",
      "Requirement already satisfied: tensorboard<2.18,>=2.17 in /opt/anaconda3/lib/python3.12/site-packages (from tensorflow) (2.17.1)\n",
      "Requirement already satisfied: keras>=3.2.0 in /opt/anaconda3/lib/python3.12/site-packages (from tensorflow) (3.6.0)\n",
      "Requirement already satisfied: numpy<2.0.0,>=1.26.0 in /opt/anaconda3/lib/python3.12/site-packages (from tensorflow) (1.26.4)\n",
      "Requirement already satisfied: wheel<1.0,>=0.23.0 in /opt/anaconda3/lib/python3.12/site-packages (from astunparse>=1.6.0->tensorflow) (0.43.0)\n",
      "Requirement already satisfied: rich in /opt/anaconda3/lib/python3.12/site-packages (from keras>=3.2.0->tensorflow) (13.8.1)\n",
      "Requirement already satisfied: namex in /opt/anaconda3/lib/python3.12/site-packages (from keras>=3.2.0->tensorflow) (0.0.8)\n",
      "Requirement already satisfied: optree in /opt/anaconda3/lib/python3.12/site-packages (from keras>=3.2.0->tensorflow) (0.13.0)\n",
      "Requirement already satisfied: charset-normalizer<4,>=2 in /opt/anaconda3/lib/python3.12/site-packages (from requests<3,>=2.21.0->tensorflow) (2.0.4)\n",
      "Requirement already satisfied: idna<4,>=2.5 in /opt/anaconda3/lib/python3.12/site-packages (from requests<3,>=2.21.0->tensorflow) (3.7)\n",
      "Requirement already satisfied: urllib3<3,>=1.21.1 in /opt/anaconda3/lib/python3.12/site-packages (from requests<3,>=2.21.0->tensorflow) (2.2.2)\n",
      "Requirement already satisfied: certifi>=2017.4.17 in /opt/anaconda3/lib/python3.12/site-packages (from requests<3,>=2.21.0->tensorflow) (2024.8.30)\n",
      "Requirement already satisfied: markdown>=2.6.8 in /opt/anaconda3/lib/python3.12/site-packages (from tensorboard<2.18,>=2.17->tensorflow) (3.4.1)\n",
      "Requirement already satisfied: tensorboard-data-server<0.8.0,>=0.7.0 in /opt/anaconda3/lib/python3.12/site-packages (from tensorboard<2.18,>=2.17->tensorflow) (0.7.2)\n",
      "Requirement already satisfied: werkzeug>=1.0.1 in /opt/anaconda3/lib/python3.12/site-packages (from tensorboard<2.18,>=2.17->tensorflow) (3.0.3)\n",
      "Requirement already satisfied: MarkupSafe>=2.1.1 in /opt/anaconda3/lib/python3.12/site-packages (from werkzeug>=1.0.1->tensorboard<2.18,>=2.17->tensorflow) (2.1.3)\n",
      "Requirement already satisfied: markdown-it-py>=2.2.0 in /opt/anaconda3/lib/python3.12/site-packages (from rich->keras>=3.2.0->tensorflow) (2.2.0)\n",
      "Requirement already satisfied: pygments<3.0.0,>=2.13.0 in /Users/montredavis/.local/lib/python3.12/site-packages (from rich->keras>=3.2.0->tensorflow) (2.18.0)\n",
      "Requirement already satisfied: mdurl~=0.1 in /opt/anaconda3/lib/python3.12/site-packages (from markdown-it-py>=2.2.0->rich->keras>=3.2.0->tensorflow) (0.1.0)\n",
      "Requirement already satisfied: scikit-learn in /opt/anaconda3/lib/python3.12/site-packages (1.4.2)\n",
      "Requirement already satisfied: numpy>=1.19.5 in /opt/anaconda3/lib/python3.12/site-packages (from scikit-learn) (1.26.4)\n",
      "Requirement already satisfied: scipy>=1.6.0 in /opt/anaconda3/lib/python3.12/site-packages (from scikit-learn) (1.13.1)\n",
      "Requirement already satisfied: joblib>=1.2.0 in /opt/anaconda3/lib/python3.12/site-packages (from scikit-learn) (1.4.2)\n",
      "Requirement already satisfied: threadpoolctl>=2.0.0 in /opt/anaconda3/lib/python3.12/site-packages (from scikit-learn) (3.5.0)\n"
     ]
    }
   ],
   "source": [
    "!pip install tensorflow\n",
    "!pip install scikit-learn"
   ]
  },
  {
   "cell_type": "markdown",
   "metadata": {},
   "source": [
    "# Imports"
   ]
  },
  {
   "cell_type": "code",
   "execution_count": 49,
   "metadata": {},
   "outputs": [],
   "source": [
    "import pandas as pd\n",
    "from sklearn.model_selection import train_test_split\n",
    "from sklearn.preprocessing import StandardScaler\n",
    "from sklearn.preprocessing import OneHotEncoder\n",
    "from sklearn.preprocessing import LabelEncoder\n",
    "import tensorflow as tf\n",
    "from tensorflow.keras.models import Sequential\n",
    "from tensorflow.keras.layers import Dense\n",
    "from sklearn.linear_model import LogisticRegression\n",
    "from sklearn.metrics import mean_squared_error\n"
   ]
  },
  {
   "cell_type": "code",
   "execution_count": 50,
   "metadata": {},
   "outputs": [],
   "source": [
    "import sys\n",
    "sys.path.append('../../') \n",
    "from utilities import dataframe_utils as dfu"
   ]
  },
  {
   "cell_type": "code",
   "execution_count": 51,
   "metadata": {},
   "outputs": [
    {
     "name": "stdout",
     "output_type": "stream",
     "text": [
      "\u001b[1m\u001b[32m╔═══════════════════════════════════════════════════════════════╗\u001b[0m\n",
      "\u001b[1m\u001b[32m║\u001b[0m\u001b[1m\u001b[92m     File `test.csv` loaded from `sp500_adj_close_raw.zip`     \u001b[0m\u001b[1m\u001b[32m║\u001b[0m\n",
      "\u001b[1m\u001b[32m╚═══════════════════════════════════════════════════════════════╝\u001b[0m\n"
     ]
    }
   ],
   "source": [
    "data_df = dfu.load_data(\"../../data/raw_data/sp500_adj_close_raw.zip\")\n",
    "# data_df = dfu.load_data(\"../../data/old_data/sp500_adj_close_raw_10_21.zip\")"
   ]
  },
  {
   "cell_type": "code",
   "execution_count": null,
   "metadata": {},
   "outputs": [],
   "source": []
  },
  {
   "cell_type": "code",
   "execution_count": 54,
   "metadata": {},
   "outputs": [
    {
     "data": {
      "text/html": [
       "<div>\n",
       "<style scoped>\n",
       "    .dataframe tbody tr th:only-of-type {\n",
       "        vertical-align: middle;\n",
       "    }\n",
       "\n",
       "    .dataframe tbody tr th {\n",
       "        vertical-align: top;\n",
       "    }\n",
       "\n",
       "    .dataframe thead th {\n",
       "        text-align: right;\n",
       "    }\n",
       "</style>\n",
       "<table border=\"1\" class=\"dataframe\">\n",
       "  <thead>\n",
       "    <tr style=\"text-align: right;\">\n",
       "      <th></th>\n",
       "      <th>Date</th>\n",
       "      <th>Ticker</th>\n",
       "      <th>Adjusted Close</th>\n",
       "      <th>Return</th>\n",
       "      <th>Volatility</th>\n",
       "      <th>RSI</th>\n",
       "      <th>SMA_50</th>\n",
       "      <th>SMA_100</th>\n",
       "      <th>SMA_200</th>\n",
       "      <th>Upper Band</th>\n",
       "      <th>Lower Band</th>\n",
       "      <th>Support</th>\n",
       "      <th>Resistance</th>\n",
       "      <th>Action</th>\n",
       "    </tr>\n",
       "  </thead>\n",
       "  <tbody>\n",
       "    <tr>\n",
       "      <th>0</th>\n",
       "      <td>2023-10-24 00:00:00+00:00</td>\n",
       "      <td>A</td>\n",
       "      <td>104.928497</td>\n",
       "      <td>-0.021204</td>\n",
       "      <td>0.025799</td>\n",
       "      <td>0.0</td>\n",
       "      <td>121.677983</td>\n",
       "      <td>128.300623</td>\n",
       "      <td>133.159750</td>\n",
       "      <td>115.267511</td>\n",
       "      <td>98.748274</td>\n",
       "      <td>100.488594</td>\n",
       "      <td>138.878311</td>\n",
       "      <td>buy</td>\n",
       "    </tr>\n",
       "    <tr>\n",
       "      <th>311</th>\n",
       "      <td>2023-10-24 00:00:00+00:00</td>\n",
       "      <td>MOH</td>\n",
       "      <td>333.769989</td>\n",
       "      <td>0.008030</td>\n",
       "      <td>0.014216</td>\n",
       "      <td>100.0</td>\n",
       "      <td>357.502201</td>\n",
       "      <td>370.563300</td>\n",
       "      <td>354.020950</td>\n",
       "      <td>371.173670</td>\n",
       "      <td>321.991333</td>\n",
       "      <td>327.980011</td>\n",
       "      <td>382.390015</td>\n",
       "      <td>sell</td>\n",
       "    </tr>\n",
       "    <tr>\n",
       "      <th>337</th>\n",
       "      <td>2023-10-24 00:00:00+00:00</td>\n",
       "      <td>NSC</td>\n",
       "      <td>191.539688</td>\n",
       "      <td>-0.053251</td>\n",
       "      <td>0.015819</td>\n",
       "      <td>0.0</td>\n",
       "      <td>210.678894</td>\n",
       "      <td>227.312352</td>\n",
       "      <td>229.523306</td>\n",
       "      <td>209.829507</td>\n",
       "      <td>174.959969</td>\n",
       "      <td>180.110168</td>\n",
       "      <td>232.515091</td>\n",
       "      <td>short</td>\n",
       "    </tr>\n",
       "    <tr>\n",
       "      <th>336</th>\n",
       "      <td>2023-10-24 00:00:00+00:00</td>\n",
       "      <td>NRG</td>\n",
       "      <td>40.927116</td>\n",
       "      <td>-0.005705</td>\n",
       "      <td>0.017718</td>\n",
       "      <td>0.0</td>\n",
       "      <td>46.314433</td>\n",
       "      <td>50.116608</td>\n",
       "      <td>62.858020</td>\n",
       "      <td>48.475337</td>\n",
       "      <td>39.459898</td>\n",
       "      <td>40.528255</td>\n",
       "      <td>50.906609</td>\n",
       "      <td>buy</td>\n",
       "    </tr>\n",
       "    <tr>\n",
       "      <th>335</th>\n",
       "      <td>2023-10-24 00:00:00+00:00</td>\n",
       "      <td>NOW</td>\n",
       "      <td>554.390015</td>\n",
       "      <td>-0.043688</td>\n",
       "      <td>0.016941</td>\n",
       "      <td>0.0</td>\n",
       "      <td>657.594197</td>\n",
       "      <td>709.080998</td>\n",
       "      <td>729.244699</td>\n",
       "      <td>689.153804</td>\n",
       "      <td>526.809190</td>\n",
       "      <td>530.169983</td>\n",
       "      <td>716.479980</td>\n",
       "      <td>buy</td>\n",
       "    </tr>\n",
       "  </tbody>\n",
       "</table>\n",
       "</div>"
      ],
      "text/plain": [
       "                          Date Ticker  Adjusted Close    Return  Volatility  \\\n",
       "0    2023-10-24 00:00:00+00:00      A      104.928497 -0.021204    0.025799   \n",
       "311  2023-10-24 00:00:00+00:00    MOH      333.769989  0.008030    0.014216   \n",
       "337  2023-10-24 00:00:00+00:00    NSC      191.539688 -0.053251    0.015819   \n",
       "336  2023-10-24 00:00:00+00:00    NRG       40.927116 -0.005705    0.017718   \n",
       "335  2023-10-24 00:00:00+00:00    NOW      554.390015 -0.043688    0.016941   \n",
       "\n",
       "       RSI      SMA_50     SMA_100     SMA_200  Upper Band  Lower Band  \\\n",
       "0      0.0  121.677983  128.300623  133.159750  115.267511   98.748274   \n",
       "311  100.0  357.502201  370.563300  354.020950  371.173670  321.991333   \n",
       "337    0.0  210.678894  227.312352  229.523306  209.829507  174.959969   \n",
       "336    0.0   46.314433   50.116608   62.858020   48.475337   39.459898   \n",
       "335    0.0  657.594197  709.080998  729.244699  689.153804  526.809190   \n",
       "\n",
       "        Support  Resistance Action  \n",
       "0    100.488594  138.878311    buy  \n",
       "311  327.980011  382.390015   sell  \n",
       "337  180.110168  232.515091  short  \n",
       "336   40.528255   50.906609    buy  \n",
       "335  530.169983  716.479980    buy  "
      ]
     },
     "execution_count": 54,
     "metadata": {},
     "output_type": "execute_result"
    }
   ],
   "source": [
    "# # Load stock data\n",
    "# data_df = pd.read_csv('/Users/montredavis/Desktop/rice_ai_bootcamp/projects/Group_project_2/data/raw_data/sp500_adj_close_raw.csv', index_col=0)\n",
    "# data_df.head()\n",
    "data_df.sort_values(by='Date', ascending=True, inplace=True)\n",
    "data_df.head()"
   ]
  },
  {
   "cell_type": "markdown",
   "metadata": {},
   "source": [
    "## Set Indices"
   ]
  },
  {
   "cell_type": "code",
   "execution_count": 55,
   "metadata": {},
   "outputs": [],
   "source": [
    "data_df = data_df.drop(columns=['Action'])\n",
    "data_df.set_index(['Date', 'Ticker'], inplace=True)"
   ]
  },
  {
   "cell_type": "code",
   "execution_count": 56,
   "metadata": {},
   "outputs": [
    {
     "data": {
      "text/html": [
       "<div>\n",
       "<style scoped>\n",
       "    .dataframe tbody tr th:only-of-type {\n",
       "        vertical-align: middle;\n",
       "    }\n",
       "\n",
       "    .dataframe tbody tr th {\n",
       "        vertical-align: top;\n",
       "    }\n",
       "\n",
       "    .dataframe thead th {\n",
       "        text-align: right;\n",
       "    }\n",
       "</style>\n",
       "<table border=\"1\" class=\"dataframe\">\n",
       "  <thead>\n",
       "    <tr style=\"text-align: right;\">\n",
       "      <th></th>\n",
       "      <th></th>\n",
       "      <th>Adjusted Close</th>\n",
       "      <th>Return</th>\n",
       "      <th>Volatility</th>\n",
       "      <th>RSI</th>\n",
       "      <th>SMA_50</th>\n",
       "      <th>SMA_100</th>\n",
       "      <th>SMA_200</th>\n",
       "      <th>Upper Band</th>\n",
       "      <th>Lower Band</th>\n",
       "      <th>Support</th>\n",
       "      <th>Resistance</th>\n",
       "    </tr>\n",
       "    <tr>\n",
       "      <th>Date</th>\n",
       "      <th>Ticker</th>\n",
       "      <th></th>\n",
       "      <th></th>\n",
       "      <th></th>\n",
       "      <th></th>\n",
       "      <th></th>\n",
       "      <th></th>\n",
       "      <th></th>\n",
       "      <th></th>\n",
       "      <th></th>\n",
       "      <th></th>\n",
       "      <th></th>\n",
       "    </tr>\n",
       "  </thead>\n",
       "  <tbody>\n",
       "    <tr>\n",
       "      <th rowspan=\"5\" valign=\"top\">2023-10-24 00:00:00+00:00</th>\n",
       "      <th>A</th>\n",
       "      <td>104.928497</td>\n",
       "      <td>-0.021204</td>\n",
       "      <td>0.025799</td>\n",
       "      <td>0.0</td>\n",
       "      <td>121.677983</td>\n",
       "      <td>128.300623</td>\n",
       "      <td>133.159750</td>\n",
       "      <td>115.267511</td>\n",
       "      <td>98.748274</td>\n",
       "      <td>100.488594</td>\n",
       "      <td>138.878311</td>\n",
       "    </tr>\n",
       "    <tr>\n",
       "      <th>MOH</th>\n",
       "      <td>333.769989</td>\n",
       "      <td>0.008030</td>\n",
       "      <td>0.014216</td>\n",
       "      <td>100.0</td>\n",
       "      <td>357.502201</td>\n",
       "      <td>370.563300</td>\n",
       "      <td>354.020950</td>\n",
       "      <td>371.173670</td>\n",
       "      <td>321.991333</td>\n",
       "      <td>327.980011</td>\n",
       "      <td>382.390015</td>\n",
       "    </tr>\n",
       "    <tr>\n",
       "      <th>NSC</th>\n",
       "      <td>191.539688</td>\n",
       "      <td>-0.053251</td>\n",
       "      <td>0.015819</td>\n",
       "      <td>0.0</td>\n",
       "      <td>210.678894</td>\n",
       "      <td>227.312352</td>\n",
       "      <td>229.523306</td>\n",
       "      <td>209.829507</td>\n",
       "      <td>174.959969</td>\n",
       "      <td>180.110168</td>\n",
       "      <td>232.515091</td>\n",
       "    </tr>\n",
       "    <tr>\n",
       "      <th>NRG</th>\n",
       "      <td>40.927116</td>\n",
       "      <td>-0.005705</td>\n",
       "      <td>0.017718</td>\n",
       "      <td>0.0</td>\n",
       "      <td>46.314433</td>\n",
       "      <td>50.116608</td>\n",
       "      <td>62.858020</td>\n",
       "      <td>48.475337</td>\n",
       "      <td>39.459898</td>\n",
       "      <td>40.528255</td>\n",
       "      <td>50.906609</td>\n",
       "    </tr>\n",
       "    <tr>\n",
       "      <th>NOW</th>\n",
       "      <td>554.390015</td>\n",
       "      <td>-0.043688</td>\n",
       "      <td>0.016941</td>\n",
       "      <td>0.0</td>\n",
       "      <td>657.594197</td>\n",
       "      <td>709.080998</td>\n",
       "      <td>729.244699</td>\n",
       "      <td>689.153804</td>\n",
       "      <td>526.809190</td>\n",
       "      <td>530.169983</td>\n",
       "      <td>716.479980</td>\n",
       "    </tr>\n",
       "  </tbody>\n",
       "</table>\n",
       "</div>"
      ],
      "text/plain": [
       "                                  Adjusted Close    Return  Volatility    RSI  \\\n",
       "Date                      Ticker                                                \n",
       "2023-10-24 00:00:00+00:00 A           104.928497 -0.021204    0.025799    0.0   \n",
       "                          MOH         333.769989  0.008030    0.014216  100.0   \n",
       "                          NSC         191.539688 -0.053251    0.015819    0.0   \n",
       "                          NRG          40.927116 -0.005705    0.017718    0.0   \n",
       "                          NOW         554.390015 -0.043688    0.016941    0.0   \n",
       "\n",
       "                                      SMA_50     SMA_100     SMA_200  \\\n",
       "Date                      Ticker                                       \n",
       "2023-10-24 00:00:00+00:00 A       121.677983  128.300623  133.159750   \n",
       "                          MOH     357.502201  370.563300  354.020950   \n",
       "                          NSC     210.678894  227.312352  229.523306   \n",
       "                          NRG      46.314433   50.116608   62.858020   \n",
       "                          NOW     657.594197  709.080998  729.244699   \n",
       "\n",
       "                                  Upper Band  Lower Band     Support  \\\n",
       "Date                      Ticker                                       \n",
       "2023-10-24 00:00:00+00:00 A       115.267511   98.748274  100.488594   \n",
       "                          MOH     371.173670  321.991333  327.980011   \n",
       "                          NSC     209.829507  174.959969  180.110168   \n",
       "                          NRG      48.475337   39.459898   40.528255   \n",
       "                          NOW     689.153804  526.809190  530.169983   \n",
       "\n",
       "                                  Resistance  \n",
       "Date                      Ticker              \n",
       "2023-10-24 00:00:00+00:00 A       138.878311  \n",
       "                          MOH     382.390015  \n",
       "                          NSC     232.515091  \n",
       "                          NRG      50.906609  \n",
       "                          NOW     716.479980  "
      ]
     },
     "execution_count": 56,
     "metadata": {},
     "output_type": "execute_result"
    }
   ],
   "source": [
    "data_df.head()"
   ]
  },
  {
   "cell_type": "code",
   "execution_count": 36,
   "metadata": {},
   "outputs": [
    {
     "data": {
      "text/plain": [
       "(124109, 11)"
      ]
     },
     "execution_count": 36,
     "metadata": {},
     "output_type": "execute_result"
    }
   ],
   "source": [
    "data_df.shape"
   ]
  },
  {
   "cell_type": "code",
   "execution_count": 37,
   "metadata": {},
   "outputs": [],
   "source": [
    "# Create features and target\n",
    "X = data_df.drop(columns=['Return'])  # 'target' is the column you're predicting\n",
    "y = data_df['Return']\n",
    "\n",
    "# Split data into training and testing sets\n",
    "X_train, X_test, y_train, y_test = train_test_split(X, y, test_size=0.2, random_state=42)\n",
    "\n",
    "# Scale the data (neural networks usually perform better when features are scaled)\n",
    "scaler = StandardScaler()\n",
    "X_train_scaled = scaler.fit_transform(X_train)\n",
    "X_test_scaled = scaler.transform(X_test)\n"
   ]
  },
  {
   "cell_type": "markdown",
   "metadata": {},
   "source": [
    "## Neural Networks"
   ]
  },
  {
   "cell_type": "code",
   "execution_count": 32,
   "metadata": {},
   "outputs": [
    {
     "name": "stdout",
     "output_type": "stream",
     "text": [
      "Epoch 1/50\n"
     ]
    },
    {
     "name": "stderr",
     "output_type": "stream",
     "text": [
      "/opt/anaconda3/lib/python3.12/site-packages/keras/src/layers/core/dense.py:87: UserWarning: Do not pass an `input_shape`/`input_dim` argument to a layer. When using Sequential models, prefer using an `Input(shape)` object as the first layer in the model instead.\n",
      "  super().__init__(activity_regularizer=activity_regularizer, **kwargs)\n"
     ]
    },
    {
     "name": "stdout",
     "output_type": "stream",
     "text": [
      "\u001b[1m3103/3103\u001b[0m \u001b[32m━━━━━━━━━━━━━━━━━━━━\u001b[0m\u001b[37m\u001b[0m \u001b[1m2s\u001b[0m 466us/step - loss: 0.0050 - mae: 0.0247 - val_loss: 4.8630e-04 - val_mae: 0.0140\n",
      "Epoch 2/50\n",
      "\u001b[1m3103/3103\u001b[0m \u001b[32m━━━━━━━━━━━━━━━━━━━━\u001b[0m\u001b[37m\u001b[0m \u001b[1m1s\u001b[0m 391us/step - loss: 3.9810e-04 - mae: 0.0131 - val_loss: 3.6058e-04 - val_mae: 0.0126\n",
      "Epoch 3/50\n",
      "\u001b[1m3103/3103\u001b[0m \u001b[32m━━━━━━━━━━━━━━━━━━━━\u001b[0m\u001b[37m\u001b[0m \u001b[1m1s\u001b[0m 388us/step - loss: 4.0064e-04 - mae: 0.0127 - val_loss: 3.9712e-04 - val_mae: 0.0126\n",
      "Epoch 4/50\n",
      "\u001b[1m3103/3103\u001b[0m \u001b[32m━━━━━━━━━━━━━━━━━━━━\u001b[0m\u001b[37m\u001b[0m \u001b[1m1s\u001b[0m 390us/step - loss: 3.2719e-04 - mae: 0.0120 - val_loss: 3.4387e-04 - val_mae: 0.0121\n",
      "Epoch 5/50\n",
      "\u001b[1m3103/3103\u001b[0m \u001b[32m━━━━━━━━━━━━━━━━━━━━\u001b[0m\u001b[37m\u001b[0m \u001b[1m1s\u001b[0m 410us/step - loss: 3.2655e-04 - mae: 0.0119 - val_loss: 3.4054e-04 - val_mae: 0.0121\n",
      "Epoch 6/50\n",
      "\u001b[1m3103/3103\u001b[0m \u001b[32m━━━━━━━━━━━━━━━━━━━━\u001b[0m\u001b[37m\u001b[0m \u001b[1m1s\u001b[0m 390us/step - loss: 3.0839e-04 - mae: 0.0118 - val_loss: 3.4083e-04 - val_mae: 0.0121\n",
      "Epoch 7/50\n",
      "\u001b[1m3103/3103\u001b[0m \u001b[32m━━━━━━━━━━━━━━━━━━━━\u001b[0m\u001b[37m\u001b[0m \u001b[1m1s\u001b[0m 379us/step - loss: 3.5599e-04 - mae: 0.0120 - val_loss: 3.4102e-04 - val_mae: 0.0121\n",
      "Epoch 8/50\n",
      "\u001b[1m3103/3103\u001b[0m \u001b[32m━━━━━━━━━━━━━━━━━━━━\u001b[0m\u001b[37m\u001b[0m \u001b[1m1s\u001b[0m 393us/step - loss: 3.1694e-04 - mae: 0.0119 - val_loss: 3.4062e-04 - val_mae: 0.0121\n",
      "Epoch 9/50\n",
      "\u001b[1m3103/3103\u001b[0m \u001b[32m━━━━━━━━━━━━━━━━━━━━\u001b[0m\u001b[37m\u001b[0m \u001b[1m1s\u001b[0m 399us/step - loss: 3.3315e-04 - mae: 0.0120 - val_loss: 3.4088e-04 - val_mae: 0.0121\n",
      "Epoch 10/50\n",
      "\u001b[1m3103/3103\u001b[0m \u001b[32m━━━━━━━━━━━━━━━━━━━━\u001b[0m\u001b[37m\u001b[0m \u001b[1m1s\u001b[0m 463us/step - loss: 3.2584e-04 - mae: 0.0119 - val_loss: 3.4058e-04 - val_mae: 0.0121\n",
      "Epoch 11/50\n",
      "\u001b[1m3103/3103\u001b[0m \u001b[32m━━━━━━━━━━━━━━━━━━━━\u001b[0m\u001b[37m\u001b[0m \u001b[1m1s\u001b[0m 398us/step - loss: 3.1606e-04 - mae: 0.0118 - val_loss: 3.4520e-04 - val_mae: 0.0122\n",
      "Epoch 12/50\n",
      "\u001b[1m3103/3103\u001b[0m \u001b[32m━━━━━━━━━━━━━━━━━━━━\u001b[0m\u001b[37m\u001b[0m \u001b[1m1s\u001b[0m 401us/step - loss: 3.1890e-04 - mae: 0.0119 - val_loss: 3.4059e-04 - val_mae: 0.0121\n",
      "Epoch 13/50\n",
      "\u001b[1m3103/3103\u001b[0m \u001b[32m━━━━━━━━━━━━━━━━━━━━\u001b[0m\u001b[37m\u001b[0m \u001b[1m1s\u001b[0m 402us/step - loss: 3.1916e-04 - mae: 0.0118 - val_loss: 3.4131e-04 - val_mae: 0.0121\n",
      "Epoch 14/50\n",
      "\u001b[1m3103/3103\u001b[0m \u001b[32m━━━━━━━━━━━━━━━━━━━━\u001b[0m\u001b[37m\u001b[0m \u001b[1m1s\u001b[0m 392us/step - loss: 3.1860e-04 - mae: 0.0119 - val_loss: 3.4483e-04 - val_mae: 0.0122\n",
      "Epoch 15/50\n",
      "\u001b[1m3103/3103\u001b[0m \u001b[32m━━━━━━━━━━━━━━━━━━━━\u001b[0m\u001b[37m\u001b[0m \u001b[1m1s\u001b[0m 429us/step - loss: 3.2947e-04 - mae: 0.0119 - val_loss: 3.4081e-04 - val_mae: 0.0121\n",
      "Epoch 16/50\n",
      "\u001b[1m3103/3103\u001b[0m \u001b[32m━━━━━━━━━━━━━━━━━━━━\u001b[0m\u001b[37m\u001b[0m \u001b[1m1s\u001b[0m 396us/step - loss: 3.2834e-04 - mae: 0.0119 - val_loss: 3.4919e-04 - val_mae: 0.0124\n",
      "Epoch 17/50\n",
      "\u001b[1m3103/3103\u001b[0m \u001b[32m━━━━━━━━━━━━━━━━━━━━\u001b[0m\u001b[37m\u001b[0m \u001b[1m1s\u001b[0m 430us/step - loss: 3.3306e-04 - mae: 0.0120 - val_loss: 3.4055e-04 - val_mae: 0.0121\n",
      "Epoch 18/50\n",
      "\u001b[1m3103/3103\u001b[0m \u001b[32m━━━━━━━━━━━━━━━━━━━━\u001b[0m\u001b[37m\u001b[0m \u001b[1m1s\u001b[0m 402us/step - loss: 3.2976e-04 - mae: 0.0119 - val_loss: 3.4104e-04 - val_mae: 0.0121\n",
      "Epoch 19/50\n",
      "\u001b[1m3103/3103\u001b[0m \u001b[32m━━━━━━━━━━━━━━━━━━━━\u001b[0m\u001b[37m\u001b[0m \u001b[1m1s\u001b[0m 369us/step - loss: 3.2168e-04 - mae: 0.0118 - val_loss: 3.4085e-04 - val_mae: 0.0121\n",
      "Epoch 20/50\n",
      "\u001b[1m3103/3103\u001b[0m \u001b[32m━━━━━━━━━━━━━━━━━━━━\u001b[0m\u001b[37m\u001b[0m \u001b[1m1s\u001b[0m 431us/step - loss: 3.4524e-04 - mae: 0.0120 - val_loss: 3.4053e-04 - val_mae: 0.0121\n",
      "Epoch 21/50\n",
      "\u001b[1m3103/3103\u001b[0m \u001b[32m━━━━━━━━━━━━━━━━━━━━\u001b[0m\u001b[37m\u001b[0m \u001b[1m1s\u001b[0m 424us/step - loss: 3.2511e-04 - mae: 0.0119 - val_loss: 3.4198e-04 - val_mae: 0.0121\n",
      "Epoch 22/50\n",
      "\u001b[1m3103/3103\u001b[0m \u001b[32m━━━━━━━━━━━━━━━━━━━━\u001b[0m\u001b[37m\u001b[0m \u001b[1m1s\u001b[0m 381us/step - loss: 3.2325e-04 - mae: 0.0119 - val_loss: 3.4065e-04 - val_mae: 0.0121\n",
      "Epoch 23/50\n",
      "\u001b[1m3103/3103\u001b[0m \u001b[32m━━━━━━━━━━━━━━━━━━━━\u001b[0m\u001b[37m\u001b[0m \u001b[1m1s\u001b[0m 384us/step - loss: 3.3094e-04 - mae: 0.0120 - val_loss: 3.4564e-04 - val_mae: 0.0123\n",
      "Epoch 24/50\n",
      "\u001b[1m3103/3103\u001b[0m \u001b[32m━━━━━━━━━━━━━━━━━━━━\u001b[0m\u001b[37m\u001b[0m \u001b[1m1s\u001b[0m 396us/step - loss: 3.2081e-04 - mae: 0.0120 - val_loss: 3.4053e-04 - val_mae: 0.0121\n",
      "Epoch 25/50\n",
      "\u001b[1m3103/3103\u001b[0m \u001b[32m━━━━━━━━━━━━━━━━━━━━\u001b[0m\u001b[37m\u001b[0m \u001b[1m1s\u001b[0m 403us/step - loss: 3.1599e-04 - mae: 0.0118 - val_loss: 3.4156e-04 - val_mae: 0.0121\n",
      "Epoch 26/50\n",
      "\u001b[1m3103/3103\u001b[0m \u001b[32m━━━━━━━━━━━━━━━━━━━━\u001b[0m\u001b[37m\u001b[0m \u001b[1m1s\u001b[0m 390us/step - loss: 3.2907e-04 - mae: 0.0119 - val_loss: 3.4398e-04 - val_mae: 0.0121\n",
      "Epoch 27/50\n",
      "\u001b[1m3103/3103\u001b[0m \u001b[32m━━━━━━━━━━━━━━━━━━━━\u001b[0m\u001b[37m\u001b[0m \u001b[1m1s\u001b[0m 429us/step - loss: 3.1530e-04 - mae: 0.0118 - val_loss: 3.4227e-04 - val_mae: 0.0121\n",
      "Epoch 28/50\n",
      "\u001b[1m3103/3103\u001b[0m \u001b[32m━━━━━━━━━━━━━━━━━━━━\u001b[0m\u001b[37m\u001b[0m \u001b[1m1s\u001b[0m 399us/step - loss: 3.3203e-04 - mae: 0.0120 - val_loss: 3.4569e-04 - val_mae: 0.0122\n",
      "Epoch 29/50\n",
      "\u001b[1m3103/3103\u001b[0m \u001b[32m━━━━━━━━━━━━━━━━━━━━\u001b[0m\u001b[37m\u001b[0m \u001b[1m1s\u001b[0m 391us/step - loss: 3.1829e-04 - mae: 0.0119 - val_loss: 3.4057e-04 - val_mae: 0.0121\n",
      "Epoch 30/50\n",
      "\u001b[1m3103/3103\u001b[0m \u001b[32m━━━━━━━━━━━━━━━━━━━━\u001b[0m\u001b[37m\u001b[0m \u001b[1m1s\u001b[0m 367us/step - loss: 3.2429e-04 - mae: 0.0119 - val_loss: 3.4063e-04 - val_mae: 0.0121\n",
      "Epoch 31/50\n",
      "\u001b[1m3103/3103\u001b[0m \u001b[32m━━━━━━━━━━━━━━━━━━━━\u001b[0m\u001b[37m\u001b[0m \u001b[1m1s\u001b[0m 383us/step - loss: 3.2071e-04 - mae: 0.0118 - val_loss: 3.4054e-04 - val_mae: 0.0121\n",
      "Epoch 32/50\n",
      "\u001b[1m3103/3103\u001b[0m \u001b[32m━━━━━━━━━━━━━━━━━━━━\u001b[0m\u001b[37m\u001b[0m \u001b[1m1s\u001b[0m 434us/step - loss: 3.1084e-04 - mae: 0.0118 - val_loss: 3.4118e-04 - val_mae: 0.0121\n",
      "Epoch 33/50\n",
      "\u001b[1m3103/3103\u001b[0m \u001b[32m━━━━━━━━━━━━━━━━━━━━\u001b[0m\u001b[37m\u001b[0m \u001b[1m1s\u001b[0m 421us/step - loss: 3.2470e-04 - mae: 0.0119 - val_loss: 3.4053e-04 - val_mae: 0.0121\n",
      "Epoch 34/50\n",
      "\u001b[1m3103/3103\u001b[0m \u001b[32m━━━━━━━━━━━━━━━━━━━━\u001b[0m\u001b[37m\u001b[0m \u001b[1m1s\u001b[0m 384us/step - loss: 3.2703e-04 - mae: 0.0119 - val_loss: 3.4346e-04 - val_mae: 0.0121\n",
      "Epoch 35/50\n",
      "\u001b[1m3103/3103\u001b[0m \u001b[32m━━━━━━━━━━━━━━━━━━━━\u001b[0m\u001b[37m\u001b[0m \u001b[1m1s\u001b[0m 423us/step - loss: 3.2843e-04 - mae: 0.0119 - val_loss: 3.4080e-04 - val_mae: 0.0121\n",
      "Epoch 36/50\n",
      "\u001b[1m3103/3103\u001b[0m \u001b[32m━━━━━━━━━━━━━━━━━━━━\u001b[0m\u001b[37m\u001b[0m \u001b[1m1s\u001b[0m 386us/step - loss: 3.2949e-04 - mae: 0.0119 - val_loss: 3.4238e-04 - val_mae: 0.0121\n",
      "Epoch 37/50\n",
      "\u001b[1m3103/3103\u001b[0m \u001b[32m━━━━━━━━━━━━━━━━━━━━\u001b[0m\u001b[37m\u001b[0m \u001b[1m1s\u001b[0m 378us/step - loss: 3.2673e-04 - mae: 0.0119 - val_loss: 3.4067e-04 - val_mae: 0.0121\n",
      "Epoch 38/50\n",
      "\u001b[1m3103/3103\u001b[0m \u001b[32m━━━━━━━━━━━━━━━━━━━━\u001b[0m\u001b[37m\u001b[0m \u001b[1m1s\u001b[0m 376us/step - loss: 3.3288e-04 - mae: 0.0119 - val_loss: 3.4529e-04 - val_mae: 0.0122\n",
      "Epoch 39/50\n",
      "\u001b[1m3103/3103\u001b[0m \u001b[32m━━━━━━━━━━━━━━━━━━━━\u001b[0m\u001b[37m\u001b[0m \u001b[1m1s\u001b[0m 434us/step - loss: 3.2965e-04 - mae: 0.0119 - val_loss: 3.4176e-04 - val_mae: 0.0121\n",
      "Epoch 40/50\n",
      "\u001b[1m3103/3103\u001b[0m \u001b[32m━━━━━━━━━━━━━━━━━━━━\u001b[0m\u001b[37m\u001b[0m \u001b[1m1s\u001b[0m 360us/step - loss: 3.2515e-04 - mae: 0.0119 - val_loss: 3.4138e-04 - val_mae: 0.0121\n",
      "Epoch 41/50\n",
      "\u001b[1m3103/3103\u001b[0m \u001b[32m━━━━━━━━━━━━━━━━━━━━\u001b[0m\u001b[37m\u001b[0m \u001b[1m1s\u001b[0m 367us/step - loss: 3.2537e-04 - mae: 0.0119 - val_loss: 3.4521e-04 - val_mae: 0.0122\n",
      "Epoch 42/50\n",
      "\u001b[1m3103/3103\u001b[0m \u001b[32m━━━━━━━━━━━━━━━━━━━━\u001b[0m\u001b[37m\u001b[0m \u001b[1m1s\u001b[0m 413us/step - loss: 3.1371e-04 - mae: 0.0118 - val_loss: 3.4110e-04 - val_mae: 0.0121\n",
      "Epoch 43/50\n",
      "\u001b[1m3103/3103\u001b[0m \u001b[32m━━━━━━━━━━━━━━━━━━━━\u001b[0m\u001b[37m\u001b[0m \u001b[1m1s\u001b[0m 398us/step - loss: 3.2871e-04 - mae: 0.0119 - val_loss: 3.4075e-04 - val_mae: 0.0121\n",
      "Epoch 44/50\n",
      "\u001b[1m3103/3103\u001b[0m \u001b[32m━━━━━━━━━━━━━━━━━━━━\u001b[0m\u001b[37m\u001b[0m \u001b[1m1s\u001b[0m 387us/step - loss: 3.2569e-04 - mae: 0.0119 - val_loss: 3.4149e-04 - val_mae: 0.0121\n",
      "Epoch 45/50\n",
      "\u001b[1m3103/3103\u001b[0m \u001b[32m━━━━━━━━━━━━━━━━━━━━\u001b[0m\u001b[37m\u001b[0m \u001b[1m1s\u001b[0m 375us/step - loss: 3.3606e-04 - mae: 0.0120 - val_loss: 3.4053e-04 - val_mae: 0.0121\n",
      "Epoch 46/50\n",
      "\u001b[1m3103/3103\u001b[0m \u001b[32m━━━━━━━━━━━━━━━━━━━━\u001b[0m\u001b[37m\u001b[0m \u001b[1m1s\u001b[0m 370us/step - loss: 3.1707e-04 - mae: 0.0119 - val_loss: 3.4056e-04 - val_mae: 0.0121\n",
      "Epoch 47/50\n",
      "\u001b[1m3103/3103\u001b[0m \u001b[32m━━━━━━━━━━━━━━━━━━━━\u001b[0m\u001b[37m\u001b[0m \u001b[1m1s\u001b[0m 434us/step - loss: 3.2006e-04 - mae: 0.0119 - val_loss: 3.4053e-04 - val_mae: 0.0121\n",
      "Epoch 48/50\n",
      "\u001b[1m3103/3103\u001b[0m \u001b[32m━━━━━━━━━━━━━━━━━━━━\u001b[0m\u001b[37m\u001b[0m \u001b[1m1s\u001b[0m 384us/step - loss: 3.2693e-04 - mae: 0.0119 - val_loss: 3.5143e-04 - val_mae: 0.0124\n",
      "Epoch 49/50\n",
      "\u001b[1m3103/3103\u001b[0m \u001b[32m━━━━━━━━━━━━━━━━━━━━\u001b[0m\u001b[37m\u001b[0m \u001b[1m1s\u001b[0m 396us/step - loss: 3.2216e-04 - mae: 0.0119 - val_loss: 3.4080e-04 - val_mae: 0.0121\n",
      "Epoch 50/50\n",
      "\u001b[1m3103/3103\u001b[0m \u001b[32m━━━━━━━━━━━━━━━━━━━━\u001b[0m\u001b[37m\u001b[0m \u001b[1m1s\u001b[0m 415us/step - loss: 3.1568e-04 - mae: 0.0118 - val_loss: 3.4356e-04 - val_mae: 0.0121\n"
     ]
    }
   ],
   "source": [
    "\n",
    "\n",
    "# Define the neural network architecture\n",
    "model = Sequential()\n",
    "\n",
    "# Add layers: Input layer, hidden layers, and output layer\n",
    "model.add(Dense(64, input_dim=X_train.shape[1], activation='relu'))  # Input layer and first hidden layer\n",
    "model.add(Dense(32, activation='relu'))  # Second hidden layer\n",
    "model.add(Dense(1, activation='linear'))  # Output layer for regression\n",
    "\n",
    "# Compile the model\n",
    "model.compile(optimizer='adam', loss='mean_squared_error', metrics=['mae'])\n",
    "\n",
    "# Train the model\n",
    "history = model.fit(X_train_scaled, y_train, validation_data=(X_test_scaled, y_test), epochs=50, batch_size=32)\n"
   ]
  },
  {
   "cell_type": "code",
   "execution_count": 33,
   "metadata": {},
   "outputs": [
    {
     "data": {
      "text/html": [
       "<pre style=\"white-space:pre;overflow-x:auto;line-height:normal;font-family:Menlo,'DejaVu Sans Mono',consolas,'Courier New',monospace\"><span style=\"font-weight: bold\">Model: \"sequential\"</span>\n",
       "</pre>\n"
      ],
      "text/plain": [
       "\u001b[1mModel: \"sequential\"\u001b[0m\n"
      ]
     },
     "metadata": {},
     "output_type": "display_data"
    },
    {
     "data": {
      "text/html": [
       "<pre style=\"white-space:pre;overflow-x:auto;line-height:normal;font-family:Menlo,'DejaVu Sans Mono',consolas,'Courier New',monospace\">┏━━━━━━━━━━━━━━━━━━━━━━━━━━━━━━━━━┳━━━━━━━━━━━━━━━━━━━━━━━━┳━━━━━━━━━━━━━━━┓\n",
       "┃<span style=\"font-weight: bold\"> Layer (type)                    </span>┃<span style=\"font-weight: bold\"> Output Shape           </span>┃<span style=\"font-weight: bold\">       Param # </span>┃\n",
       "┡━━━━━━━━━━━━━━━━━━━━━━━━━━━━━━━━━╇━━━━━━━━━━━━━━━━━━━━━━━━╇━━━━━━━━━━━━━━━┩\n",
       "│ dense (<span style=\"color: #0087ff; text-decoration-color: #0087ff\">Dense</span>)                   │ (<span style=\"color: #00d7ff; text-decoration-color: #00d7ff\">None</span>, <span style=\"color: #00af00; text-decoration-color: #00af00\">64</span>)             │           <span style=\"color: #00af00; text-decoration-color: #00af00\">704</span> │\n",
       "├─────────────────────────────────┼────────────────────────┼───────────────┤\n",
       "│ dense_1 (<span style=\"color: #0087ff; text-decoration-color: #0087ff\">Dense</span>)                 │ (<span style=\"color: #00d7ff; text-decoration-color: #00d7ff\">None</span>, <span style=\"color: #00af00; text-decoration-color: #00af00\">32</span>)             │         <span style=\"color: #00af00; text-decoration-color: #00af00\">2,080</span> │\n",
       "├─────────────────────────────────┼────────────────────────┼───────────────┤\n",
       "│ dense_2 (<span style=\"color: #0087ff; text-decoration-color: #0087ff\">Dense</span>)                 │ (<span style=\"color: #00d7ff; text-decoration-color: #00d7ff\">None</span>, <span style=\"color: #00af00; text-decoration-color: #00af00\">1</span>)              │            <span style=\"color: #00af00; text-decoration-color: #00af00\">33</span> │\n",
       "└─────────────────────────────────┴────────────────────────┴───────────────┘\n",
       "</pre>\n"
      ],
      "text/plain": [
       "┏━━━━━━━━━━━━━━━━━━━━━━━━━━━━━━━━━┳━━━━━━━━━━━━━━━━━━━━━━━━┳━━━━━━━━━━━━━━━┓\n",
       "┃\u001b[1m \u001b[0m\u001b[1mLayer (type)                   \u001b[0m\u001b[1m \u001b[0m┃\u001b[1m \u001b[0m\u001b[1mOutput Shape          \u001b[0m\u001b[1m \u001b[0m┃\u001b[1m \u001b[0m\u001b[1m      Param #\u001b[0m\u001b[1m \u001b[0m┃\n",
       "┡━━━━━━━━━━━━━━━━━━━━━━━━━━━━━━━━━╇━━━━━━━━━━━━━━━━━━━━━━━━╇━━━━━━━━━━━━━━━┩\n",
       "│ dense (\u001b[38;5;33mDense\u001b[0m)                   │ (\u001b[38;5;45mNone\u001b[0m, \u001b[38;5;34m64\u001b[0m)             │           \u001b[38;5;34m704\u001b[0m │\n",
       "├─────────────────────────────────┼────────────────────────┼───────────────┤\n",
       "│ dense_1 (\u001b[38;5;33mDense\u001b[0m)                 │ (\u001b[38;5;45mNone\u001b[0m, \u001b[38;5;34m32\u001b[0m)             │         \u001b[38;5;34m2,080\u001b[0m │\n",
       "├─────────────────────────────────┼────────────────────────┼───────────────┤\n",
       "│ dense_2 (\u001b[38;5;33mDense\u001b[0m)                 │ (\u001b[38;5;45mNone\u001b[0m, \u001b[38;5;34m1\u001b[0m)              │            \u001b[38;5;34m33\u001b[0m │\n",
       "└─────────────────────────────────┴────────────────────────┴───────────────┘\n"
      ]
     },
     "metadata": {},
     "output_type": "display_data"
    },
    {
     "data": {
      "text/html": [
       "<pre style=\"white-space:pre;overflow-x:auto;line-height:normal;font-family:Menlo,'DejaVu Sans Mono',consolas,'Courier New',monospace\"><span style=\"font-weight: bold\"> Total params: </span><span style=\"color: #00af00; text-decoration-color: #00af00\">8,453</span> (33.02 KB)\n",
       "</pre>\n"
      ],
      "text/plain": [
       "\u001b[1m Total params: \u001b[0m\u001b[38;5;34m8,453\u001b[0m (33.02 KB)\n"
      ]
     },
     "metadata": {},
     "output_type": "display_data"
    },
    {
     "data": {
      "text/html": [
       "<pre style=\"white-space:pre;overflow-x:auto;line-height:normal;font-family:Menlo,'DejaVu Sans Mono',consolas,'Courier New',monospace\"><span style=\"font-weight: bold\"> Trainable params: </span><span style=\"color: #00af00; text-decoration-color: #00af00\">2,817</span> (11.00 KB)\n",
       "</pre>\n"
      ],
      "text/plain": [
       "\u001b[1m Trainable params: \u001b[0m\u001b[38;5;34m2,817\u001b[0m (11.00 KB)\n"
      ]
     },
     "metadata": {},
     "output_type": "display_data"
    },
    {
     "data": {
      "text/html": [
       "<pre style=\"white-space:pre;overflow-x:auto;line-height:normal;font-family:Menlo,'DejaVu Sans Mono',consolas,'Courier New',monospace\"><span style=\"font-weight: bold\"> Non-trainable params: </span><span style=\"color: #00af00; text-decoration-color: #00af00\">0</span> (0.00 B)\n",
       "</pre>\n"
      ],
      "text/plain": [
       "\u001b[1m Non-trainable params: \u001b[0m\u001b[38;5;34m0\u001b[0m (0.00 B)\n"
      ]
     },
     "metadata": {},
     "output_type": "display_data"
    },
    {
     "data": {
      "text/html": [
       "<pre style=\"white-space:pre;overflow-x:auto;line-height:normal;font-family:Menlo,'DejaVu Sans Mono',consolas,'Courier New',monospace\"><span style=\"font-weight: bold\"> Optimizer params: </span><span style=\"color: #00af00; text-decoration-color: #00af00\">5,636</span> (22.02 KB)\n",
       "</pre>\n"
      ],
      "text/plain": [
       "\u001b[1m Optimizer params: \u001b[0m\u001b[38;5;34m5,636\u001b[0m (22.02 KB)\n"
      ]
     },
     "metadata": {},
     "output_type": "display_data"
    }
   ],
   "source": [
    "history.model.summary()"
   ]
  },
  {
   "cell_type": "code",
   "execution_count": 38,
   "metadata": {},
   "outputs": [
    {
     "name": "stdout",
     "output_type": "stream",
     "text": [
      "\u001b[1m776/776\u001b[0m \u001b[32m━━━━━━━━━━━━━━━━━━━━\u001b[0m\u001b[37m\u001b[0m \u001b[1m0s\u001b[0m 266us/step - loss: 3.4833e-04 - mae: 0.0121\n",
      "Test Mean Absolute Error: 0.012131692841649055\n",
      "Test Loss: 0.0003435580001678318\n"
     ]
    }
   ],
   "source": [
    "# Evaluate the model on the test data\n",
    "test_loss, test_mae = model.evaluate(X_test_scaled, y_test)\n",
    "\n",
    "print(f\"Test Mean Absolute Error: {test_mae}\")\n",
    "print(f\"Test Loss: {test_loss}\")"
   ]
  },
  {
   "cell_type": "markdown",
   "metadata": {},
   "source": [
    "## Logistic Regression"
   ]
  },
  {
   "cell_type": "code",
   "execution_count": 39,
   "metadata": {},
   "outputs": [
    {
     "name": "stdout",
     "output_type": "stream",
     "text": [
      "Logistic Regression Mean Squared Error: 0.4813471920070905\n"
     ]
    }
   ],
   "source": [
    "\n",
    "\n",
    "# For logistic regression, you might want to binarize the target (e.g., predict up/down movement)\n",
    "y_train_binary = (y_train > y_train.median()).astype(int)\n",
    "y_test_binary = (y_test > y_test.median()).astype(int)\n",
    "\n",
    "# Fit logistic regression model\n",
    "log_reg = LogisticRegression()\n",
    "log_reg.fit(X_train_scaled, y_train_binary)\n",
    "\n",
    "# Predict on the test set\n",
    "y_pred_log_reg = log_reg.predict(X_test_scaled)\n",
    "\n",
    "# Evaluate logistic regression model\n",
    "mse_log_reg = mean_squared_error(y_test_binary, y_pred_log_reg)\n",
    "print(f\"Logistic Regression Mean Squared Error: {mse_log_reg}\")\n"
   ]
  },
  {
   "cell_type": "code",
   "execution_count": 41,
   "metadata": {},
   "outputs": [
    {
     "data": {
      "image/png": "[encoded data removed]",
      "text/plain": [
       "<Figure size 1000x600 with 1 Axes>"
      ]
     },
     "metadata": {},
     "output_type": "display_data"
    }
   ],
   "source": [
    "import matplotlib.pyplot as plt\n",
    "\n",
    "# Create a scatter plot for visualizing predictions vs true values\n",
    "plt.figure(figsize=(10, 6))\n",
    "plt.scatter(range(len(y_test_binary)), y_test_binary, color='blue', label='True Values', alpha=0.6)\n",
    "plt.scatter(range(len(y_pred_log_reg)), y_pred_log_reg, color='red', label='Predicted Values', alpha=0.6)\n",
    "\n",
    "# Add title and labels\n",
    "plt.title('Logistic Regression: True vs Predicted Values', fontsize=16)\n",
    "plt.xlabel('Test Data Index', fontsize=12)\n",
    "plt.ylabel('Binary Stock Movement (Up/Down)', fontsize=12)\n",
    "plt.legend()\n",
    "\n",
    "# Display the plot\n",
    "plt.show()"
   ]
  },
  {
   "cell_type": "code",
   "execution_count": 26,
   "metadata": {},
   "outputs": [
    {
     "name": "stdout",
     "output_type": "stream",
     "text": [
      "\u001b[1m779/779\u001b[0m \u001b[32m━━━━━━━━━━━━━━━━━━━━\u001b[0m\u001b[37m\u001b[0m \u001b[1m0s\u001b[0m 258us/step - loss: 1.6795e-04 - mae: 0.0083\n",
      "Neural Network MAE: 0.008276415057480335\n",
      "Logistic Regression Accuracy: 0.9558622903458791\n"
     ]
    }
   ],
   "source": [
    "# MAE for Neural Network\n",
    "_, neural_net_mae = model.evaluate(X_test_scaled, y_test)\n",
    "\n",
    "# MAE for Logistic Regression (you may need to adjust this to accuracy if it’s a binary classification)\n",
    "from sklearn.metrics import accuracy_score\n",
    "log_reg_accuracy = accuracy_score(y_test_binary, y_pred_log_reg)\n",
    "\n",
    "print(f\"Neural Network MAE: {neural_net_mae}\")\n",
    "print(f\"Logistic Regression Accuracy: {log_reg_accuracy}\")\n"
   ]
  }
 ],
 "metadata": {
  "kernelspec": {
   "display_name": "base",
   "language": "python",
   "name": "python3"
  },
  "language_info": {
   "codemirror_mode": {
    "name": "ipython",
    "version": 3
   },
   "file_extension": ".py",
   "mimetype": "text/x-python",
   "name": "python",
   "nbconvert_exporter": "python",
   "pygments_lexer": "ipython3",
   "version": "3.12.4"
  }
 },
 "nbformat": 4,
 "nbformat_minor": 2
}
