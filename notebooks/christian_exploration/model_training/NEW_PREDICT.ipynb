{
 "cells": [
  {
   "cell_type": "code",
   "execution_count": 1,
   "metadata": {},
   "outputs": [],
   "source": [
    "# Import standard library modules\n",
    "import sys\n",
    "\n",
    "# Set the relative path to the project root directory\n",
    "relative_path_to_root = \"../../../\"\n",
    "\n",
    "# Add the project root to the system path for importing in-house modules\n",
    "sys.path.append(relative_path_to_root)\n",
    "\n",
    "# Import in-house modules from the 'utilities' package\n",
    "from utilities import load_data, save_data\n",
    "from utilities import temporal_train_test_split\n",
    "from utilities import print_title, print_label"
   ]
  },
  {
   "cell_type": "code",
   "execution_count": 2,
   "metadata": {},
   "outputs": [],
   "source": [
    "# Data manipulation and analysis\n",
    "import pandas as pd\n",
    "\n",
    "# Date and time manipulation\n",
    "from datetime import date\n",
    "\n",
    "# File and directory manipulation\n",
    "from pathlib import Path\n",
    "\n",
    "# Data preprocessing and model selection\n",
    "from sklearn.model_selection import train_test_split\n",
    "from sklearn.model_selection import cross_val_score\n",
    "from sklearn.model_selection import GridSearchCV\n",
    "from sklearn.preprocessing import StandardScaler\n",
    "\n",
    "# Model evaluation metrics\n",
    "from sklearn.metrics import mean_squared_error\n",
    "from sklearn.metrics import r2_score\n",
    "import numpy as np\n",
    "\n",
    "# Machine learning models (regression)\n",
    "from sklearn.linear_model import LinearRegression\n",
    "from sklearn.linear_model import Ridge\n",
    "from sklearn.linear_model import Lasso\n",
    "from sklearn.linear_model import ElasticNet\n",
    "from sklearn.svm import SVR\n",
    "from sklearn.neighbors import KNeighborsRegressor\n",
    "from xgboost import XGBRegressor\n",
    "\n",
    "# Ensemble methods\n",
    "from sklearn.ensemble import RandomForestRegressor\n",
    "from sklearn.ensemble import ExtraTreesRegressor\n",
    "from sklearn.ensemble import GradientBoostingRegressor"
   ]
  },
  {
   "cell_type": "code",
   "execution_count": 3,
   "metadata": {},
   "outputs": [],
   "source": [
    "def split_dataset_by_date(raw_data: pd.DataFrame, todays_date: str):\n",
    "    # Filter data by today's date\n",
    "    filter_data_by_date = raw_data[\"Date\"] == todays_date\n",
    "    \n",
    "    # Create a new dataframe with today's data\n",
    "    todays_data = raw_data[filter_data_by_date].reset_index(drop=True)\n",
    "    \n",
    "    # Create a new dataframe with historical data (excluding today's data)\n",
    "    historical_data = raw_data[~filter_data_by_date].reset_index(drop=True)\n",
    "    \n",
    "    return historical_data, todays_data"
   ]
  },
  {
   "cell_type": "code",
   "execution_count": 4,
   "metadata": {},
   "outputs": [
    {
     "name": "stdout",
     "output_type": "stream",
     "text": [
      "\u001b[1m\u001b[36m╔═══════════════════════════════════════════════════════════════╗\u001b[0m\n",
      "\u001b[1m\u001b[36m║\u001b[0m\u001b[1m\u001b[96mFile `test_w_na.csv.bz2` loaded from `sp500_adj_close_raw_with_nas.zip`\u001b[0m\u001b[1m\u001b[36m║\u001b[0m\n",
      "\u001b[1m\u001b[36m╚═══════════════════════════════════════════════════════════════╝\u001b[0m\n"
     ]
    }
   ],
   "source": [
    "file_name = \"sp500_adj_close_raw_with_nas\"\n",
    "file_path = f\"../../../data/raw_data/{file_name}\"\n",
    "\n",
    "raw_data = load_data(file_path)"
   ]
  },
  {
   "cell_type": "markdown",
   "metadata": {},
   "source": [
    "### Data Pre-Processing\n",
    "___"
   ]
  },
  {
   "cell_type": "markdown",
   "metadata": {},
   "source": [
    "#### Split todays data (For prediction) and historical data (For training)"
   ]
  },
  {
   "cell_type": "code",
   "execution_count": 5,
   "metadata": {},
   "outputs": [
    {
     "name": "stdout",
     "output_type": "stream",
     "text": [
      "Todays Date: 2024-10-25\n"
     ]
    }
   ],
   "source": [
    "todays_date = \"2024-10-25\"\n",
    "\n",
    "historical_data, todays_data = split_dataset_by_date(raw_data, todays_date)\n",
    "\n",
    "print(\"Todays Date:\", todays_date)"
   ]
  },
  {
   "cell_type": "markdown",
   "metadata": {},
   "source": [
    "#### Ensure there are missing values on Todays Data is what we are predicting..."
   ]
  },
  {
   "cell_type": "code",
   "execution_count": 6,
   "metadata": {},
   "outputs": [
    {
     "data": {
      "text/plain": [
       "Date                    0\n",
       "Ticker                  0\n",
       "Adjusted Close          0\n",
       "Next Day Close        501\n",
       "Previous Day Close      0\n",
       "Return                  0\n",
       "Volatility              0\n",
       "RSI                     0\n",
       "SMA_50                  0\n",
       "SMA_100                 0\n",
       "SMA_200                 0\n",
       "Upper Band              0\n",
       "Lower Band              0\n",
       "Support                 0\n",
       "Resistance              0\n",
       "Action                501\n",
       "dtype: int64"
      ]
     },
     "execution_count": 6,
     "metadata": {},
     "output_type": "execute_result"
    }
   ],
   "source": [
    "todays_data.isnull().sum()"
   ]
  },
  {
   "cell_type": "markdown",
   "metadata": {},
   "source": [
    "#### Handle missing values (NA's) on the historical data used to train and test..."
   ]
  },
  {
   "cell_type": "code",
   "execution_count": 7,
   "metadata": {},
   "outputs": [
    {
     "data": {
      "text/plain": [
       "Date                  0\n",
       "Ticker                0\n",
       "Adjusted Close        0\n",
       "Next Day Close        0\n",
       "Previous Day Close    0\n",
       "Return                0\n",
       "Volatility            0\n",
       "RSI                   0\n",
       "SMA_50                0\n",
       "SMA_100               0\n",
       "SMA_200               0\n",
       "Upper Band            0\n",
       "Lower Band            0\n",
       "Support               0\n",
       "Resistance            0\n",
       "Action                0\n",
       "dtype: int64"
      ]
     },
     "execution_count": 7,
     "metadata": {},
     "output_type": "execute_result"
    }
   ],
   "source": [
    "def clean_historical_data(historical_data: pd.DataFrame) -> pd.DataFrame:\n",
    "    # Remove all rows where `Adjusted Close` is 0\n",
    "    historical_data = historical_data[historical_data[\"Adjusted Close\"] != 0].reset_index(drop=True)\n",
    "    \n",
    "    # Remove all rows where `Volatility` is NaN\n",
    "    historical_data = historical_data.dropna(subset=[\"Volatility\"]).reset_index(drop=True)\n",
    "    \n",
    "    # Backfill the `RSI` column\n",
    "    historical_data[\"RSI\"] = historical_data[\"RSI\"].bfill()\n",
    "    \n",
    "    # Backfill the `Action` column\n",
    "    historical_data[\"Action\"] = historical_data[\"Action\"].bfill()\n",
    "    \n",
    "    return historical_data\n",
    "\n",
    "historical_data = clean_historical_data(historical_data)\n",
    "\n",
    "historical_data.isnull().sum()"
   ]
  },
  {
   "cell_type": "markdown",
   "metadata": {},
   "source": [
    "### Exploratory Data Analysis (EDA):\n",
    "___"
   ]
  },
  {
   "cell_type": "markdown",
   "metadata": {},
   "source": [
    "#### Todays Data:"
   ]
  },
  {
   "cell_type": "code",
   "execution_count": 8,
   "metadata": {},
   "outputs": [
    {
     "name": "stdout",
     "output_type": "stream",
     "text": [
      "Today's Data Shape: (501, 16)\n"
     ]
    }
   ],
   "source": [
    "print(\"Today's Data Shape:\", todays_data.shape)"
   ]
  },
  {
   "cell_type": "markdown",
   "metadata": {},
   "source": [
    "#### Historical Data:"
   ]
  },
  {
   "cell_type": "code",
   "execution_count": 9,
   "metadata": {},
   "outputs": [
    {
     "name": "stdout",
     "output_type": "stream",
     "text": [
      "Historical Data Shape: (1978479, 16)\n"
     ]
    }
   ],
   "source": [
    "print(\"Historical Data Shape:\", historical_data.shape)"
   ]
  },
  {
   "cell_type": "markdown",
   "metadata": {},
   "source": [
    "### Create Multiple Versions of Dataset\n",
    "___"
   ]
  },
  {
   "cell_type": "markdown",
   "metadata": {},
   "source": [
    "#### Select which version of the data to work with"
   ]
  },
  {
   "cell_type": "code",
   "execution_count": 10,
   "metadata": {},
   "outputs": [],
   "source": [
    "main_data = historical_data.copy().reset_index(drop=True)\n",
    "\n",
    "# Create multiple versions of the dataset\n",
    "\n",
    "# Data with out dates and tickers (Set as index for reference)\n",
    "data_v1 = main_data.copy().set_index([\"Date\", \"Ticker\"])\n",
    "\n",
    "# Data with dates and without tickers (Set as index for reference)\n",
    "def prepare_data_v2(main_data: pd.DataFrame) -> pd.DataFrame:\n",
    "    # Create a copy of the input DataFrame\n",
    "    df = main_data.copy().reset_index(drop=True)\n",
    "    \n",
    "    # Convert the `Date` column to datetime\n",
    "    df[\"Date\"] = pd.to_datetime(df[\"Date\"])\n",
    "    \n",
    "    # Extract year, month, and day from the `Date` column\n",
    "    df[\"Year\"] = df[\"Date\"].dt.year\n",
    "    df[\"Month\"] = df[\"Date\"].dt.month\n",
    "    df[\"Day\"] = df[\"Date\"].dt.day\n",
    "    \n",
    "    # Set the index to `Date` and `Ticker`\n",
    "    df = df.set_index([\"Date\", \"Ticker\"])\n",
    "    \n",
    "    return df\n",
    "\n",
    "data_v2 = prepare_data_v2(main_data)"
   ]
  },
  {
   "cell_type": "markdown",
   "metadata": {},
   "source": [
    "##### **Note: It is recommended to remove `[\"Previous Day Close\", \"Resistance\", \"Upper Band\", \"SMA_50\", \"SMA_200\"]` after VIF inspection...**"
   ]
  },
  {
   "cell_type": "markdown",
   "metadata": {},
   "source": [
    "##### **Note: It is recommended to remove `[\"Day\"]` after p-value inspection...**"
   ]
  },
  {
   "cell_type": "code",
   "execution_count": 11,
   "metadata": {},
   "outputs": [
    {
     "name": "stdout",
     "output_type": "stream",
     "text": [
      "Shape: (1978479, 10)\n"
     ]
    },
    {
     "data": {
      "text/html": [
       "<div>\n",
       "<style scoped>\n",
       "    .dataframe tbody tr th:only-of-type {\n",
       "        vertical-align: middle;\n",
       "    }\n",
       "\n",
       "    .dataframe tbody tr th {\n",
       "        vertical-align: top;\n",
       "    }\n",
       "\n",
       "    .dataframe thead th {\n",
       "        text-align: right;\n",
       "    }\n",
       "</style>\n",
       "<table border=\"1\" class=\"dataframe\">\n",
       "  <thead>\n",
       "    <tr style=\"text-align: right;\">\n",
       "      <th></th>\n",
       "      <th></th>\n",
       "      <th>Adjusted Close</th>\n",
       "      <th>Next Day Close</th>\n",
       "      <th>Return</th>\n",
       "      <th>Volatility</th>\n",
       "      <th>RSI</th>\n",
       "      <th>SMA_100</th>\n",
       "      <th>Lower Band</th>\n",
       "      <th>Support</th>\n",
       "      <th>Year</th>\n",
       "      <th>Month</th>\n",
       "    </tr>\n",
       "    <tr>\n",
       "      <th>Date</th>\n",
       "      <th>Ticker</th>\n",
       "      <th></th>\n",
       "      <th></th>\n",
       "      <th></th>\n",
       "      <th></th>\n",
       "      <th></th>\n",
       "      <th></th>\n",
       "      <th></th>\n",
       "      <th></th>\n",
       "      <th></th>\n",
       "      <th></th>\n",
       "    </tr>\n",
       "  </thead>\n",
       "  <tbody>\n",
       "    <tr>\n",
       "      <th rowspan=\"5\" valign=\"top\">2008-01-02</th>\n",
       "      <th>A</th>\n",
       "      <td>23.256388</td>\n",
       "      <td>23.025743</td>\n",
       "      <td>-0.011976</td>\n",
       "      <td>0.015704</td>\n",
       "      <td>48.827590</td>\n",
       "      <td>23.299887</td>\n",
       "      <td>22.540236</td>\n",
       "      <td>21.392029</td>\n",
       "      <td>2008</td>\n",
       "      <td>1</td>\n",
       "    </tr>\n",
       "    <tr>\n",
       "      <th>AAPL</th>\n",
       "      <td>5.876342</td>\n",
       "      <td>5.879055</td>\n",
       "      <td>-0.016357</td>\n",
       "      <td>0.018937</td>\n",
       "      <td>59.067350</td>\n",
       "      <td>4.939064</td>\n",
       "      <td>5.403559</td>\n",
       "      <td>4.637376</td>\n",
       "      <td>2008</td>\n",
       "      <td>1</td>\n",
       "    </tr>\n",
       "    <tr>\n",
       "      <th>ABT</th>\n",
       "      <td>18.130209</td>\n",
       "      <td>18.019754</td>\n",
       "      <td>-0.006055</td>\n",
       "      <td>0.010484</td>\n",
       "      <td>34.677372</td>\n",
       "      <td>17.628250</td>\n",
       "      <td>18.221804</td>\n",
       "      <td>16.775562</td>\n",
       "      <td>2008</td>\n",
       "      <td>1</td>\n",
       "    </tr>\n",
       "    <tr>\n",
       "      <th>ACGL</th>\n",
       "      <td>7.608889</td>\n",
       "      <td>7.764444</td>\n",
       "      <td>-0.026581</td>\n",
       "      <td>0.016022</td>\n",
       "      <td>45.154190</td>\n",
       "      <td>7.878933</td>\n",
       "      <td>7.378535</td>\n",
       "      <td>7.463333</td>\n",
       "      <td>2008</td>\n",
       "      <td>1</td>\n",
       "    </tr>\n",
       "    <tr>\n",
       "      <th>ACN</th>\n",
       "      <td>26.437077</td>\n",
       "      <td>25.982521</td>\n",
       "      <td>0.000833</td>\n",
       "      <td>0.024039</td>\n",
       "      <td>54.812176</td>\n",
       "      <td>27.784420</td>\n",
       "      <td>24.273775</td>\n",
       "      <td>24.765512</td>\n",
       "      <td>2008</td>\n",
       "      <td>1</td>\n",
       "    </tr>\n",
       "  </tbody>\n",
       "</table>\n",
       "</div>"
      ],
      "text/plain": [
       "                   Adjusted Close  Next Day Close    Return  Volatility  \\\n",
       "Date       Ticker                                                         \n",
       "2008-01-02 A            23.256388       23.025743 -0.011976    0.015704   \n",
       "           AAPL          5.876342        5.879055 -0.016357    0.018937   \n",
       "           ABT          18.130209       18.019754 -0.006055    0.010484   \n",
       "           ACGL          7.608889        7.764444 -0.026581    0.016022   \n",
       "           ACN          26.437077       25.982521  0.000833    0.024039   \n",
       "\n",
       "                         RSI    SMA_100  Lower Band    Support  Year  Month  \n",
       "Date       Ticker                                                            \n",
       "2008-01-02 A       48.827590  23.299887   22.540236  21.392029  2008      1  \n",
       "           AAPL    59.067350   4.939064    5.403559   4.637376  2008      1  \n",
       "           ABT     34.677372  17.628250   18.221804  16.775562  2008      1  \n",
       "           ACGL    45.154190   7.878933    7.378535   7.463333  2008      1  \n",
       "           ACN     54.812176  27.784420   24.273775  24.765512  2008      1  "
      ]
     },
     "execution_count": 11,
     "metadata": {},
     "output_type": "execute_result"
    }
   ],
   "source": [
    "select_data = data_v2.copy()\n",
    "\n",
    "select_columns_to_drop = [\"Action\", \"Previous Day Close\", \"SMA_50\", \"Resistance\", \"Upper Band\", \"SMA_200\", \"Day\"]\n",
    "\n",
    "data = select_data.drop(columns=select_columns_to_drop)\n",
    "\n",
    "print(\"Shape:\", data.shape)\n",
    "data.head()"
   ]
  },
  {
   "cell_type": "markdown",
   "metadata": {},
   "source": [
    "### Split data features `X` and target `y`\n",
    "___"
   ]
  },
  {
   "cell_type": "code",
   "execution_count": 12,
   "metadata": {},
   "outputs": [
    {
     "name": "stdout",
     "output_type": "stream",
     "text": [
      "Shape of X: (1978479, 9)\n",
      "Shape of y: (1978479,)\n"
     ]
    }
   ],
   "source": [
    "# Split the data into features (X) and target (y)\n",
    "X = data.drop(columns=\"Next Day Close\")\n",
    "\n",
    "y = data[\"Next Day Close\"]\n",
    "\n",
    "print(\"Shape of X:\", X.shape)\n",
    "print(\"Shape of y:\", y.shape)"
   ]
  },
  {
   "cell_type": "markdown",
   "metadata": {},
   "source": [
    "### Data Splitting\n",
    "___"
   ]
  },
  {
   "cell_type": "code",
   "execution_count": 13,
   "metadata": {},
   "outputs": [
    {
     "name": "stdout",
     "output_type": "stream",
     "text": [
      "Shape of X_train: (1582783, 9)\n",
      "Shape of X_test: (395696, 9)\n",
      "Shape of y_train: (1582783,)\n",
      "Shape of y_test: (395696,)\n"
     ]
    }
   ],
   "source": [
    "# Split the data into training and testing sets\n",
    "X_train, X_test, y_train, y_test = train_test_split(\n",
    "    X,\n",
    "    y,\n",
    "    test_size=0.2, # 80% training and 20% testing\n",
    "    random_state=42\n",
    ")\n",
    "\n",
    "print(\"Shape of X_train:\", X_train.shape)\n",
    "print(\"Shape of X_test:\", X_test.shape)\n",
    "print(\"Shape of y_train:\", y_train.shape)\n",
    "print(\"Shape of y_test:\", y_test.shape)"
   ]
  },
  {
   "cell_type": "markdown",
   "metadata": {},
   "source": [
    "### Scaling the Data\n",
    "___"
   ]
  },
  {
   "cell_type": "markdown",
   "metadata": {},
   "source": [
    "#### Scale the data using `StandardScaler`"
   ]
  },
  {
   "cell_type": "code",
   "execution_count": 14,
   "metadata": {},
   "outputs": [
    {
     "name": "stdout",
     "output_type": "stream",
     "text": [
      "X_train_scaled shape: (1582783, 9)\n",
      "X_test_scaled shape: (395696, 9)\n",
      "y_train_scaled shape: (1582783, 1)\n",
      "y_test_scaled shape: (395696, 1)\n"
     ]
    }
   ],
   "source": [
    "# Scale using StandardScaler\n",
    "X_scaler = StandardScaler()\n",
    "y_scaler = StandardScaler()\n",
    "\n",
    "X_train_scaled = X_scaler.fit_transform(X_train)\n",
    "X_test_scaled = X_scaler.transform(X_test)\n",
    "\n",
    "y_train_scaled = y_scaler.fit_transform(y_train.values.reshape(-1, 1))\n",
    "y_test_scaled = y_scaler.transform(y_test.values.reshape(-1, 1))\n",
    "\n",
    "print(\"X_train_scaled shape:\", X_train_scaled.shape)\n",
    "print(\"X_test_scaled shape:\", X_test_scaled.shape)\n",
    "print(\"y_train_scaled shape:\", y_train_scaled.shape)\n",
    "print(\"y_test_scaled shape:\", y_test_scaled.shape)"
   ]
  },
  {
   "cell_type": "markdown",
   "metadata": {},
   "source": [
    "### Model Training\n",
    "___\n"
   ]
  },
  {
   "cell_type": "code",
   "execution_count": 15,
   "metadata": {},
   "outputs": [
    {
     "ename": "SyntaxError",
     "evalue": "incomplete input (149104261.py, line 1)",
     "output_type": "error",
     "traceback": [
      "\u001b[1;36m  Cell \u001b[1;32mIn[15], line 1\u001b[1;36m\u001b[0m\n\u001b[1;33m    print(\u001b[0m\n\u001b[1;37m          ^\u001b[0m\n\u001b[1;31mSyntaxError\u001b[0m\u001b[1;31m:\u001b[0m incomplete input\n"
     ]
    }
   ],
   "source": [
    "print("
   ]
  },
  {
   "cell_type": "code",
   "execution_count": null,
   "metadata": {},
   "outputs": [],
   "source": [
    "knn_regressor = KNeighborsRegressor()\n",
    "\n",
    "param_grid_knn = {\n",
    "    \"n_neighbors\": [3, 5, 7, 9],\n",
    "    \"weights\": [\"uniform\", \"distance\"],\n",
    "    \"algorithm\": [\"auto\", \"ball_tree\", \"kd_tree\", \"brute\"]\n",
    "}\n",
    "\n",
    "grid_search_knn = GridSearchCV(\n",
    "    knn_regressor,\n",
    "    param_grid_knn,\n",
    "    cv=5,\n",
    "    n_jobs=-1,\n",
    "    verbose=2\n",
    ")\n",
    "\n",
    "grid_search_knn.fit(X_train_scaled, y_train_scaled)"
   ]
  },
  {
   "cell_type": "code",
   "execution_count": null,
   "metadata": {},
   "outputs": [],
   "source": [
    "import json\n",
    "\n",
    "print(json.dumps(grid_search_xgb.best_params_, indent=4))"
   ]
  },
  {
   "cell_type": "markdown",
   "metadata": {},
   "source": [
    "### Model Evaluation\n",
    "___"
   ]
  },
  {
   "cell_type": "code",
   "execution_count": 22,
   "metadata": {},
   "outputs": [],
   "source": [
    "def adj_r2_score(model, X, y):\n",
    "    r2 = model.score(X, y)\n",
    "    n_cols = X.shape[1]\n",
    "    return 1 - (1 - r2) * (len(y) - 1) / (len(y) - n_cols - 1)"
   ]
  },
  {
   "cell_type": "code",
   "execution_count": 23,
   "metadata": {},
   "outputs": [],
   "source": [
    "best_xgb_model = grid_search_xgb.best_estimator_"
   ]
  },
  {
   "cell_type": "code",
   "execution_count": null,
   "metadata": {},
   "outputs": [],
   "source": [
    "y_predict_scaled = best_xgb_model.predict(X_test_scaled)\n",
    "\n",
    "y_predict_unscaled = y_scaler.inverse_transform(y_predict_scaled.reshape(-1, 1))\n",
    "y_test_unscaled = y_scaler.inverse_transform(y_test_scaled.reshape(-1, 1))\n",
    "\n",
    "mse = mean_squared_error(y_test_unscaled, y_predict_unscaled)\n",
    "rmse = np.sqrt(mse)\n",
    "r2 = r2_score(y_test_unscaled, y_predict_unscaled)\n",
    "adj_r2 = adj_r2_score(best_xgb_model, X_test_scaled, y_test_scaled)\n",
    "\n",
    "print_title(\"XGBoost Regressor\", closed_corners=False)\n",
    "print_label(\"Mean Squared Error:\", mse)\n",
    "print_label(\"Root Mean Squared Error:\", rmse)\n",
    "print_label(\"R-Squared (Training Data):\", best_xgb_model.score(X_train_scaled, y_train_scaled))\n",
    "print_label(\"R-Squared (Testing Data):\", r2)\n",
    "print_label(\"Adjusted R-Squared:\", adj_r2, closed_corners=True) "
   ]
  },
  {
   "cell_type": "code",
   "execution_count": null,
   "metadata": {},
   "outputs": [],
   "source": [
    "cv_scores = cross_val_score(\n",
    "    best_xgb_model,\n",
    "    X_train_scaled,\n",
    "    y_train_scaled,\n",
    "    cv=5,\n",
    "    scoring=\"r2\"\n",
    ")\n",
    "\n",
    "print_title(\"Cross Validation Scores\", closed_corners=False)\n",
    "\n",
    "for index, score in enumerate(cv_scores):\n",
    "    print_label(f\"Fold {index+1}:\", score)\n",
    "\n",
    "print_label(\"\", \"\")\n",
    "print_label(\"Mean R^2 Score:\", cv_scores.mean())\n",
    "print_label(\"Standard Deviation:\", cv_scores.std(), closed_corners=True)"
   ]
  },
  {
   "cell_type": "markdown",
   "metadata": {},
   "source": [
    "### Predict tomorrows `Adjusted Close`\n",
    "___"
   ]
  },
  {
   "cell_type": "code",
   "execution_count": null,
   "metadata": {},
   "outputs": [],
   "source": [
    "def preprocess_todays_data(df, columns_to_drop):\n",
    "    # Convert 'Date' column to datetime\n",
    "    df[\"Date\"] = pd.to_datetime(df[\"Date\"])\n",
    "    \n",
    "    # Extract year, month, and day from 'Date' column\n",
    "    df[\"Year\"] = df[\"Date\"].dt.year\n",
    "    df[\"Month\"] = df[\"Date\"].dt.month\n",
    "    df[\"Day\"] = df[\"Date\"].dt.day\n",
    "    \n",
    "    # Drop specified columns\n",
    "    df = df.drop(columns=columns_to_drop)\n",
    "    \n",
    "    # Set 'Date' and 'Ticker' as the index\n",
    "    df = df.set_index([\"Date\", \"Ticker\"])\n",
    "    \n",
    "    # Drop 'Next Day Close' column\n",
    "    df = df.drop(columns=\"Next Day Close\")\n",
    "    \n",
    "    return df\n",
    "\n",
    "X_to_predict = todays_data.copy()\n",
    "\n",
    "X_to_predict = preprocess_todays_data(X_to_predict, select_columns_to_drop)\n",
    "\n",
    "X_to_predict_scaled = X_scaler.transform(X_to_predict)\n",
    "\n",
    "print(\"Shape of todays_data_clean_scaled:\", X_to_predict_scaled.shape)\n",
    "X_to_predict_scaled[:5]"
   ]
  },
  {
   "cell_type": "code",
   "execution_count": null,
   "metadata": {},
   "outputs": [],
   "source": [
    "y_to_predict_scaled = best_xgb_model.predict(X_to_predict_scaled)\n",
    "\n",
    "y_to_predict_unscaled = y_scaler.inverse_transform(y_to_predict_scaled.reshape(-1, 1))\n",
    "\n",
    "print(\"Shape of y_to_predict_unscaled:\", y_to_predict_unscaled.shape)\n",
    "y_to_predict_unscaled[:5]"
   ]
  },
  {
   "cell_type": "code",
   "execution_count": null,
   "metadata": {},
   "outputs": [],
   "source": [
    "prediction_df = todays_data.copy()\n",
    "\n",
    "prediction_df[\"Next Day Close\"] = y_to_predict_unscaled.round(3)\n",
    "\n",
    "prediction_df = prediction_df[[\"Date\", \"Ticker\", \"Adjusted Close\", \"Next Day Close\"]]\n",
    "\n",
    "prediction_df = prediction_df.set_index([\"Date\", \"Ticker\"])\n",
    "\n",
    "print(\"Shape:\", prediction_df.shape)\n",
    "display(prediction_df.head(20))\n",
    "display(prediction_df.tail(20))"
   ]
  },
  {
   "cell_type": "code",
   "execution_count": null,
   "metadata": {},
   "outputs": [],
   "source": [
    "# Make index column a regular column\n",
    "prediction_df.reset_index(inplace=True)\n",
    "\n",
    "prediction_df"
   ]
  },
  {
   "cell_type": "code",
   "execution_count": null,
   "metadata": {},
   "outputs": [],
   "source": [
    "file_name = \"XGB_predict.zip\"\n",
    "file_path = f\"../../../data/raw_data/{file_name}\"\n",
    "\n",
    "save_data(prediction_df, file_path)"
   ]
  },
  {
   "cell_type": "code",
   "execution_count": null,
   "metadata": {},
   "outputs": [],
   "source": []
  }
 ],
 "metadata": {
  "kernelspec": {
   "display_name": "base",
   "language": "python",
   "name": "python3"
  },
  "language_info": {
   "codemirror_mode": {
    "name": "ipython",
    "version": 3
   },
   "file_extension": ".py",
   "mimetype": "text/x-python",
   "name": "python",
   "nbconvert_exporter": "python",
   "pygments_lexer": "ipython3",
   "version": "3.10.14"
  }
 },
 "nbformat": 4,
 "nbformat_minor": 2
}
