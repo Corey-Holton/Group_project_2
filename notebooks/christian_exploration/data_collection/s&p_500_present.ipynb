{
 "cells": [
  {
   "cell_type": "code",
   "execution_count": 1,
   "metadata": {},
   "outputs": [],
   "source": [
    "# Import standard library modules\n",
    "import sys\n",
    "\n",
    "# Set the relative path to the project root directory\n",
    "relative_path_to_root = \"../../../\"\n",
    "\n",
    "# Add the project root to the system path for importing in-house modules\n",
    "sys.path.append(relative_path_to_root)\n",
    "\n",
    "# Import in-house modules from the 'utilities' package\n",
    "from utilities import print_title, print_label\n",
    "from utilities import save_data\n",
    "from utilities import sp500_data_for_today"
   ]
  },
  {
   "cell_type": "code",
   "execution_count": 2,
   "metadata": {},
   "outputs": [],
   "source": [
    "# Import libraries for data analysis and visualization\n",
    "import pandas as pd\n",
    "import yfinance as yf"
   ]
  },
  {
   "cell_type": "code",
   "execution_count": 3,
   "metadata": {},
   "outputs": [
    {
     "name": "stdout",
     "output_type": "stream",
     "text": [
      "\u001b[1m\u001b[34m╔═══════════════════════════════════════════════════════════════╗\u001b[0m\n",
      "\u001b[1m\u001b[34m║\u001b[0m\u001b[1m\u001b[94m            Download Report for S&P 500 `adj close`            \u001b[0m\u001b[1m\u001b[34m║\u001b[0m\n",
      "\u001b[1m\u001b[34m╠═══════════════════════════════════════════════════════════════╣\u001b[0m\n",
      "\u001b[1m\u001b[97m\u001b[1m\u001b[34m║ \u001b[0m\u001b[1m\u001b[94mTotal Requested Tickers:       |             501             \u001b[0m\u001b[1m\u001b[34m ║\u001b[0m\u001b[0m\n",
      "\u001b[1m\u001b[97m\u001b[1m\u001b[34m║ \u001b[0m\u001b[1m\u001b[93mTotal Downloaded Tickers:      |              2              \u001b[0m\u001b[1m\u001b[34m ║\u001b[0m\u001b[0m\n",
      "\u001b[1m\u001b[97m\u001b[1m\u001b[34m║ \u001b[0m\u001b[1m\u001b[94mRequested Time:                |           15:59:00          \u001b[0m\u001b[1m\u001b[34m ║\u001b[0m\u001b[0m\n",
      "\u001b[1m\u001b[97m\u001b[1m\u001b[34m║ \u001b[0m\u001b[1m\u001b[93mDownloaded Date:               |          2024-10-21         \u001b[0m\u001b[1m\u001b[34m ║\u001b[0m\u001b[0m\n",
      "\u001b[1m\u001b[34m║ \u001b[0m\u001b[1m\u001b[90m\u001b[3m                      S&P 500 Data Downloaded Successfully...\u001b[0m\u001b[0m\u001b[1m\u001b[34m ║\u001b[0m\n",
      "\u001b[1m\u001b[34m╚═══════════════════════════════════════════════════════════════╝\u001b[0m\n"
     ]
    },
    {
     "data": {
      "text/html": [
       "<div>\n",
       "<style scoped>\n",
       "    .dataframe tbody tr th:only-of-type {\n",
       "        vertical-align: middle;\n",
       "    }\n",
       "\n",
       "    .dataframe tbody tr th {\n",
       "        vertical-align: top;\n",
       "    }\n",
       "\n",
       "    .dataframe thead th {\n",
       "        text-align: right;\n",
       "    }\n",
       "</style>\n",
       "<table border=\"1\" class=\"dataframe\">\n",
       "  <thead>\n",
       "    <tr style=\"text-align: right;\">\n",
       "      <th>Ticker</th>\n",
       "      <th>A</th>\n",
       "      <th>AAPL</th>\n",
       "      <th>ABBV</th>\n",
       "      <th>ABNB</th>\n",
       "      <th>ABT</th>\n",
       "      <th>ACGL</th>\n",
       "      <th>ACN</th>\n",
       "      <th>ADBE</th>\n",
       "      <th>ADI</th>\n",
       "      <th>ADM</th>\n",
       "      <th>...</th>\n",
       "      <th>WTW</th>\n",
       "      <th>WY</th>\n",
       "      <th>WYNN</th>\n",
       "      <th>XEL</th>\n",
       "      <th>XOM</th>\n",
       "      <th>XYL</th>\n",
       "      <th>YUM</th>\n",
       "      <th>ZBH</th>\n",
       "      <th>ZBRA</th>\n",
       "      <th>ZTS</th>\n",
       "    </tr>\n",
       "    <tr>\n",
       "      <th>Datetime</th>\n",
       "      <th></th>\n",
       "      <th></th>\n",
       "      <th></th>\n",
       "      <th></th>\n",
       "      <th></th>\n",
       "      <th></th>\n",
       "      <th></th>\n",
       "      <th></th>\n",
       "      <th></th>\n",
       "      <th></th>\n",
       "      <th></th>\n",
       "      <th></th>\n",
       "      <th></th>\n",
       "      <th></th>\n",
       "      <th></th>\n",
       "      <th></th>\n",
       "      <th></th>\n",
       "      <th></th>\n",
       "      <th></th>\n",
       "      <th></th>\n",
       "      <th></th>\n",
       "    </tr>\n",
       "  </thead>\n",
       "  <tbody>\n",
       "    <tr>\n",
       "      <th>2024-10-21 15:59:00-04:00</th>\n",
       "      <td>136.820007</td>\n",
       "      <td>236.580002</td>\n",
       "      <td>186.600006</td>\n",
       "      <td>137.179993</td>\n",
       "      <td>117.029999</td>\n",
       "      <td>108.510002</td>\n",
       "      <td>376.200012</td>\n",
       "      <td>497.709991</td>\n",
       "      <td>225.610001</td>\n",
       "      <td>56.130001</td>\n",
       "      <td>...</td>\n",
       "      <td>290.540009</td>\n",
       "      <td>32.299999</td>\n",
       "      <td>98.370003</td>\n",
       "      <td>63.439999</td>\n",
       "      <td>120.080002</td>\n",
       "      <td>132.570007</td>\n",
       "      <td>134.039993</td>\n",
       "      <td>105.209999</td>\n",
       "      <td>372.390015</td>\n",
       "      <td>189.509995</td>\n",
       "    </tr>\n",
       "  </tbody>\n",
       "</table>\n",
       "<p>1 rows × 501 columns</p>\n",
       "</div>"
      ],
      "text/plain": [
       "Ticker                              A        AAPL        ABBV        ABNB  \\\n",
       "Datetime                                                                    \n",
       "2024-10-21 15:59:00-04:00  136.820007  236.580002  186.600006  137.179993   \n",
       "\n",
       "Ticker                            ABT        ACGL         ACN        ADBE  \\\n",
       "Datetime                                                                    \n",
       "2024-10-21 15:59:00-04:00  117.029999  108.510002  376.200012  497.709991   \n",
       "\n",
       "Ticker                            ADI        ADM  ...         WTW         WY  \\\n",
       "Datetime                                          ...                          \n",
       "2024-10-21 15:59:00-04:00  225.610001  56.130001  ...  290.540009  32.299999   \n",
       "\n",
       "Ticker                          WYNN        XEL         XOM         XYL  \\\n",
       "Datetime                                                                  \n",
       "2024-10-21 15:59:00-04:00  98.370003  63.439999  120.080002  132.570007   \n",
       "\n",
       "Ticker                            YUM         ZBH        ZBRA         ZTS  \n",
       "Datetime                                                                   \n",
       "2024-10-21 15:59:00-04:00  134.039993  105.209999  372.390015  189.509995  \n",
       "\n",
       "[1 rows x 501 columns]"
      ]
     },
     "execution_count": 3,
     "metadata": {},
     "output_type": "execute_result"
    }
   ],
   "source": [
    "data = sp500_data_for_today()\n",
    "\n",
    "data"
   ]
  },
  {
   "cell_type": "code",
   "execution_count": 6,
   "metadata": {},
   "outputs": [
    {
     "data": {
      "text/plain": [
       "Index(['A', 'AAPL', 'ABBV', 'ABNB', 'ABT', 'ACGL', 'ACN', 'ADBE', 'ADI', 'ADM',\n",
       "       ...\n",
       "       'WTW', 'WY', 'WYNN', 'XEL', 'XOM', 'XYL', 'YUM', 'ZBH', 'ZBRA', 'ZTS'],\n",
       "      dtype='object', name='Ticker', length=501)"
      ]
     },
     "execution_count": 6,
     "metadata": {},
     "output_type": "execute_result"
    }
   ],
   "source": [
    "data.columns.unique()"
   ]
  },
  {
   "cell_type": "markdown",
   "metadata": {},
   "source": [
    "### Data Collection\n",
    "___"
   ]
  },
  {
   "cell_type": "code",
   "execution_count": 4,
   "metadata": {},
   "outputs": [
    {
     "name": "stdout",
     "output_type": "stream",
     "text": [
      "\u001b[1m\u001b[90m╔═══════════════════════════════════════════════════════════════╗\u001b[0m\n",
      "\u001b[1m\u001b[90m║\u001b[0m\u001b[1m\u001b[97m                 `S&P_500` total tickers: 501                  \u001b[0m\u001b[1m\u001b[90m║\u001b[0m\n",
      "\u001b[1m\u001b[90m╚═══════════════════════════════════════════════════════════════╝\u001b[0m\n"
     ]
    }
   ],
   "source": [
    "# Fetch S&P 500 tickers\n",
    "\n",
    "#Get tickers from wikipedia\n",
    "sp500_tickers = pd.read_html('https://en.wikipedia.org/wiki/List_of_S%26P_500_companies')[0]['Symbol'].to_numpy()\n",
    "\n",
    "# Filter out Class B shares that have a '.B' in the ticker name\n",
    "# Class B shares are typically held by company insiders and have different voting rights than Class A shares\n",
    "sp500_tickers = [ticker for ticker in sp500_tickers if '.B' not in ticker]\n",
    "\n",
    "# Total Tickers\n",
    "print_title(\"`S&P_500` total tickers: \" + str(len(sp500_tickers)))"
   ]
  },
  {
   "cell_type": "code",
   "execution_count": 5,
   "metadata": {},
   "outputs": [
    {
     "ename": "NameError",
     "evalue": "name 'store_array' is not defined",
     "output_type": "error",
     "traceback": [
      "\u001b[1;31m---------------------------------------------------------------------------\u001b[0m",
      "\u001b[1;31mNameError\u001b[0m                                 Traceback (most recent call last)",
      "Cell \u001b[1;32mIn[5], line 1\u001b[0m\n\u001b[1;32m----> 1\u001b[0m \u001b[43mstore_array\u001b[49m[\u001b[38;5;241m1\u001b[39m][\u001b[38;5;124m\"\u001b[39m\u001b[38;5;124mdata\u001b[39m\u001b[38;5;124m\"\u001b[39m]\u001b[38;5;241m.\u001b[39mindex[store_array[\u001b[38;5;241m1\u001b[39m][\u001b[38;5;124m\"\u001b[39m\u001b[38;5;124mdata\u001b[39m\u001b[38;5;124m\"\u001b[39m]\u001b[38;5;241m.\u001b[39mindex\u001b[38;5;241m.\u001b[39mtime \u001b[38;5;241m==\u001b[39m pd\u001b[38;5;241m.\u001b[39mTimestamp(\u001b[38;5;124m\"\u001b[39m\u001b[38;5;124m15:59:00\u001b[39m\u001b[38;5;124m\"\u001b[39m)\u001b[38;5;241m.\u001b[39mtime()]\n",
      "\u001b[1;31mNameError\u001b[0m: name 'store_array' is not defined"
     ]
    }
   ],
   "source": [
    "store_array[1][\"data\"].index[store_array[1][\"data\"].index.time == pd.Timestamp(\"15:59:00\").time()]"
   ]
  },
  {
   "cell_type": "code",
   "execution_count": 8,
   "metadata": {},
   "outputs": [],
   "source": [
    "store_df = pd.DataFrame()\n",
    "\n",
    "for ticker in sp500_tickers:\n",
    "    try:\n",
    "        ticker_name = ticker\n",
    "        ticker = yf.Ticker(ticker)\n",
    "        data = ticker.history(period=\"1d\", interval=\"1m\")\n",
    "        data.sort_values(by='Datetime', ascending=False, inplace=True)\n",
    "        data[\"Ticker\"] = ticker_name\n",
    "\n",
    "        three_fifty_nine_pm_mask = data.index.time == pd.Timestamp(\"15:59:00\").time()\n",
    "        data = data[three_fifty_nine_pm_mask]\n",
    "        \n",
    "        store_df = pd.concat([store_df, data])\n",
    "\n",
    "    except Exception as e:\n",
    "        print(f\"Error fetching {ticker}: {e}\")"
   ]
  },
  {
   "cell_type": "code",
   "execution_count": null,
   "metadata": {},
   "outputs": [],
   "source": [
    "# Columns to drop from the dataframe\n",
    "drop_columns = ['Open', 'High', 'Low', \"Volume\", \"Dividends\", \"Stock Splits\"]\n",
    "store_df.drop(columns=drop_columns, inplace=True)\n",
    "\n",
    "store_df"
   ]
  },
  {
   "cell_type": "code",
   "execution_count": null,
   "metadata": {},
   "outputs": [],
   "source": [
    "store_df.sort_values(by=[\"Datetime\", \"Ticker\"], inplace=True)\n",
    "store_df[[\"Ticker\", \"Close\"]]"
   ]
  },
  {
   "cell_type": "code",
   "execution_count": null,
   "metadata": {},
   "outputs": [],
   "source": [
    "store_df.index.unique()\n",
    "store_df.columns.unique()"
   ]
  },
  {
   "cell_type": "code",
   "execution_count": null,
   "metadata": {},
   "outputs": [],
   "source": [
    "reshaped_df = store_df.copy()\n",
    "\n",
    "reshaped_df.reset_index(inplace=True)\n",
    "\n",
    "reshaped_df"
   ]
  },
  {
   "cell_type": "code",
   "execution_count": null,
   "metadata": {},
   "outputs": [],
   "source": [
    "# Pivot the dataframe so that datetime is the index and tickers are the columns\n",
    "\n",
    "# Assuming store_df is your DataFrame\n",
    "reshaped_df = reshaped_df.pivot(index='Datetime', columns='Ticker', values='Close')\n",
    "\n",
    "# Display the reshaped DataFrame\n",
    "reshaped_df"
   ]
  },
  {
   "cell_type": "code",
   "execution_count": null,
   "metadata": {},
   "outputs": [],
   "source": [
    "store_array[1][\"data\"].shape"
   ]
  },
  {
   "cell_type": "code",
   "execution_count": null,
   "metadata": {},
   "outputs": [],
   "source": [
    "store_array[1][\"data\"].index.tz"
   ]
  },
  {
   "cell_type": "code",
   "execution_count": null,
   "metadata": {},
   "outputs": [],
   "source": [
    "# Get 3:59:00 PM EST\n",
    "# so 15:59:00\n",
    "\n",
    "filter_date = store_array[1][\"data\"].index[store_array[1][\"data\"].index.time == pd.Timestamp(\"15:59:00\").time()]\n",
    "\n",
    "# store_array[1][\"data\"].sort_index()\n",
    "\n",
    "store_array[1][\"data\"].loc[filter_date]"
   ]
  },
  {
   "cell_type": "code",
   "execution_count": null,
   "metadata": {},
   "outputs": [],
   "source": []
  }
 ],
 "metadata": {
  "kernelspec": {
   "display_name": "dev",
   "language": "python",
   "name": "python3"
  },
  "language_info": {
   "codemirror_mode": {
    "name": "ipython",
    "version": 3
   },
   "file_extension": ".py",
   "mimetype": "text/x-python",
   "name": "python",
   "nbconvert_exporter": "python",
   "pygments_lexer": "ipython3",
   "version": "3.10.14"
  }
 },
 "nbformat": 4,
 "nbformat_minor": 2
}
