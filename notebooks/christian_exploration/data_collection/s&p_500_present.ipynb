{
 "cells": [
  {
   "cell_type": "code",
   "execution_count": 1,
   "metadata": {},
   "outputs": [],
   "source": [
    "# Import standard library modules\n",
    "import sys\n",
    "\n",
    "# Set the relative path to the project root directory\n",
    "relative_path_to_root = \"../../../\"\n",
    "\n",
    "# Add the project root to the system path for importing in-house modules\n",
    "sys.path.append(relative_path_to_root)\n",
    "\n",
    "# Import in-house modules from the 'utilities' package\n",
    "from utilities import print_title, print_label\n",
    "from utilities import save_data, load_data\n",
    "from utilities import sp500_data_for_today"
   ]
  },
  {
   "cell_type": "code",
   "execution_count": 2,
   "metadata": {},
   "outputs": [
    {
     "name": "stdout",
     "output_type": "stream",
     "text": [
      "\u001b[1m\u001b[34m╔═══════════════════════════════════════════════════════════════╗\u001b[0m\n",
      "\u001b[1m\u001b[34m║\u001b[0m\u001b[1m\u001b[94m      Download Report for S&P 500  `close` for 2024-10-28      \u001b[0m\u001b[1m\u001b[34m║\u001b[0m\n",
      "\u001b[1m\u001b[34m╠═══════════════════════════════════════════════════════════════╣\u001b[0m\n",
      "\u001b[1m\u001b[97m\u001b[1m\u001b[34m║ \u001b[0m\u001b[1m\u001b[94mTotal Requested Tickers:       |             501             \u001b[0m\u001b[1m\u001b[34m ║\u001b[0m\u001b[0m\n",
      "\u001b[1m\u001b[97m\u001b[1m\u001b[34m║ \u001b[0m\u001b[1m\u001b[94mRequested Time:                |           15:59:00          \u001b[0m\u001b[1m\u001b[34m ║\u001b[0m\u001b[0m\n",
      "\u001b[1m\u001b[97m\u001b[1m\u001b[34m║ \u001b[0m\u001b[1m\u001b[93mDownloaded Date:               |          2024-10-28         \u001b[0m\u001b[1m\u001b[34m ║\u001b[0m\u001b[0m\n",
      "\u001b[1m\u001b[34m║ \u001b[0m\u001b[1m\u001b[90m\u001b[3m                      S&P 500 Data Downloaded Successfully...\u001b[0m\u001b[0m\u001b[1m\u001b[34m ║\u001b[0m\n",
      "\u001b[1m\u001b[34m╚═══════════════════════════════════════════════════════════════╝\u001b[0m\n"
     ]
    },
    {
     "data": {
      "text/html": [
       "<div>\n",
       "<style scoped>\n",
       "    .dataframe tbody tr th:only-of-type {\n",
       "        vertical-align: middle;\n",
       "    }\n",
       "\n",
       "    .dataframe tbody tr th {\n",
       "        vertical-align: top;\n",
       "    }\n",
       "\n",
       "    .dataframe thead th {\n",
       "        text-align: right;\n",
       "    }\n",
       "</style>\n",
       "<table border=\"1\" class=\"dataframe\">\n",
       "  <thead>\n",
       "    <tr style=\"text-align: right;\">\n",
       "      <th>Ticker</th>\n",
       "      <th>A</th>\n",
       "      <th>AAPL</th>\n",
       "      <th>ABBV</th>\n",
       "      <th>ABNB</th>\n",
       "      <th>ABT</th>\n",
       "      <th>ACGL</th>\n",
       "      <th>ACN</th>\n",
       "      <th>ADBE</th>\n",
       "      <th>ADI</th>\n",
       "      <th>ADM</th>\n",
       "      <th>...</th>\n",
       "      <th>WTW</th>\n",
       "      <th>WY</th>\n",
       "      <th>WYNN</th>\n",
       "      <th>XEL</th>\n",
       "      <th>XOM</th>\n",
       "      <th>XYL</th>\n",
       "      <th>YUM</th>\n",
       "      <th>ZBH</th>\n",
       "      <th>ZBRA</th>\n",
       "      <th>ZTS</th>\n",
       "    </tr>\n",
       "    <tr>\n",
       "      <th>Datetime</th>\n",
       "      <th></th>\n",
       "      <th></th>\n",
       "      <th></th>\n",
       "      <th></th>\n",
       "      <th></th>\n",
       "      <th></th>\n",
       "      <th></th>\n",
       "      <th></th>\n",
       "      <th></th>\n",
       "      <th></th>\n",
       "      <th></th>\n",
       "      <th></th>\n",
       "      <th></th>\n",
       "      <th></th>\n",
       "      <th></th>\n",
       "      <th></th>\n",
       "      <th></th>\n",
       "      <th></th>\n",
       "      <th></th>\n",
       "      <th></th>\n",
       "      <th></th>\n",
       "    </tr>\n",
       "  </thead>\n",
       "  <tbody>\n",
       "    <tr>\n",
       "      <th>2024-10-28 15:59:00-04:00</th>\n",
       "      <td>131.619995</td>\n",
       "      <td>233.490005</td>\n",
       "      <td>189.740005</td>\n",
       "      <td>135.820007</td>\n",
       "      <td>114.129997</td>\n",
       "      <td>105.650002</td>\n",
       "      <td>361.450012</td>\n",
       "      <td>481.170013</td>\n",
       "      <td>230.139999</td>\n",
       "      <td>57.240002</td>\n",
       "      <td>...</td>\n",
       "      <td>292.119995</td>\n",
       "      <td>31.969999</td>\n",
       "      <td>98.610001</td>\n",
       "      <td>64.510002</td>\n",
       "      <td>118.959999</td>\n",
       "      <td>130.835007</td>\n",
       "      <td>134.869995</td>\n",
       "      <td>103.550003</td>\n",
       "      <td>363.529999</td>\n",
       "      <td>182.850006</td>\n",
       "    </tr>\n",
       "  </tbody>\n",
       "</table>\n",
       "<p>1 rows × 501 columns</p>\n",
       "</div>"
      ],
      "text/plain": [
       "Ticker                              A        AAPL        ABBV        ABNB  \\\n",
       "Datetime                                                                    \n",
       "2024-10-28 15:59:00-04:00  131.619995  233.490005  189.740005  135.820007   \n",
       "\n",
       "Ticker                            ABT        ACGL         ACN        ADBE  \\\n",
       "Datetime                                                                    \n",
       "2024-10-28 15:59:00-04:00  114.129997  105.650002  361.450012  481.170013   \n",
       "\n",
       "Ticker                            ADI        ADM  ...         WTW         WY  \\\n",
       "Datetime                                          ...                          \n",
       "2024-10-28 15:59:00-04:00  230.139999  57.240002  ...  292.119995  31.969999   \n",
       "\n",
       "Ticker                          WYNN        XEL         XOM         XYL  \\\n",
       "Datetime                                                                  \n",
       "2024-10-28 15:59:00-04:00  98.610001  64.510002  118.959999  130.835007   \n",
       "\n",
       "Ticker                            YUM         ZBH        ZBRA         ZTS  \n",
       "Datetime                                                                   \n",
       "2024-10-28 15:59:00-04:00  134.869995  103.550003  363.529999  182.850006  \n",
       "\n",
       "[1 rows x 501 columns]"
      ]
     },
     "execution_count": 2,
     "metadata": {},
     "output_type": "execute_result"
    }
   ],
   "source": [
    "data = sp500_data_for_today()\n",
    "\n",
    "data"
   ]
  },
  {
   "cell_type": "code",
   "execution_count": 3,
   "metadata": {},
   "outputs": [
    {
     "name": "stdout",
     "output_type": "stream",
     "text": [
      "\u001b[1m\u001b[32m╔═══════════════════════════════════════════════════════════════╗\u001b[0m\n",
      "\u001b[1m\u001b[32m║\u001b[0m\u001b[1m\u001b[92m             File saved and zipped as `test2.zip`              \u001b[0m\u001b[1m\u001b[32m║\u001b[0m\n",
      "\u001b[1m\u001b[32m╚═══════════════════════════════════════════════════════════════╝\u001b[0m\n"
     ]
    }
   ],
   "source": [
    "file_name = \"test2.zip\"\n",
    "file_path = f\"../../../data/raw_data/{file_name}\"\n",
    "\n",
    "save_data(data, file_path)"
   ]
  }
 ],
 "metadata": {
  "kernelspec": {
   "display_name": "dev",
   "language": "python",
   "name": "python3"
  },
  "language_info": {
   "codemirror_mode": {
    "name": "ipython",
    "version": 3
   },
   "file_extension": ".py",
   "mimetype": "text/x-python",
   "name": "python",
   "nbconvert_exporter": "python",
   "pygments_lexer": "ipython3",
   "version": "3.10.14"
  }
 },
 "nbformat": 4,
 "nbformat_minor": 2
}
