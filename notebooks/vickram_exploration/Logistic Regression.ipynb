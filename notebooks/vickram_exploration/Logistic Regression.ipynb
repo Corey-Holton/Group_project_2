{
 "cells": [
  {
   "cell_type": "code",
   "execution_count": 2,
   "metadata": {},
   "outputs": [],
   "source": [
    "import pandas as pd\n",
    "\n",
    "import numpy as np\n",
    "from sklearn.model_selection import train_test_split\n",
    "from sklearn.linear_model import LinearRegression\n",
    "from sklearn.metrics import mean_squared_error, r2_score"
   ]
  },
  {
   "cell_type": "code",
   "execution_count": 3,
   "metadata": {},
   "outputs": [
    {
     "data": {
      "text/html": [
       "<div>\n",
       "<style scoped>\n",
       "    .dataframe tbody tr th:only-of-type {\n",
       "        vertical-align: middle;\n",
       "    }\n",
       "\n",
       "    .dataframe tbody tr th {\n",
       "        vertical-align: top;\n",
       "    }\n",
       "\n",
       "    .dataframe thead th {\n",
       "        text-align: right;\n",
       "    }\n",
       "</style>\n",
       "<table border=\"1\" class=\"dataframe\">\n",
       "  <thead>\n",
       "    <tr style=\"text-align: right;\">\n",
       "      <th></th>\n",
       "      <th>Date</th>\n",
       "      <th>Ticker</th>\n",
       "      <th>Adjusted Close</th>\n",
       "      <th>Return</th>\n",
       "      <th>Volatility</th>\n",
       "      <th>RSI</th>\n",
       "      <th>SMA_50</th>\n",
       "      <th>SMA_100</th>\n",
       "      <th>SMA_200</th>\n",
       "      <th>Upper Band</th>\n",
       "      <th>Lower Band</th>\n",
       "      <th>Support</th>\n",
       "      <th>Resistance</th>\n",
       "      <th>Action</th>\n",
       "    </tr>\n",
       "  </thead>\n",
       "  <tbody>\n",
       "    <tr>\n",
       "      <th>0</th>\n",
       "      <td>2008-01-02</td>\n",
       "      <td>A</td>\n",
       "      <td>23.256384</td>\n",
       "      <td>-0.009918</td>\n",
       "      <td>0.015705</td>\n",
       "      <td>48.827618</td>\n",
       "      <td>23.314175</td>\n",
       "      <td>23.299887</td>\n",
       "      <td>23.564934</td>\n",
       "      <td>24.727250</td>\n",
       "      <td>22.540232</td>\n",
       "      <td>21.392035</td>\n",
       "      <td>24.351929</td>\n",
       "      <td>short</td>\n",
       "    </tr>\n",
       "    <tr>\n",
       "      <th>1</th>\n",
       "      <td>2008-01-02</td>\n",
       "      <td>AAPL</td>\n",
       "      <td>5.876342</td>\n",
       "      <td>0.000462</td>\n",
       "      <td>0.018937</td>\n",
       "      <td>59.067432</td>\n",
       "      <td>5.518483</td>\n",
       "      <td>4.939064</td>\n",
       "      <td>4.197630</td>\n",
       "      <td>6.135834</td>\n",
       "      <td>5.403559</td>\n",
       "      <td>4.637376</td>\n",
       "      <td>6.026839</td>\n",
       "      <td>buy</td>\n",
       "    </tr>\n",
       "    <tr>\n",
       "      <th>2</th>\n",
       "      <td>2008-01-02</td>\n",
       "      <td>ABT</td>\n",
       "      <td>18.130205</td>\n",
       "      <td>-0.006092</td>\n",
       "      <td>0.010484</td>\n",
       "      <td>34.677586</td>\n",
       "      <td>18.138458</td>\n",
       "      <td>17.628250</td>\n",
       "      <td>17.709028</td>\n",
       "      <td>19.233109</td>\n",
       "      <td>18.221804</td>\n",
       "      <td>16.775562</td>\n",
       "      <td>19.134010</td>\n",
       "      <td>short</td>\n",
       "    </tr>\n",
       "    <tr>\n",
       "      <th>3</th>\n",
       "      <td>2008-01-02</td>\n",
       "      <td>ACGL</td>\n",
       "      <td>7.608889</td>\n",
       "      <td>0.020444</td>\n",
       "      <td>0.016022</td>\n",
       "      <td>45.154190</td>\n",
       "      <td>7.785511</td>\n",
       "      <td>7.878933</td>\n",
       "      <td>7.874161</td>\n",
       "      <td>8.114465</td>\n",
       "      <td>7.378535</td>\n",
       "      <td>7.463333</td>\n",
       "      <td>8.307778</td>\n",
       "      <td>buy</td>\n",
       "    </tr>\n",
       "    <tr>\n",
       "      <th>4</th>\n",
       "      <td>2008-01-02</td>\n",
       "      <td>ACN</td>\n",
       "      <td>26.437078</td>\n",
       "      <td>-0.017194</td>\n",
       "      <td>0.024039</td>\n",
       "      <td>54.812183</td>\n",
       "      <td>26.577982</td>\n",
       "      <td>27.784420</td>\n",
       "      <td>28.471031</td>\n",
       "      <td>28.227205</td>\n",
       "      <td>24.273773</td>\n",
       "      <td>24.765505</td>\n",
       "      <td>29.215664</td>\n",
       "      <td>sell</td>\n",
       "    </tr>\n",
       "  </tbody>\n",
       "</table>\n",
       "</div>"
      ],
      "text/plain": [
       "         Date Ticker  Adjusted Close    Return  Volatility        RSI  \\\n",
       "0  2008-01-02      A       23.256384 -0.009918    0.015705  48.827618   \n",
       "1  2008-01-02   AAPL        5.876342  0.000462    0.018937  59.067432   \n",
       "2  2008-01-02    ABT       18.130205 -0.006092    0.010484  34.677586   \n",
       "3  2008-01-02   ACGL        7.608889  0.020444    0.016022  45.154190   \n",
       "4  2008-01-02    ACN       26.437078 -0.017194    0.024039  54.812183   \n",
       "\n",
       "      SMA_50    SMA_100    SMA_200  Upper Band  Lower Band    Support  \\\n",
       "0  23.314175  23.299887  23.564934   24.727250   22.540232  21.392035   \n",
       "1   5.518483   4.939064   4.197630    6.135834    5.403559   4.637376   \n",
       "2  18.138458  17.628250  17.709028   19.233109   18.221804  16.775562   \n",
       "3   7.785511   7.878933   7.874161    8.114465    7.378535   7.463333   \n",
       "4  26.577982  27.784420  28.471031   28.227205   24.273773  24.765505   \n",
       "\n",
       "   Resistance Action  \n",
       "0   24.351929  short  \n",
       "1    6.026839    buy  \n",
       "2   19.134010  short  \n",
       "3    8.307778    buy  \n",
       "4   29.215664   sell  "
      ]
     },
     "execution_count": 3,
     "metadata": {},
     "output_type": "execute_result"
    }
   ],
   "source": [
    "# Import the data\n",
    "file_path = (\"https://project-2-rice.s3.us-east-2.amazonaws.com/sp500_adj_close_raw.csv\")\n",
    "# Read the CSV files into DataFrames.\n",
    "df = pd.read_csv(file_path)\n",
    "df.head()"
   ]
  },
  {
   "cell_type": "code",
   "execution_count": 8,
   "metadata": {},
   "outputs": [
    {
     "ename": "AttributeError",
     "evalue": "'DataFrame' object has no attribute 'unique'",
     "output_type": "error",
     "traceback": [
      "\u001b[0;31m---------------------------------------------------------------------------\u001b[0m",
      "\u001b[0;31mAttributeError\u001b[0m                            Traceback (most recent call last)",
      "\u001b[0;32m/var/folders/g1/tng_t05j6qdf1rzj0_hgs2s00000gn/T/ipykernel_8355/1660334235.py\u001b[0m in \u001b[0;36m?\u001b[0;34m()\u001b[0m\n\u001b[0;32m----> 1\u001b[0;31m \u001b[0mdf\u001b[0m\u001b[0;34m.\u001b[0m\u001b[0munique\u001b[0m\u001b[0;34m(\u001b[0m\u001b[0;34m)\u001b[0m\u001b[0;34m\u001b[0m\u001b[0;34m\u001b[0m\u001b[0m\n\u001b[0m",
      "\u001b[0;32m/opt/anaconda3/envs/dev/lib/python3.10/site-packages/pandas/core/generic.py\u001b[0m in \u001b[0;36m?\u001b[0;34m(self, name)\u001b[0m\n\u001b[1;32m   6295\u001b[0m             \u001b[0;32mand\u001b[0m \u001b[0mname\u001b[0m \u001b[0;32mnot\u001b[0m \u001b[0;32min\u001b[0m \u001b[0mself\u001b[0m\u001b[0;34m.\u001b[0m\u001b[0m_accessors\u001b[0m\u001b[0;34m\u001b[0m\u001b[0;34m\u001b[0m\u001b[0m\n\u001b[1;32m   6296\u001b[0m             \u001b[0;32mand\u001b[0m \u001b[0mself\u001b[0m\u001b[0;34m.\u001b[0m\u001b[0m_info_axis\u001b[0m\u001b[0;34m.\u001b[0m\u001b[0m_can_hold_identifiers_and_holds_name\u001b[0m\u001b[0;34m(\u001b[0m\u001b[0mname\u001b[0m\u001b[0;34m)\u001b[0m\u001b[0;34m\u001b[0m\u001b[0;34m\u001b[0m\u001b[0m\n\u001b[1;32m   6297\u001b[0m         ):\n\u001b[1;32m   6298\u001b[0m             \u001b[0;32mreturn\u001b[0m \u001b[0mself\u001b[0m\u001b[0;34m[\u001b[0m\u001b[0mname\u001b[0m\u001b[0;34m]\u001b[0m\u001b[0;34m\u001b[0m\u001b[0;34m\u001b[0m\u001b[0m\n\u001b[0;32m-> 6299\u001b[0;31m         \u001b[0;32mreturn\u001b[0m \u001b[0mobject\u001b[0m\u001b[0;34m.\u001b[0m\u001b[0m__getattribute__\u001b[0m\u001b[0;34m(\u001b[0m\u001b[0mself\u001b[0m\u001b[0;34m,\u001b[0m \u001b[0mname\u001b[0m\u001b[0;34m)\u001b[0m\u001b[0;34m\u001b[0m\u001b[0;34m\u001b[0m\u001b[0m\n\u001b[0m",
      "\u001b[0;31mAttributeError\u001b[0m: 'DataFrame' object has no attribute 'unique'"
     ]
    }
   ],
   "source": [
    "how "
   ]
  },
  {
   "cell_type": "code",
   "execution_count": 5,
   "metadata": {},
   "outputs": [
    {
     "name": "stdout",
     "output_type": "stream",
     "text": [
      "<class 'pandas.core.frame.DataFrame'>\n",
      "RangeIndex: 1979679 entries, 0 to 1979678\n",
      "Data columns (total 14 columns):\n",
      " #   Column          Dtype  \n",
      "---  ------          -----  \n",
      " 0   Date            object \n",
      " 1   Ticker          object \n",
      " 2   Adjusted Close  float64\n",
      " 3   Return          float64\n",
      " 4   Volatility      float64\n",
      " 5   RSI             float64\n",
      " 6   SMA_50          float64\n",
      " 7   SMA_100         float64\n",
      " 8   SMA_200         float64\n",
      " 9   Upper Band      float64\n",
      " 10  Lower Band      float64\n",
      " 11  Support         float64\n",
      " 12  Resistance      float64\n",
      " 13  Action          object \n",
      "dtypes: float64(11), object(3)\n",
      "memory usage: 211.5+ MB\n"
     ]
    }
   ],
   "source": [
    "df.info()"
   ]
  },
  {
   "cell_type": "code",
   "execution_count": 4,
   "metadata": {},
   "outputs": [],
   "source": [
    "# Drop rows with missing values\n",
    "df = df.dropna()\n"
   ]
  },
  {
   "cell_type": "code",
   "execution_count": null,
   "metadata": {},
   "outputs": [],
   "source": []
  }
 ],
 "metadata": {
  "kernelspec": {
   "display_name": "dev",
   "language": "python",
   "name": "python3"
  },
  "language_info": {
   "codemirror_mode": {
    "name": "ipython",
    "version": 3
   },
   "file_extension": ".py",
   "mimetype": "text/x-python",
   "name": "python",
   "nbconvert_exporter": "python",
   "pygments_lexer": "ipython3",
   "version": "3.10.14"
  }
 },
 "nbformat": 4,
 "nbformat_minor": 2
}
