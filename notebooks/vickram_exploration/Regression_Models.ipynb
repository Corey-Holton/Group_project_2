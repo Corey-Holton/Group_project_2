{
 "cells": [
  {
   "cell_type": "code",
   "execution_count": 1,
   "metadata": {},
   "outputs": [],
   "source": [
    "#pip install scikit-learn"
   ]
  },
  {
   "cell_type": "code",
   "execution_count": 2,
   "metadata": {},
   "outputs": [],
   "source": [
    "# pip install pydotplus (uncomment to run install)\n"
   ]
  },
  {
   "cell_type": "code",
   "execution_count": 3,
   "metadata": {},
   "outputs": [],
   "source": [
    "# pip install numpy scipy matplotlib"
   ]
  },
  {
   "cell_type": "code",
   "execution_count": 4,
   "metadata": {},
   "outputs": [],
   "source": [
    "# pip install graphviz"
   ]
  },
  {
   "cell_type": "code",
   "execution_count": 5,
   "metadata": {},
   "outputs": [],
   "source": [
    "\n",
    "# Import libraries for data analysis and visualization\n",
    "import pandas as pd \n",
    "import numpy as np\n",
    "from  sklearn import tree\n",
    "from sklearn.tree import DecisionTreeRegressor\n",
    "from sklearn.preprocessing import StandardScaler\n",
    "from sklearn.model_selection import train_test_split\n",
    "from sklearn.metrics import mean_squared_error \n",
    "\n",
    "# Needed for decision tree visualization \n",
    "# Install Pydotplus \n",
    "import pydotplus\n",
    "from IPython.display import Image\n",
    "import graphviz\n",
    "\n"
   ]
  },
  {
   "cell_type": "code",
   "execution_count": 6,
   "metadata": {},
   "outputs": [
    {
     "data": {
      "text/html": [
       "<div>\n",
       "<style scoped>\n",
       "    .dataframe tbody tr th:only-of-type {\n",
       "        vertical-align: middle;\n",
       "    }\n",
       "\n",
       "    .dataframe tbody tr th {\n",
       "        vertical-align: top;\n",
       "    }\n",
       "\n",
       "    .dataframe thead th {\n",
       "        text-align: right;\n",
       "    }\n",
       "</style>\n",
       "<table border=\"1\" class=\"dataframe\">\n",
       "  <thead>\n",
       "    <tr style=\"text-align: right;\">\n",
       "      <th></th>\n",
       "      <th>Date</th>\n",
       "      <th>Ticker</th>\n",
       "      <th>Adjusted Close</th>\n",
       "      <th>Return</th>\n",
       "      <th>Volatility</th>\n",
       "      <th>RSI</th>\n",
       "      <th>SMA_50</th>\n",
       "      <th>SMA_100</th>\n",
       "      <th>SMA_200</th>\n",
       "      <th>Upper Band</th>\n",
       "      <th>Lower Band</th>\n",
       "      <th>Support</th>\n",
       "      <th>Resistance</th>\n",
       "      <th>Action</th>\n",
       "    </tr>\n",
       "  </thead>\n",
       "  <tbody>\n",
       "    <tr>\n",
       "      <th>0</th>\n",
       "      <td>2023-10-24 00:00:00+00:00</td>\n",
       "      <td>A</td>\n",
       "      <td>104.928497</td>\n",
       "      <td>-0.021204</td>\n",
       "      <td>0.409553</td>\n",
       "      <td>56.101762</td>\n",
       "      <td>121.677983</td>\n",
       "      <td>128.300623</td>\n",
       "      <td>133.159750</td>\n",
       "      <td>115.267512</td>\n",
       "      <td>98.748279</td>\n",
       "      <td>100.488609</td>\n",
       "      <td>138.878296</td>\n",
       "      <td>buy</td>\n",
       "    </tr>\n",
       "    <tr>\n",
       "      <th>1</th>\n",
       "      <td>2023-10-24 00:00:00+00:00</td>\n",
       "      <td>AAPL</td>\n",
       "      <td>172.557007</td>\n",
       "      <td>-0.013492</td>\n",
       "      <td>0.188448</td>\n",
       "      <td>72.685668</td>\n",
       "      <td>186.475519</td>\n",
       "      <td>184.511592</td>\n",
       "      <td>189.937574</td>\n",
       "      <td>194.716172</td>\n",
       "      <td>162.902436</td>\n",
       "      <td>166.040359</td>\n",
       "      <td>197.361084</td>\n",
       "      <td>short</td>\n",
       "    </tr>\n",
       "    <tr>\n",
       "      <th>2</th>\n",
       "      <td>2023-10-24 00:00:00+00:00</td>\n",
       "      <td>ABBV</td>\n",
       "      <td>141.150238</td>\n",
       "      <td>-0.007177</td>\n",
       "      <td>0.208797</td>\n",
       "      <td>31.460189</td>\n",
       "      <td>140.884359</td>\n",
       "      <td>154.118351</td>\n",
       "      <td>160.623434</td>\n",
       "      <td>141.142258</td>\n",
       "      <td>130.635863</td>\n",
       "      <td>132.747406</td>\n",
       "      <td>155.765976</td>\n",
       "      <td>short</td>\n",
       "    </tr>\n",
       "    <tr>\n",
       "      <th>3</th>\n",
       "      <td>2023-10-24 00:00:00+00:00</td>\n",
       "      <td>ABNB</td>\n",
       "      <td>122.010002</td>\n",
       "      <td>-0.028768</td>\n",
       "      <td>0.456553</td>\n",
       "      <td>45.172589</td>\n",
       "      <td>130.258200</td>\n",
       "      <td>140.167450</td>\n",
       "      <td>145.392425</td>\n",
       "      <td>130.042030</td>\n",
       "      <td>111.038970</td>\n",
       "      <td>114.089996</td>\n",
       "      <td>147.500000</td>\n",
       "      <td>short</td>\n",
       "    </tr>\n",
       "    <tr>\n",
       "      <th>4</th>\n",
       "      <td>2023-10-24 00:00:00+00:00</td>\n",
       "      <td>ABT</td>\n",
       "      <td>92.954971</td>\n",
       "      <td>-0.013079</td>\n",
       "      <td>0.170162</td>\n",
       "      <td>45.183485</td>\n",
       "      <td>100.178232</td>\n",
       "      <td>106.883077</td>\n",
       "      <td>106.050604</td>\n",
       "      <td>98.488926</td>\n",
       "      <td>89.118164</td>\n",
       "      <td>91.033325</td>\n",
       "      <td>108.808609</td>\n",
       "      <td>buy</td>\n",
       "    </tr>\n",
       "  </tbody>\n",
       "</table>\n",
       "</div>"
      ],
      "text/plain": [
       "                        Date Ticker  Adjusted Close    Return  Volatility  \\\n",
       "0  2023-10-24 00:00:00+00:00      A      104.928497 -0.021204    0.409553   \n",
       "1  2023-10-24 00:00:00+00:00   AAPL      172.557007 -0.013492    0.188448   \n",
       "2  2023-10-24 00:00:00+00:00   ABBV      141.150238 -0.007177    0.208797   \n",
       "3  2023-10-24 00:00:00+00:00   ABNB      122.010002 -0.028768    0.456553   \n",
       "4  2023-10-24 00:00:00+00:00    ABT       92.954971 -0.013079    0.170162   \n",
       "\n",
       "         RSI      SMA_50     SMA_100     SMA_200  Upper Band  Lower Band  \\\n",
       "0  56.101762  121.677983  128.300623  133.159750  115.267512   98.748279   \n",
       "1  72.685668  186.475519  184.511592  189.937574  194.716172  162.902436   \n",
       "2  31.460189  140.884359  154.118351  160.623434  141.142258  130.635863   \n",
       "3  45.172589  130.258200  140.167450  145.392425  130.042030  111.038970   \n",
       "4  45.183485  100.178232  106.883077  106.050604   98.488926   89.118164   \n",
       "\n",
       "      Support  Resistance Action  \n",
       "0  100.488609  138.878296    buy  \n",
       "1  166.040359  197.361084  short  \n",
       "2  132.747406  155.765976  short  \n",
       "3  114.089996  147.500000  short  \n",
       "4   91.033325  108.808609    buy  "
      ]
     },
     "execution_count": 6,
     "metadata": {},
     "output_type": "execute_result"
    }
   ],
   "source": [
    "# Import the data\n",
    "sp500_adj_close = \"sp500_adj_close_raw_vick.csv\"\n",
    "sp500_df = pd.read_csv(sp500_adj_close)\n",
    "sp500_df.head()\n"
   ]
  },
  {
   "cell_type": "code",
   "execution_count": 7,
   "metadata": {},
   "outputs": [
    {
     "data": {
      "text/html": [
       "<div>\n",
       "<style scoped>\n",
       "    .dataframe tbody tr th:only-of-type {\n",
       "        vertical-align: middle;\n",
       "    }\n",
       "\n",
       "    .dataframe tbody tr th {\n",
       "        vertical-align: top;\n",
       "    }\n",
       "\n",
       "    .dataframe thead th {\n",
       "        text-align: right;\n",
       "    }\n",
       "</style>\n",
       "<table border=\"1\" class=\"dataframe\">\n",
       "  <thead>\n",
       "    <tr style=\"text-align: right;\">\n",
       "      <th></th>\n",
       "      <th></th>\n",
       "      <th>Adjusted Close</th>\n",
       "      <th>Return</th>\n",
       "      <th>Volatility</th>\n",
       "      <th>RSI</th>\n",
       "      <th>SMA_50</th>\n",
       "      <th>SMA_100</th>\n",
       "      <th>SMA_200</th>\n",
       "      <th>Upper Band</th>\n",
       "      <th>Lower Band</th>\n",
       "      <th>Support</th>\n",
       "      <th>Resistance</th>\n",
       "      <th>Action</th>\n",
       "    </tr>\n",
       "    <tr>\n",
       "      <th>Date</th>\n",
       "      <th>Ticker</th>\n",
       "      <th></th>\n",
       "      <th></th>\n",
       "      <th></th>\n",
       "      <th></th>\n",
       "      <th></th>\n",
       "      <th></th>\n",
       "      <th></th>\n",
       "      <th></th>\n",
       "      <th></th>\n",
       "      <th></th>\n",
       "      <th></th>\n",
       "      <th></th>\n",
       "    </tr>\n",
       "  </thead>\n",
       "  <tbody>\n",
       "    <tr>\n",
       "      <th rowspan=\"5\" valign=\"top\">2023-10-24 00:00:00+00:00</th>\n",
       "      <th>A</th>\n",
       "      <td>104.928497</td>\n",
       "      <td>-0.021204</td>\n",
       "      <td>0.409553</td>\n",
       "      <td>56.101762</td>\n",
       "      <td>121.677983</td>\n",
       "      <td>128.300623</td>\n",
       "      <td>133.159750</td>\n",
       "      <td>115.267512</td>\n",
       "      <td>98.748279</td>\n",
       "      <td>100.488609</td>\n",
       "      <td>138.878296</td>\n",
       "      <td>buy</td>\n",
       "    </tr>\n",
       "    <tr>\n",
       "      <th>AAPL</th>\n",
       "      <td>172.557007</td>\n",
       "      <td>-0.013492</td>\n",
       "      <td>0.188448</td>\n",
       "      <td>72.685668</td>\n",
       "      <td>186.475519</td>\n",
       "      <td>184.511592</td>\n",
       "      <td>189.937574</td>\n",
       "      <td>194.716172</td>\n",
       "      <td>162.902436</td>\n",
       "      <td>166.040359</td>\n",
       "      <td>197.361084</td>\n",
       "      <td>short</td>\n",
       "    </tr>\n",
       "    <tr>\n",
       "      <th>ABBV</th>\n",
       "      <td>141.150238</td>\n",
       "      <td>-0.007177</td>\n",
       "      <td>0.208797</td>\n",
       "      <td>31.460189</td>\n",
       "      <td>140.884359</td>\n",
       "      <td>154.118351</td>\n",
       "      <td>160.623434</td>\n",
       "      <td>141.142258</td>\n",
       "      <td>130.635863</td>\n",
       "      <td>132.747406</td>\n",
       "      <td>155.765976</td>\n",
       "      <td>short</td>\n",
       "    </tr>\n",
       "    <tr>\n",
       "      <th>ABNB</th>\n",
       "      <td>122.010002</td>\n",
       "      <td>-0.028768</td>\n",
       "      <td>0.456553</td>\n",
       "      <td>45.172589</td>\n",
       "      <td>130.258200</td>\n",
       "      <td>140.167450</td>\n",
       "      <td>145.392425</td>\n",
       "      <td>130.042030</td>\n",
       "      <td>111.038970</td>\n",
       "      <td>114.089996</td>\n",
       "      <td>147.500000</td>\n",
       "      <td>short</td>\n",
       "    </tr>\n",
       "    <tr>\n",
       "      <th>ABT</th>\n",
       "      <td>92.954971</td>\n",
       "      <td>-0.013079</td>\n",
       "      <td>0.170162</td>\n",
       "      <td>45.183485</td>\n",
       "      <td>100.178232</td>\n",
       "      <td>106.883077</td>\n",
       "      <td>106.050604</td>\n",
       "      <td>98.488926</td>\n",
       "      <td>89.118164</td>\n",
       "      <td>91.033325</td>\n",
       "      <td>108.808609</td>\n",
       "      <td>buy</td>\n",
       "    </tr>\n",
       "  </tbody>\n",
       "</table>\n",
       "</div>"
      ],
      "text/plain": [
       "                                  Adjusted Close    Return  Volatility  \\\n",
       "Date                      Ticker                                         \n",
       "2023-10-24 00:00:00+00:00 A           104.928497 -0.021204    0.409553   \n",
       "                          AAPL        172.557007 -0.013492    0.188448   \n",
       "                          ABBV        141.150238 -0.007177    0.208797   \n",
       "                          ABNB        122.010002 -0.028768    0.456553   \n",
       "                          ABT          92.954971 -0.013079    0.170162   \n",
       "\n",
       "                                        RSI      SMA_50     SMA_100  \\\n",
       "Date                      Ticker                                      \n",
       "2023-10-24 00:00:00+00:00 A       56.101762  121.677983  128.300623   \n",
       "                          AAPL    72.685668  186.475519  184.511592   \n",
       "                          ABBV    31.460189  140.884359  154.118351   \n",
       "                          ABNB    45.172589  130.258200  140.167450   \n",
       "                          ABT     45.183485  100.178232  106.883077   \n",
       "\n",
       "                                     SMA_200  Upper Band  Lower Band  \\\n",
       "Date                      Ticker                                       \n",
       "2023-10-24 00:00:00+00:00 A       133.159750  115.267512   98.748279   \n",
       "                          AAPL    189.937574  194.716172  162.902436   \n",
       "                          ABBV    160.623434  141.142258  130.635863   \n",
       "                          ABNB    145.392425  130.042030  111.038970   \n",
       "                          ABT     106.050604   98.488926   89.118164   \n",
       "\n",
       "                                     Support  Resistance Action  \n",
       "Date                      Ticker                                 \n",
       "2023-10-24 00:00:00+00:00 A       100.488609  138.878296    buy  \n",
       "                          AAPL    166.040359  197.361084  short  \n",
       "                          ABBV    132.747406  155.765976  short  \n",
       "                          ABNB    114.089996  147.500000  short  \n",
       "                          ABT      91.033325  108.808609    buy  "
      ]
     },
     "execution_count": 7,
     "metadata": {},
     "output_type": "execute_result"
    }
   ],
   "source": [
    "sp500_df.set_index(['Date','Ticker'], inplace=True)\n",
    "sp500_df.head()"
   ]
  },
  {
   "cell_type": "code",
   "execution_count": 8,
   "metadata": {},
   "outputs": [
    {
     "data": {
      "text/html": [
       "<div>\n",
       "<style scoped>\n",
       "    .dataframe tbody tr th:only-of-type {\n",
       "        vertical-align: middle;\n",
       "    }\n",
       "\n",
       "    .dataframe tbody tr th {\n",
       "        vertical-align: top;\n",
       "    }\n",
       "\n",
       "    .dataframe thead th {\n",
       "        text-align: right;\n",
       "    }\n",
       "</style>\n",
       "<table border=\"1\" class=\"dataframe\">\n",
       "  <thead>\n",
       "    <tr style=\"text-align: right;\">\n",
       "      <th></th>\n",
       "      <th></th>\n",
       "      <th>Adjusted Close</th>\n",
       "      <th>Volatility</th>\n",
       "      <th>RSI</th>\n",
       "      <th>SMA_50</th>\n",
       "      <th>SMA_100</th>\n",
       "      <th>SMA_200</th>\n",
       "      <th>Upper Band</th>\n",
       "      <th>Lower Band</th>\n",
       "      <th>Support</th>\n",
       "      <th>Resistance</th>\n",
       "    </tr>\n",
       "    <tr>\n",
       "      <th>Date</th>\n",
       "      <th>Ticker</th>\n",
       "      <th></th>\n",
       "      <th></th>\n",
       "      <th></th>\n",
       "      <th></th>\n",
       "      <th></th>\n",
       "      <th></th>\n",
       "      <th></th>\n",
       "      <th></th>\n",
       "      <th></th>\n",
       "      <th></th>\n",
       "    </tr>\n",
       "  </thead>\n",
       "  <tbody>\n",
       "    <tr>\n",
       "      <th rowspan=\"5\" valign=\"top\">2023-10-24 00:00:00+00:00</th>\n",
       "      <th>A</th>\n",
       "      <td>104.928497</td>\n",
       "      <td>0.409553</td>\n",
       "      <td>56.101762</td>\n",
       "      <td>121.677983</td>\n",
       "      <td>128.300623</td>\n",
       "      <td>133.159750</td>\n",
       "      <td>115.267512</td>\n",
       "      <td>98.748279</td>\n",
       "      <td>100.488609</td>\n",
       "      <td>138.878296</td>\n",
       "    </tr>\n",
       "    <tr>\n",
       "      <th>AAPL</th>\n",
       "      <td>172.557007</td>\n",
       "      <td>0.188448</td>\n",
       "      <td>72.685668</td>\n",
       "      <td>186.475519</td>\n",
       "      <td>184.511592</td>\n",
       "      <td>189.937574</td>\n",
       "      <td>194.716172</td>\n",
       "      <td>162.902436</td>\n",
       "      <td>166.040359</td>\n",
       "      <td>197.361084</td>\n",
       "    </tr>\n",
       "    <tr>\n",
       "      <th>ABBV</th>\n",
       "      <td>141.150238</td>\n",
       "      <td>0.208797</td>\n",
       "      <td>31.460189</td>\n",
       "      <td>140.884359</td>\n",
       "      <td>154.118351</td>\n",
       "      <td>160.623434</td>\n",
       "      <td>141.142258</td>\n",
       "      <td>130.635863</td>\n",
       "      <td>132.747406</td>\n",
       "      <td>155.765976</td>\n",
       "    </tr>\n",
       "    <tr>\n",
       "      <th>ABNB</th>\n",
       "      <td>122.010002</td>\n",
       "      <td>0.456553</td>\n",
       "      <td>45.172589</td>\n",
       "      <td>130.258200</td>\n",
       "      <td>140.167450</td>\n",
       "      <td>145.392425</td>\n",
       "      <td>130.042030</td>\n",
       "      <td>111.038970</td>\n",
       "      <td>114.089996</td>\n",
       "      <td>147.500000</td>\n",
       "    </tr>\n",
       "    <tr>\n",
       "      <th>ABT</th>\n",
       "      <td>92.954971</td>\n",
       "      <td>0.170162</td>\n",
       "      <td>45.183485</td>\n",
       "      <td>100.178232</td>\n",
       "      <td>106.883077</td>\n",
       "      <td>106.050604</td>\n",
       "      <td>98.488926</td>\n",
       "      <td>89.118164</td>\n",
       "      <td>91.033325</td>\n",
       "      <td>108.808609</td>\n",
       "    </tr>\n",
       "  </tbody>\n",
       "</table>\n",
       "</div>"
      ],
      "text/plain": [
       "                                  Adjusted Close  Volatility        RSI  \\\n",
       "Date                      Ticker                                          \n",
       "2023-10-24 00:00:00+00:00 A           104.928497    0.409553  56.101762   \n",
       "                          AAPL        172.557007    0.188448  72.685668   \n",
       "                          ABBV        141.150238    0.208797  31.460189   \n",
       "                          ABNB        122.010002    0.456553  45.172589   \n",
       "                          ABT          92.954971    0.170162  45.183485   \n",
       "\n",
       "                                      SMA_50     SMA_100     SMA_200  \\\n",
       "Date                      Ticker                                       \n",
       "2023-10-24 00:00:00+00:00 A       121.677983  128.300623  133.159750   \n",
       "                          AAPL    186.475519  184.511592  189.937574   \n",
       "                          ABBV    140.884359  154.118351  160.623434   \n",
       "                          ABNB    130.258200  140.167450  145.392425   \n",
       "                          ABT     100.178232  106.883077  106.050604   \n",
       "\n",
       "                                  Upper Band  Lower Band     Support  \\\n",
       "Date                      Ticker                                       \n",
       "2023-10-24 00:00:00+00:00 A       115.267512   98.748279  100.488609   \n",
       "                          AAPL    194.716172  162.902436  166.040359   \n",
       "                          ABBV    141.142258  130.635863  132.747406   \n",
       "                          ABNB    130.042030  111.038970  114.089996   \n",
       "                          ABT      98.488926   89.118164   91.033325   \n",
       "\n",
       "                                  Resistance  \n",
       "Date                      Ticker              \n",
       "2023-10-24 00:00:00+00:00 A       138.878296  \n",
       "                          AAPL    197.361084  \n",
       "                          ABBV    155.765976  \n",
       "                          ABNB    147.500000  \n",
       "                          ABT     108.808609  "
      ]
     },
     "execution_count": 8,
     "metadata": {},
     "output_type": "execute_result"
    }
   ],
   "source": [
    "# Define features (everything except the \"Ticker\" column)\n",
    "X = sp500_df.copy()\n",
    "X = X.drop([\"Action\",\"Return\"], axis=1)\n",
    "X.head()"
   ]
  },
  {
   "cell_type": "code",
   "execution_count": 9,
   "metadata": {},
   "outputs": [
    {
     "data": {
      "text/plain": [
       "array([-0.02120403, -0.01349165, -0.00717654, ..., -0.01034708,\n",
       "       -0.00815021, -0.0195054 ])"
      ]
     },
     "execution_count": 9,
     "metadata": {},
     "output_type": "execute_result"
    }
   ],
   "source": [
    "# Checkingn the unique value of the Return\n",
    "sp500_df['Return'].unique()"
   ]
  },
  {
   "cell_type": "code",
   "execution_count": 10,
   "metadata": {},
   "outputs": [
    {
     "data": {
      "text/plain": [
       "array([[-0.02120403],\n",
       "       [-0.01349165],\n",
       "       [-0.00717654]])"
      ]
     },
     "execution_count": 10,
     "metadata": {},
     "output_type": "execute_result"
    }
   ],
   "source": [
    "# Defining y\n",
    "y = sp500_df['Return'].values.reshape(-1,1)\n",
    "y[:3]"
   ]
  },
  {
   "cell_type": "code",
   "execution_count": 11,
   "metadata": {},
   "outputs": [],
   "source": [
    "# Use train_test_split to separate the data\n",
    "X_train, X_test, y_train, y_test = train_test_split(X, y, random_state=1)"
   ]
  },
  {
   "cell_type": "code",
   "execution_count": 12,
   "metadata": {},
   "outputs": [],
   "source": [
    "# Create the StandardScaler instance\n",
    "scaler = StandardScaler()"
   ]
  },
  {
   "cell_type": "code",
   "execution_count": 13,
   "metadata": {},
   "outputs": [],
   "source": [
    "# Fit the StandardScaler with the training data\n",
    "X_scaler = scaler.fit(X_train)"
   ]
  },
  {
   "cell_type": "code",
   "execution_count": 14,
   "metadata": {},
   "outputs": [],
   "source": [
    "# Scale the training data \n",
    "X_train_scaled = X_scaler.transform(X_train)\n",
    "X_test_scaled = X_scaler.transform(X_test)"
   ]
  },
  {
   "cell_type": "markdown",
   "metadata": {},
   "source": [
    "Once data is scaled, created a decision tree instances and trained it with the (X_trained_scaled and Y_train)"
   ]
  },
  {
   "cell_type": "code",
   "execution_count": 15,
   "metadata": {},
   "outputs": [],
   "source": [
    "# Cretad the decistion tree classifier instance \n",
    "model = tree.DecisionTreeRegressor()"
   ]
  },
  {
   "cell_type": "code",
   "execution_count": 16,
   "metadata": {},
   "outputs": [],
   "source": [
    "model = model.fit(X_train_scaled, y_train)"
   ]
  },
  {
   "cell_type": "markdown",
   "metadata": {},
   "source": [
    "Validate the trained model, by predicting sp500 action predictions using the (X_test_scaled). "
   ]
  },
  {
   "cell_type": "code",
   "execution_count": 17,
   "metadata": {},
   "outputs": [],
   "source": [
    "# Making prediction using the testing data \n",
    "predictions = model.predict(X_test_scaled)"
   ]
  },
  {
   "cell_type": "markdown",
   "metadata": {},
   "source": [
    "## Model Evaluation\n",
    "Evaluate model's results, by using 'sklearn' to calculate the necessary score."
   ]
  },
  {
   "cell_type": "code",
   "execution_count": 18,
   "metadata": {},
   "outputs": [
    {
     "name": "stdout",
     "output_type": "stream",
     "text": [
      "Mean Squared Error : 0.0006647584109640664\n"
     ]
    }
   ],
   "source": [
    "# Checking the Mean Squared Error using mse \n",
    "mse = mean_squared_error(y_test, predictions)\n",
    "\n",
    "print(f\"Mean Squared Error : {mse}\")"
   ]
  },
  {
   "cell_type": "markdown",
   "metadata": {},
   "source": [
    "Visualization of the Data "
   ]
  },
  {
   "cell_type": "code",
   "execution_count": 20,
   "metadata": {},
   "outputs": [
    {
     "ename": "FileNotFoundError",
     "evalue": "No such file or directory: '<function Dot.__init__.<locals>.<lambda> at 0x49b1f3370>'",
     "output_type": "error",
     "traceback": [
      "\u001b[0;31m---------------------------------------------------------------------------\u001b[0m",
      "\u001b[0;31mTypeError\u001b[0m                                 Traceback (most recent call last)",
      "File \u001b[0;32m/opt/anaconda3/envs/dev/lib/python3.10/site-packages/IPython/core/display.py:1045\u001b[0m, in \u001b[0;36mImage._data_and_metadata\u001b[0;34m(self, always_both)\u001b[0m\n\u001b[1;32m   1044\u001b[0m \u001b[38;5;28;01mtry\u001b[39;00m:\n\u001b[0;32m-> 1045\u001b[0m     b64_data \u001b[38;5;241m=\u001b[39m \u001b[43mb2a_base64\u001b[49m\u001b[43m(\u001b[49m\u001b[38;5;28;43mself\u001b[39;49m\u001b[38;5;241;43m.\u001b[39;49m\u001b[43mdata\u001b[49m\u001b[43m,\u001b[49m\u001b[43m \u001b[49m\u001b[43mnewline\u001b[49m\u001b[38;5;241;43m=\u001b[39;49m\u001b[38;5;28;43;01mFalse\u001b[39;49;00m\u001b[43m)\u001b[49m\u001b[38;5;241m.\u001b[39mdecode(\u001b[38;5;124m\"\u001b[39m\u001b[38;5;124mascii\u001b[39m\u001b[38;5;124m\"\u001b[39m)\n\u001b[1;32m   1046\u001b[0m \u001b[38;5;28;01mexcept\u001b[39;00m \u001b[38;5;167;01mTypeError\u001b[39;00m \u001b[38;5;28;01mas\u001b[39;00m e:\n",
      "\u001b[0;31mTypeError\u001b[0m: a bytes-like object is required, not 'function'",
      "\nThe above exception was the direct cause of the following exception:\n",
      "\u001b[0;31mFileNotFoundError\u001b[0m                         Traceback (most recent call last)",
      "File \u001b[0;32m/opt/anaconda3/envs/dev/lib/python3.10/site-packages/IPython/core/formatters.py:977\u001b[0m, in \u001b[0;36mMimeBundleFormatter.__call__\u001b[0;34m(self, obj, include, exclude)\u001b[0m\n\u001b[1;32m    974\u001b[0m     method \u001b[38;5;241m=\u001b[39m get_real_method(obj, \u001b[38;5;28mself\u001b[39m\u001b[38;5;241m.\u001b[39mprint_method)\n\u001b[1;32m    976\u001b[0m     \u001b[38;5;28;01mif\u001b[39;00m method \u001b[38;5;129;01mis\u001b[39;00m \u001b[38;5;129;01mnot\u001b[39;00m \u001b[38;5;28;01mNone\u001b[39;00m:\n\u001b[0;32m--> 977\u001b[0m         \u001b[38;5;28;01mreturn\u001b[39;00m \u001b[43mmethod\u001b[49m\u001b[43m(\u001b[49m\u001b[43minclude\u001b[49m\u001b[38;5;241;43m=\u001b[39;49m\u001b[43minclude\u001b[49m\u001b[43m,\u001b[49m\u001b[43m \u001b[49m\u001b[43mexclude\u001b[49m\u001b[38;5;241;43m=\u001b[39;49m\u001b[43mexclude\u001b[49m\u001b[43m)\u001b[49m\n\u001b[1;32m    978\u001b[0m     \u001b[38;5;28;01mreturn\u001b[39;00m \u001b[38;5;28;01mNone\u001b[39;00m\n\u001b[1;32m    979\u001b[0m \u001b[38;5;28;01melse\u001b[39;00m:\n",
      "File \u001b[0;32m/opt/anaconda3/envs/dev/lib/python3.10/site-packages/IPython/core/display.py:1035\u001b[0m, in \u001b[0;36mImage._repr_mimebundle_\u001b[0;34m(self, include, exclude)\u001b[0m\n\u001b[1;32m   1033\u001b[0m \u001b[38;5;28;01mif\u001b[39;00m \u001b[38;5;28mself\u001b[39m\u001b[38;5;241m.\u001b[39membed:\n\u001b[1;32m   1034\u001b[0m     mimetype \u001b[38;5;241m=\u001b[39m \u001b[38;5;28mself\u001b[39m\u001b[38;5;241m.\u001b[39m_mimetype\n\u001b[0;32m-> 1035\u001b[0m     data, metadata \u001b[38;5;241m=\u001b[39m \u001b[38;5;28;43mself\u001b[39;49m\u001b[38;5;241;43m.\u001b[39;49m\u001b[43m_data_and_metadata\u001b[49m\u001b[43m(\u001b[49m\u001b[43malways_both\u001b[49m\u001b[38;5;241;43m=\u001b[39;49m\u001b[38;5;28;43;01mTrue\u001b[39;49;00m\u001b[43m)\u001b[49m\n\u001b[1;32m   1036\u001b[0m     \u001b[38;5;28;01mif\u001b[39;00m metadata:\n\u001b[1;32m   1037\u001b[0m         metadata \u001b[38;5;241m=\u001b[39m {mimetype: metadata}\n",
      "File \u001b[0;32m/opt/anaconda3/envs/dev/lib/python3.10/site-packages/IPython/core/display.py:1047\u001b[0m, in \u001b[0;36mImage._data_and_metadata\u001b[0;34m(self, always_both)\u001b[0m\n\u001b[1;32m   1045\u001b[0m     b64_data \u001b[38;5;241m=\u001b[39m b2a_base64(\u001b[38;5;28mself\u001b[39m\u001b[38;5;241m.\u001b[39mdata, newline\u001b[38;5;241m=\u001b[39m\u001b[38;5;28;01mFalse\u001b[39;00m)\u001b[38;5;241m.\u001b[39mdecode(\u001b[38;5;124m\"\u001b[39m\u001b[38;5;124mascii\u001b[39m\u001b[38;5;124m\"\u001b[39m)\n\u001b[1;32m   1046\u001b[0m \u001b[38;5;28;01mexcept\u001b[39;00m \u001b[38;5;167;01mTypeError\u001b[39;00m \u001b[38;5;28;01mas\u001b[39;00m e:\n\u001b[0;32m-> 1047\u001b[0m     \u001b[38;5;28;01mraise\u001b[39;00m \u001b[38;5;167;01mFileNotFoundError\u001b[39;00m(\n\u001b[1;32m   1048\u001b[0m         \u001b[38;5;124m\"\u001b[39m\u001b[38;5;124mNo such file or directory: \u001b[39m\u001b[38;5;124m'\u001b[39m\u001b[38;5;132;01m%s\u001b[39;00m\u001b[38;5;124m'\u001b[39m\u001b[38;5;124m\"\u001b[39m \u001b[38;5;241m%\u001b[39m (\u001b[38;5;28mself\u001b[39m\u001b[38;5;241m.\u001b[39mdata)) \u001b[38;5;28;01mfrom\u001b[39;00m \u001b[38;5;21;01me\u001b[39;00m\n\u001b[1;32m   1049\u001b[0m md \u001b[38;5;241m=\u001b[39m {}\n\u001b[1;32m   1050\u001b[0m \u001b[38;5;28;01mif\u001b[39;00m \u001b[38;5;28mself\u001b[39m\u001b[38;5;241m.\u001b[39mmetadata:\n",
      "\u001b[0;31mFileNotFoundError\u001b[0m: No such file or directory: '<function Dot.__init__.<locals>.<lambda> at 0x49b1f3370>'"
     ]
    },
    {
     "ename": "FileNotFoundError",
     "evalue": "No such file or directory: '<function Dot.__init__.<locals>.<lambda> at 0x49b1f3370>'",
     "output_type": "error",
     "traceback": [
      "\u001b[0;31m---------------------------------------------------------------------------\u001b[0m",
      "\u001b[0;31mTypeError\u001b[0m                                 Traceback (most recent call last)",
      "File \u001b[0;32m/opt/anaconda3/envs/dev/lib/python3.10/site-packages/IPython/core/display.py:1045\u001b[0m, in \u001b[0;36mImage._data_and_metadata\u001b[0;34m(self, always_both)\u001b[0m\n\u001b[1;32m   1044\u001b[0m \u001b[38;5;28;01mtry\u001b[39;00m:\n\u001b[0;32m-> 1045\u001b[0m     b64_data \u001b[38;5;241m=\u001b[39m \u001b[43mb2a_base64\u001b[49m\u001b[43m(\u001b[49m\u001b[38;5;28;43mself\u001b[39;49m\u001b[38;5;241;43m.\u001b[39;49m\u001b[43mdata\u001b[49m\u001b[43m,\u001b[49m\u001b[43m \u001b[49m\u001b[43mnewline\u001b[49m\u001b[38;5;241;43m=\u001b[39;49m\u001b[38;5;28;43;01mFalse\u001b[39;49;00m\u001b[43m)\u001b[49m\u001b[38;5;241m.\u001b[39mdecode(\u001b[38;5;124m\"\u001b[39m\u001b[38;5;124mascii\u001b[39m\u001b[38;5;124m\"\u001b[39m)\n\u001b[1;32m   1046\u001b[0m \u001b[38;5;28;01mexcept\u001b[39;00m \u001b[38;5;167;01mTypeError\u001b[39;00m \u001b[38;5;28;01mas\u001b[39;00m e:\n",
      "\u001b[0;31mTypeError\u001b[0m: a bytes-like object is required, not 'function'",
      "\nThe above exception was the direct cause of the following exception:\n",
      "\u001b[0;31mFileNotFoundError\u001b[0m                         Traceback (most recent call last)",
      "File \u001b[0;32m/opt/anaconda3/envs/dev/lib/python3.10/site-packages/IPython/core/formatters.py:347\u001b[0m, in \u001b[0;36mBaseFormatter.__call__\u001b[0;34m(self, obj)\u001b[0m\n\u001b[1;32m    345\u001b[0m     method \u001b[38;5;241m=\u001b[39m get_real_method(obj, \u001b[38;5;28mself\u001b[39m\u001b[38;5;241m.\u001b[39mprint_method)\n\u001b[1;32m    346\u001b[0m     \u001b[38;5;28;01mif\u001b[39;00m method \u001b[38;5;129;01mis\u001b[39;00m \u001b[38;5;129;01mnot\u001b[39;00m \u001b[38;5;28;01mNone\u001b[39;00m:\n\u001b[0;32m--> 347\u001b[0m         \u001b[38;5;28;01mreturn\u001b[39;00m \u001b[43mmethod\u001b[49m\u001b[43m(\u001b[49m\u001b[43m)\u001b[49m\n\u001b[1;32m    348\u001b[0m     \u001b[38;5;28;01mreturn\u001b[39;00m \u001b[38;5;28;01mNone\u001b[39;00m\n\u001b[1;32m    349\u001b[0m \u001b[38;5;28;01melse\u001b[39;00m:\n",
      "File \u001b[0;32m/opt/anaconda3/envs/dev/lib/python3.10/site-packages/IPython/core/display.py:1067\u001b[0m, in \u001b[0;36mImage._repr_png_\u001b[0;34m(self)\u001b[0m\n\u001b[1;32m   1065\u001b[0m \u001b[38;5;28;01mdef\u001b[39;00m \u001b[38;5;21m_repr_png_\u001b[39m(\u001b[38;5;28mself\u001b[39m):\n\u001b[1;32m   1066\u001b[0m     \u001b[38;5;28;01mif\u001b[39;00m \u001b[38;5;28mself\u001b[39m\u001b[38;5;241m.\u001b[39membed \u001b[38;5;129;01mand\u001b[39;00m \u001b[38;5;28mself\u001b[39m\u001b[38;5;241m.\u001b[39mformat \u001b[38;5;241m==\u001b[39m \u001b[38;5;28mself\u001b[39m\u001b[38;5;241m.\u001b[39m_FMT_PNG:\n\u001b[0;32m-> 1067\u001b[0m         \u001b[38;5;28;01mreturn\u001b[39;00m \u001b[38;5;28;43mself\u001b[39;49m\u001b[38;5;241;43m.\u001b[39;49m\u001b[43m_data_and_metadata\u001b[49m\u001b[43m(\u001b[49m\u001b[43m)\u001b[49m\n",
      "File \u001b[0;32m/opt/anaconda3/envs/dev/lib/python3.10/site-packages/IPython/core/display.py:1047\u001b[0m, in \u001b[0;36mImage._data_and_metadata\u001b[0;34m(self, always_both)\u001b[0m\n\u001b[1;32m   1045\u001b[0m     b64_data \u001b[38;5;241m=\u001b[39m b2a_base64(\u001b[38;5;28mself\u001b[39m\u001b[38;5;241m.\u001b[39mdata, newline\u001b[38;5;241m=\u001b[39m\u001b[38;5;28;01mFalse\u001b[39;00m)\u001b[38;5;241m.\u001b[39mdecode(\u001b[38;5;124m\"\u001b[39m\u001b[38;5;124mascii\u001b[39m\u001b[38;5;124m\"\u001b[39m)\n\u001b[1;32m   1046\u001b[0m \u001b[38;5;28;01mexcept\u001b[39;00m \u001b[38;5;167;01mTypeError\u001b[39;00m \u001b[38;5;28;01mas\u001b[39;00m e:\n\u001b[0;32m-> 1047\u001b[0m     \u001b[38;5;28;01mraise\u001b[39;00m \u001b[38;5;167;01mFileNotFoundError\u001b[39;00m(\n\u001b[1;32m   1048\u001b[0m         \u001b[38;5;124m\"\u001b[39m\u001b[38;5;124mNo such file or directory: \u001b[39m\u001b[38;5;124m'\u001b[39m\u001b[38;5;132;01m%s\u001b[39;00m\u001b[38;5;124m'\u001b[39m\u001b[38;5;124m\"\u001b[39m \u001b[38;5;241m%\u001b[39m (\u001b[38;5;28mself\u001b[39m\u001b[38;5;241m.\u001b[39mdata)) \u001b[38;5;28;01mfrom\u001b[39;00m \u001b[38;5;21;01me\u001b[39;00m\n\u001b[1;32m   1049\u001b[0m md \u001b[38;5;241m=\u001b[39m {}\n\u001b[1;32m   1050\u001b[0m \u001b[38;5;28;01mif\u001b[39;00m \u001b[38;5;28mself\u001b[39m\u001b[38;5;241m.\u001b[39mmetadata:\n",
      "\u001b[0;31mFileNotFoundError\u001b[0m: No such file or directory: '<function Dot.__init__.<locals>.<lambda> at 0x49b1f3370>'"
     ]
    },
    {
     "data": {
      "text/plain": [
       "<IPython.core.display.Image object>"
      ]
     },
     "execution_count": 20,
     "metadata": {},
     "output_type": "execute_result"
    }
   ],
   "source": [
    "# How to creata a visualization of the decision tree regression model \n",
    "# Fix bug in this code\n",
    "\n",
    "# Create DOT data\n",
    "dot_data = tree.export_graphviz(\n",
    "    model, out_file=None, feature_names=X.columns, class_names=[\"0\", \"1\"], filled=True\n",
    ")\n",
    "\n",
    "# Draw graph\n",
    "graph = pydotplus.graph_from_dot_data(dot_data)\n",
    "\n",
    "# Show graph\n",
    "Image(graph.create_png)"
   ]
  },
  {
   "cell_type": "code",
   "execution_count": null,
   "metadata": {},
   "outputs": [],
   "source": []
  }
 ],
 "metadata": {
  "kernelspec": {
   "display_name": "dev",
   "language": "python",
   "name": "python3"
  },
  "language_info": {
   "codemirror_mode": {
    "name": "ipython",
    "version": 3
   },
   "file_extension": ".py",
   "mimetype": "text/x-python",
   "name": "python",
   "nbconvert_exporter": "python",
   "pygments_lexer": "ipython3",
   "version": "3.10.14"
  }
 },
 "nbformat": 4,
 "nbformat_minor": 2
}
